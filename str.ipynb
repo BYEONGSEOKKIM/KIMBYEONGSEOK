{
  "nbformat": 4,
  "nbformat_minor": 0,
  "metadata": {
    "colab": {
      "name": "str.ipynb",
      "provenance": [],
      "authorship_tag": "ABX9TyP8xt9VdEq6X2h8DUhcU+n8",
      "include_colab_link": true
    },
    "kernelspec": {
      "name": "python3",
      "display_name": "Python 3"
    },
    "language_info": {
      "name": "python"
    }
  },
  "cells": [
    {
      "cell_type": "markdown",
      "metadata": {
        "id": "view-in-github",
        "colab_type": "text"
      },
      "source": [
        "<a href=\"https://colab.research.google.com/github/BYEONGSEOKKIM/python/blob/main/str.ipynb\" target=\"_parent\"><img src=\"https://colab.research.google.com/assets/colab-badge.svg\" alt=\"Open In Colab\"/></a>"
      ]
    },
    {
      "cell_type": "code",
      "metadata": {
        "colab": {
          "base_uri": "https://localhost:8080/"
        },
        "id": "atR_Prt5Pry8",
        "outputId": "113d9a49-370b-4d62-f48d-a4feabfc61dd"
      },
      "source": [
        "coffee_menu_str = \"에스프레소,아메리카노,카페라테,카푸치노\"\n",
        "coffee_menu_str.split(',')"
      ],
      "execution_count": 1,
      "outputs": [
        {
          "output_type": "execute_result",
          "data": {
            "text/plain": [
              "['에스프레소', '아메리카노', '카페라테', '카푸치노']"
            ]
          },
          "metadata": {
            "tags": []
          },
          "execution_count": 1
        }
      ]
    },
    {
      "cell_type": "code",
      "metadata": {
        "colab": {
          "base_uri": "https://localhost:8080/"
        },
        "id": "1n8BztUBP-cf",
        "outputId": "65439063-8993-4dcc-ec52-e15ed78b2f12"
      },
      "source": [
        "\"에스프레소,아메리카노,카페라테,카푸치노\".split(',')"
      ],
      "execution_count": 2,
      "outputs": [
        {
          "output_type": "execute_result",
          "data": {
            "text/plain": [
              "['에스프레소', '아메리카노', '카페라테', '카푸치노']"
            ]
          },
          "metadata": {
            "tags": []
          },
          "execution_count": 2
        }
      ]
    },
    {
      "cell_type": "code",
      "metadata": {
        "colab": {
          "base_uri": "https://localhost:8080/"
        },
        "id": "zJ9FhVpsQG3B",
        "outputId": "035d120e-8d95-45c0-df68-b5158e298a7f"
      },
      "source": [
        "\"에스프레소 아메리카노 카페라테 카푸치노\".split()"
      ],
      "execution_count": 3,
      "outputs": [
        {
          "output_type": "execute_result",
          "data": {
            "text/plain": [
              "['에스프레소', '아메리카노', '카페라테', '카푸치노']"
            ]
          },
          "metadata": {
            "tags": []
          },
          "execution_count": 3
        }
      ]
    },
    {
      "cell_type": "code",
      "metadata": {
        "colab": {
          "base_uri": "https://localhost:8080/"
        },
        "id": "HR-9Td66QMdI",
        "outputId": "1b922f71-bf27-4028-eedf-197b2e63cca1"
      },
      "source": [
        "\"에스프레소 \\n\\n 아메리카노 \\n 카페라테 카푸치노 \\n\\n\".split()"
      ],
      "execution_count": 4,
      "outputs": [
        {
          "output_type": "execute_result",
          "data": {
            "text/plain": [
              "['에스프레소', '아메리카노', '카페라테', '카푸치노']"
            ]
          },
          "metadata": {
            "tags": []
          },
          "execution_count": 4
        }
      ]
    },
    {
      "cell_type": "code",
      "metadata": {
        "colab": {
          "base_uri": "https://localhost:8080/"
        },
        "id": "l4OWoMqnQYGu",
        "outputId": "98e5c58a-3da8-4941-aabc-8c807536a34c"
      },
      "source": [
        "\"에스프레소 아메리카노 카페라테 카푸치노\".split(maxsplit=2)"
      ],
      "execution_count": 5,
      "outputs": [
        {
          "output_type": "execute_result",
          "data": {
            "text/plain": [
              "['에스프레소', '아메리카노', '카페라테 카푸치노']"
            ]
          },
          "metadata": {
            "tags": []
          },
          "execution_count": 5
        }
      ]
    },
    {
      "cell_type": "code",
      "metadata": {
        "colab": {
          "base_uri": "https://localhost:8080/"
        },
        "id": "YWa9Wo6wQfq6",
        "outputId": "1b63c48c-a68c-4991-b488-96de4c432099"
      },
      "source": [
        "phone_number = \"+82-01-2345-6789\"\n",
        "split_num = phone_number.split(\"-\",1)\n",
        "\n",
        "print(split_num)\n",
        "print(\"국내전화번호: {0}\".format(split_num[1]))"
      ],
      "execution_count": 6,
      "outputs": [
        {
          "output_type": "stream",
          "text": [
            "['+82', '01-2345-6789']\n",
            "국내전화번호: 01-2345-6789\n"
          ],
          "name": "stdout"
        }
      ]
    },
    {
      "cell_type": "code",
      "metadata": {
        "colab": {
          "base_uri": "https://localhost:8080/",
          "height": 34
        },
        "id": "JVnxhNJAQ-Wk",
        "outputId": "11da83f2-b5da-4052-b3b2-f4d58feaf03a"
      },
      "source": [
        "\"aaaapythonaaa\".strip('a')"
      ],
      "execution_count": 1,
      "outputs": [
        {
          "output_type": "execute_result",
          "data": {
            "application/vnd.google.colaboratory.intrinsic+json": {
              "type": "string"
            },
            "text/plain": [
              "'python'"
            ]
          },
          "metadata": {
            "tags": []
          },
          "execution_count": 1
        }
      ]
    },
    {
      "cell_type": "code",
      "metadata": {
        "colab": {
          "base_uri": "https://localhost:8080/",
          "height": 34
        },
        "id": "WU0FHglj5PSh",
        "outputId": "da6d35f1-44dc-4f77-f283-855166f9874e"
      },
      "source": [
        "test_str = \"aaabbpythonbbbaaa\"\n",
        "temp1 = test_str.strip('a')\n",
        "temp1"
      ],
      "execution_count": 2,
      "outputs": [
        {
          "output_type": "execute_result",
          "data": {
            "application/vnd.google.colaboratory.intrinsic+json": {
              "type": "string"
            },
            "text/plain": [
              "'bbpythonbbb'"
            ]
          },
          "metadata": {
            "tags": []
          },
          "execution_count": 2
        }
      ]
    },
    {
      "cell_type": "code",
      "metadata": {
        "colab": {
          "base_uri": "https://localhost:8080/",
          "height": 34
        },
        "id": "GxnOeMEd5gKz",
        "outputId": "76265c58-8057-424e-dec8-6b4ba3b0c2f0"
      },
      "source": [
        "temp1.strip('b')"
      ],
      "execution_count": 3,
      "outputs": [
        {
          "output_type": "execute_result",
          "data": {
            "application/vnd.google.colaboratory.intrinsic+json": {
              "type": "string"
            },
            "text/plain": [
              "'python'"
            ]
          },
          "metadata": {
            "tags": []
          },
          "execution_count": 3
        }
      ]
    },
    {
      "cell_type": "code",
      "metadata": {
        "colab": {
          "base_uri": "https://localhost:8080/",
          "height": 34
        },
        "id": "SpBntMxu5otY",
        "outputId": "33ea4a6c-af8e-4611-bbdc-a26da0576063"
      },
      "source": [
        "test_str.strip('ab')"
      ],
      "execution_count": 4,
      "outputs": [
        {
          "output_type": "execute_result",
          "data": {
            "application/vnd.google.colaboratory.intrinsic+json": {
              "type": "string"
            },
            "text/plain": [
              "'python'"
            ]
          },
          "metadata": {
            "tags": []
          },
          "execution_count": 4
        }
      ]
    },
    {
      "cell_type": "code",
      "metadata": {
        "colab": {
          "base_uri": "https://localhost:8080/",
          "height": 34
        },
        "id": "HIiBeeUl5u3b",
        "outputId": "0ec85b51-a6e4-424a-8a88-db2fc98ae315"
      },
      "source": [
        "test_str.strip('ba')"
      ],
      "execution_count": 5,
      "outputs": [
        {
          "output_type": "execute_result",
          "data": {
            "application/vnd.google.colaboratory.intrinsic+json": {
              "type": "string"
            },
            "text/plain": [
              "'python'"
            ]
          },
          "metadata": {
            "tags": []
          },
          "execution_count": 5
        }
      ]
    },
    {
      "cell_type": "code",
      "metadata": {
        "colab": {
          "base_uri": "https://localhost:8080/",
          "height": 34
        },
        "id": "hPmv5tIK5zpV",
        "outputId": "3052981e-fd10-4a2b-9fa2-6972f076d042"
      },
      "source": [
        "test_str_multi = \"##***!!!##..... python is powerful.!....%%!#..\"\n",
        "test_str_multi.strip('*.#!%')"
      ],
      "execution_count": 6,
      "outputs": [
        {
          "output_type": "execute_result",
          "data": {
            "application/vnd.google.colaboratory.intrinsic+json": {
              "type": "string"
            },
            "text/plain": [
              "' python is powerful'"
            ]
          },
          "metadata": {
            "tags": []
          },
          "execution_count": 6
        }
      ]
    },
    {
      "cell_type": "code",
      "metadata": {
        "colab": {
          "base_uri": "https://localhost:8080/",
          "height": 34
        },
        "id": "3Y7VRO4s6H5x",
        "outputId": "8b49b4d4-e08c-443b-c634-47472cbbc684"
      },
      "source": [
        "test_str_multi.strip('%*!#.')"
      ],
      "execution_count": 7,
      "outputs": [
        {
          "output_type": "execute_result",
          "data": {
            "application/vnd.google.colaboratory.intrinsic+json": {
              "type": "string"
            },
            "text/plain": [
              "' python is powerful'"
            ]
          },
          "metadata": {
            "tags": []
          },
          "execution_count": 7
        }
      ]
    },
    {
      "cell_type": "code",
      "metadata": {
        "colab": {
          "base_uri": "https://localhost:8080/",
          "height": 34
        },
        "id": "Sd5skSH26Qmv",
        "outputId": "a2c565a1-592a-4fb4-ddf0-5d5171b5ae2a"
      },
      "source": [
        "\"  python    \".strip(' ')"
      ],
      "execution_count": 8,
      "outputs": [
        {
          "output_type": "execute_result",
          "data": {
            "application/vnd.google.colaboratory.intrinsic+json": {
              "type": "string"
            },
            "text/plain": [
              "'python'"
            ]
          },
          "metadata": {
            "tags": []
          },
          "execution_count": 8
        }
      ]
    },
    {
      "cell_type": "code",
      "metadata": {
        "colab": {
          "base_uri": "https://localhost:8080/",
          "height": 34
        },
        "id": "z4mSQwzZ6YbV",
        "outputId": "1c23dd8e-73a6-4d9c-b8f5-f6b2f0101d6d"
      },
      "source": [
        "\"\\n python \\n\\n\".strip('\\n')"
      ],
      "execution_count": 10,
      "outputs": [
        {
          "output_type": "execute_result",
          "data": {
            "application/vnd.google.colaboratory.intrinsic+json": {
              "type": "string"
            },
            "text/plain": [
              "' python '"
            ]
          },
          "metadata": {
            "tags": []
          },
          "execution_count": 10
        }
      ]
    },
    {
      "cell_type": "code",
      "metadata": {
        "colab": {
          "base_uri": "https://localhost:8080/",
          "height": 34
        },
        "id": "L_zPWF7m6cwb",
        "outputId": "88e632da-966f-431d-d4c9-bb3956408655"
      },
      "source": [
        "\" \\n python \\n\\n\".strip()"
      ],
      "execution_count": 11,
      "outputs": [
        {
          "output_type": "execute_result",
          "data": {
            "application/vnd.google.colaboratory.intrinsic+json": {
              "type": "string"
            },
            "text/plain": [
              "'python'"
            ]
          },
          "metadata": {
            "tags": []
          },
          "execution_count": 11
        }
      ]
    },
    {
      "cell_type": "code",
      "metadata": {
        "colab": {
          "base_uri": "https://localhost:8080/",
          "height": 34
        },
        "id": "4Q-dZjtg6j3I",
        "outputId": "b18db6ad-9d78-4eef-b8eb-5254a096c1df"
      },
      "source": [
        "\"aaaBallaaa\".strip('a')"
      ],
      "execution_count": 12,
      "outputs": [
        {
          "output_type": "execute_result",
          "data": {
            "application/vnd.google.colaboratory.intrinsic+json": {
              "type": "string"
            },
            "text/plain": [
              "'Ball'"
            ]
          },
          "metadata": {
            "tags": []
          },
          "execution_count": 12
        }
      ]
    },
    {
      "cell_type": "code",
      "metadata": {
        "colab": {
          "base_uri": "https://localhost:8080/",
          "height": 34
        },
        "id": "nCrHCkwD6uip",
        "outputId": "b408c91f-b1a4-40cc-9ef2-5580cbd72a0f"
      },
      "source": [
        "\"\\n This is very \\n fast. \\n\\n\".strip()"
      ],
      "execution_count": 13,
      "outputs": [
        {
          "output_type": "execute_result",
          "data": {
            "application/vnd.google.colaboratory.intrinsic+json": {
              "type": "string"
            },
            "text/plain": [
              "'This is very \\n fast.'"
            ]
          },
          "metadata": {
            "tags": []
          },
          "execution_count": 13
        }
      ]
    },
    {
      "cell_type": "code",
      "metadata": {
        "colab": {
          "base_uri": "https://localhost:8080/"
        },
        "id": "v0YiXAYt66sD",
        "outputId": "9eea6aae-c39e-4405-c917-0ae68d9fa461"
      },
      "source": [
        "str_lr = \"000python is easy to learn.000\"\n",
        "print(str_lr.strip('0'))\n",
        "print(str_lr.lstrip('0'))\n",
        "print(str_lr.rstrip('0'))"
      ],
      "execution_count": 14,
      "outputs": [
        {
          "output_type": "stream",
          "text": [
            "python is easy to learn.\n",
            "python is easy to learn.000\n",
            "000python is easy to learn.\n"
          ],
          "name": "stdout"
        }
      ]
    },
    {
      "cell_type": "code",
      "metadata": {
        "colab": {
          "base_uri": "https://localhost:8080/"
        },
        "id": "2XD2wGql7TET",
        "outputId": "97d00e48-0703-4d5b-ba50-431f6b120cad"
      },
      "source": [
        "coffee_menu = \"에스프레소,아메리카노,   카페라테,카푸치노\"\n",
        "coffee_menu_list = coffee_menu.split(',')\n",
        "coffee_menu_list"
      ],
      "execution_count": 17,
      "outputs": [
        {
          "output_type": "execute_result",
          "data": {
            "text/plain": [
              "['에스프레소', '아메리카노', '   카페라테', '카푸치노']"
            ]
          },
          "metadata": {
            "tags": []
          },
          "execution_count": 17
        }
      ]
    },
    {
      "cell_type": "code",
      "metadata": {
        "colab": {
          "base_uri": "https://localhost:8080/"
        },
        "id": "m5EHjCY07oOi",
        "outputId": "e76ee244-6c43-469e-cb05-3ff444d3c351"
      },
      "source": [
        "coffee_list = []\n",
        "for coffee in coffee_menu_list:\n",
        "  temp=coffee.strip()\n",
        "  coffee_list.append(temp)\n",
        "print(coffee_list)"
      ],
      "execution_count": 18,
      "outputs": [
        {
          "output_type": "stream",
          "text": [
            "['에스프레소', '아메리카노', '카페라테', '카푸치노']\n"
          ],
          "name": "stdout"
        }
      ]
    },
    {
      "cell_type": "code",
      "metadata": {
        "colab": {
          "base_uri": "https://localhost:8080/"
        },
        "id": "EzfCgmgD8Cdp",
        "outputId": "a5a2ddc4-ef25-4f38-d904-35fe98d8f5bf"
      },
      "source": [
        "name1 = \"철수\"\n",
        "name2 = \"영미\"\n",
        "\n",
        "hello = \"님, 주소와 전화번호를 입력해 주세요.\"\n",
        "print(name1 + hello)\n",
        "print(name2 + hello)"
      ],
      "execution_count": 19,
      "outputs": [
        {
          "output_type": "stream",
          "text": [
            "철수님, 주소와 전화번호를 입력해 주세요.\n",
            "영미님, 주소와 전화번호를 입력해 주세요.\n"
          ],
          "name": "stdout"
        }
      ]
    },
    {
      "cell_type": "code",
      "metadata": {
        "colab": {
          "base_uri": "https://localhost:8080/"
        },
        "id": "CRgYeop_WaPy",
        "outputId": "1c2b6624-2956-4f05-d2be-c7b24426ca47"
      },
      "source": [
        "address_list = [\"서울시\", \"서초구\", \"반포대로\", \"201(반포동)\"]\n",
        "address_list"
      ],
      "execution_count": 21,
      "outputs": [
        {
          "output_type": "execute_result",
          "data": {
            "text/plain": [
              "['서울시', '서초구', '반포대로', '201(반포동)']"
            ]
          },
          "metadata": {
            "tags": []
          },
          "execution_count": 21
        }
      ]
    },
    {
      "cell_type": "code",
      "metadata": {
        "colab": {
          "base_uri": "https://localhost:8080/",
          "height": 34
        },
        "id": "Kr-wS6zGWrDR",
        "outputId": "ff974953-5720-4bda-e0a6-4bc54e436a0e"
      },
      "source": [
        "a=\" \"\n",
        "a.join(address_list)"
      ],
      "execution_count": 22,
      "outputs": [
        {
          "output_type": "execute_result",
          "data": {
            "application/vnd.google.colaboratory.intrinsic+json": {
              "type": "string"
            },
            "text/plain": [
              "'서울시 서초구 반포대로 201(반포동)'"
            ]
          },
          "metadata": {
            "tags": []
          },
          "execution_count": 22
        }
      ]
    },
    {
      "cell_type": "code",
      "metadata": {
        "colab": {
          "base_uri": "https://localhost:8080/",
          "height": 34
        },
        "id": "nbuP-GiRWzuD",
        "outputId": "e4938c28-c6be-471b-a826-04826c2dce9f"
      },
      "source": [
        "\" \".join(address_list)"
      ],
      "execution_count": 23,
      "outputs": [
        {
          "output_type": "execute_result",
          "data": {
            "application/vnd.google.colaboratory.intrinsic+json": {
              "type": "string"
            },
            "text/plain": [
              "'서울시 서초구 반포대로 201(반포동)'"
            ]
          },
          "metadata": {
            "tags": []
          },
          "execution_count": 23
        }
      ]
    },
    {
      "cell_type": "code",
      "metadata": {
        "colab": {
          "base_uri": "https://localhost:8080/",
          "height": 34
        },
        "id": "TI6xv6-zW7yN",
        "outputId": "929fbf46-de5a-4711-f26b-0d9437c7e00d"
      },
      "source": [
        "\"*^-^*\".join(address_list)"
      ],
      "execution_count": 24,
      "outputs": [
        {
          "output_type": "execute_result",
          "data": {
            "application/vnd.google.colaboratory.intrinsic+json": {
              "type": "string"
            },
            "text/plain": [
              "'서울시*^-^*서초구*^-^*반포대로*^-^*201(반포동)'"
            ]
          },
          "metadata": {
            "tags": []
          },
          "execution_count": 24
        }
      ]
    },
    {
      "cell_type": "code",
      "metadata": {
        "colab": {
          "base_uri": "https://localhost:8080/"
        },
        "id": "az81WWAUXB4G",
        "outputId": "a3b263b0-6437-4015-b279-d44cf19d0c29"
      },
      "source": [
        "str_f = \"python code.\"\n",
        "print(\"찾는 문자열의 위치:\", str_f.find(\"python\"))\n",
        "print(\"찾는 문자열의 위치:\", str_f.find(\"code\"))\n",
        "print(\"찾는 문자열의 위치:\", str_f.find(\"n\"))\n",
        "print(\"찾는 문자열의 위치:\", str_f.find(\"easy\"))"
      ],
      "execution_count": 25,
      "outputs": [
        {
          "output_type": "stream",
          "text": [
            "찾는 문자열의 위치: 0\n",
            "찾는 문자열의 위치: 7\n",
            "찾는 문자열의 위치: 5\n",
            "찾는 문자열의 위치: -1\n"
          ],
          "name": "stdout"
        }
      ]
    },
    {
      "cell_type": "code",
      "metadata": {
        "colab": {
          "base_uri": "https://localhost:8080/"
        },
        "id": "Eu3LxZO4XWfX",
        "outputId": "44ca1ed1-292d-4f8e-8bff-69b4b10af399"
      },
      "source": [
        "str_f_se = \"python is powerful. python is easy to learn\"\n",
        "\n",
        "print(str_f_se.find(\"python\", 10, 30))\n",
        "print(str_f_se.find(\"python\", 35))"
      ],
      "execution_count": 26,
      "outputs": [
        {
          "output_type": "stream",
          "text": [
            "20\n",
            "-1\n"
          ],
          "name": "stdout"
        }
      ]
    },
    {
      "cell_type": "code",
      "metadata": {
        "colab": {
          "base_uri": "https://localhost:8080/"
        },
        "id": "TIlt5qA0Xy3V",
        "outputId": "fcd5d63d-af3b-4bb5-b2d2-22d5d4cc3a13"
      },
      "source": [
        "str_c = \"python is powerful. python is easy to learn. python is open.\"\n",
        "\n",
        "print(\"python의 개수는?:\", str_c.count(\"python\"))\n",
        "print(\"powerful의 개수는?:\", str_c.count(\"powerful\"))\n",
        "print(\"IPython의 개수는?:\", str_c.count(\"IPython\"))"
      ],
      "execution_count": 27,
      "outputs": [
        {
          "output_type": "stream",
          "text": [
            "python의 개수는?: 3\n",
            "powerful의 개수는?: 1\n",
            "IPython의 개수는?: 0\n"
          ],
          "name": "stdout"
        }
      ]
    },
    {
      "cell_type": "code",
      "metadata": {
        "colab": {
          "base_uri": "https://localhost:8080/"
        },
        "id": "u75mbZXwYjHc",
        "outputId": "45ff3c55-049c-44de-996c-bc14909ad7a0"
      },
      "source": [
        "str_se = \"python is powerful. python is easy to learn\"\n",
        "print(\"python으로 시작?:\", str_se.startswith(\"python\"))\n",
        "print(\"is으로 시작?:\", str_se.startswith(\"is\"))\n",
        "print(\".으로 끝?:\", str_se.endswith(\".\"))\n",
        "print(\"learn으로 끝?:\", str_se.endswith(\"learn\"))"
      ],
      "execution_count": 28,
      "outputs": [
        {
          "output_type": "stream",
          "text": [
            "python으로 시작?: True\n",
            "is으로 시작?: False\n",
            ".으로 끝?: False\n",
            "learn으로 끝?: True\n"
          ],
          "name": "stdout"
        }
      ]
    },
    {
      "cell_type": "code",
      "metadata": {
        "colab": {
          "base_uri": "https://localhost:8080/"
        },
        "id": "uS_JsVToZHop",
        "outputId": "fdcdb7d4-4d19-4293-d4af-d47be20bb715"
      },
      "source": [
        "str_a = 'python is fast. python is friendly. python is open.'\n",
        "print(str_a.replace('python', 'Ipython'))\n",
        "print(str_a.replace('python', 'Ipython', 2))"
      ],
      "execution_count": 29,
      "outputs": [
        {
          "output_type": "stream",
          "text": [
            "Ipython is fast. Ipython is friendly. Ipython is open.\n",
            "Ipython is fast. Ipython is friendly. python is open.\n"
          ],
          "name": "stdout"
        }
      ]
    },
    {
      "cell_type": "code",
      "metadata": {
        "colab": {
          "base_uri": "https://localhost:8080/"
        },
        "id": "VrYlMU9fZjfm",
        "outputId": "59a29a32-84b7-48d3-d908-4c6ea48283f3"
      },
      "source": [
        "str_b = '[python] [is] [fast]'\n",
        "str_b1 = str_b.replace('[','')\n",
        "str_b2 = str_b1.replace(']','')\n",
        "\n",
        "print(str_b)\n",
        "print(str_b1)\n",
        "print(str_b2)"
      ],
      "execution_count": 31,
      "outputs": [
        {
          "output_type": "stream",
          "text": [
            "[python] [is] [fast]\n",
            "python] is] fast]\n",
            "python is fast\n"
          ],
          "name": "stdout"
        }
      ]
    },
    {
      "cell_type": "code",
      "metadata": {
        "colab": {
          "base_uri": "https://localhost:8080/"
        },
        "id": "iCkBwVAfZ41L",
        "outputId": "322a33e3-1dd6-4184-c654-de72f9688401"
      },
      "source": [
        "print('python'.isalpha())\n",
        "print('Ver.3.x'.isalpha())"
      ],
      "execution_count": 32,
      "outputs": [
        {
          "output_type": "stream",
          "text": [
            "True\n",
            "False\n"
          ],
          "name": "stdout"
        }
      ]
    },
    {
      "cell_type": "code",
      "metadata": {
        "colab": {
          "base_uri": "https://localhost:8080/"
        },
        "id": "LnDK3JXCaSvH",
        "outputId": "79173f5e-5cb5-4290-a446-a0684290b751"
      },
      "source": [
        "print('12345'.isdigit())\n",
        "print('12345abc'.isdigit())"
      ],
      "execution_count": 33,
      "outputs": [
        {
          "output_type": "stream",
          "text": [
            "True\n",
            "False\n"
          ],
          "name": "stdout"
        }
      ]
    },
    {
      "cell_type": "code",
      "metadata": {
        "colab": {
          "base_uri": "https://localhost:8080/"
        },
        "id": "Wha1rc90abEP",
        "outputId": "55c667b3-9eef-4877-a696-41bec571f4cb"
      },
      "source": [
        "print('abc1234'.isalnum())\n",
        "print('    12345abc'.isalnum())"
      ],
      "execution_count": 34,
      "outputs": [
        {
          "output_type": "stream",
          "text": [
            "True\n",
            "False\n"
          ],
          "name": "stdout"
        }
      ]
    },
    {
      "cell_type": "code",
      "metadata": {
        "colab": {
          "base_uri": "https://localhost:8080/"
        },
        "id": "XfWvbLE2aosl",
        "outputId": "23512fa5-b89e-4e27-b580-93f0e9bcbc8a"
      },
      "source": [
        "print('   '.isspace())\n",
        "print('1 '.isspace())"
      ],
      "execution_count": 35,
      "outputs": [
        {
          "output_type": "stream",
          "text": [
            "True\n",
            "False\n"
          ],
          "name": "stdout"
        }
      ]
    },
    {
      "cell_type": "code",
      "metadata": {
        "colab": {
          "base_uri": "https://localhost:8080/"
        },
        "id": "Qzd3DAqAax74",
        "outputId": "306ffd24-e65f-404b-856e-83ca1953ead4"
      },
      "source": [
        "print('PYTHON'.isupper())\n",
        "print('Python'.isupper())\n",
        "print('python'.islower())\n",
        "print('Python'.islower())\n",
        "\n"
      ],
      "execution_count": 36,
      "outputs": [
        {
          "output_type": "stream",
          "text": [
            "True\n",
            "False\n",
            "True\n",
            "False\n"
          ],
          "name": "stdout"
        }
      ]
    },
    {
      "cell_type": "code",
      "metadata": {
        "colab": {
          "base_uri": "https://localhost:8080/"
        },
        "id": "Yc34yZGCbLzg",
        "outputId": "fd5b6a4f-39e1-4566-a638-f28d6f485b4d"
      },
      "source": [
        "string1 = 'python is powerful.PYTHON IS EASY TO LEARN'\n",
        "print(string1.lower())\n",
        "print(string1.upper())"
      ],
      "execution_count": 38,
      "outputs": [
        {
          "output_type": "stream",
          "text": [
            "python is powerful.python is easy to learn\n",
            "PYTHON IS POWERFUL.PYTHON IS EASY TO LEARN\n"
          ],
          "name": "stdout"
        }
      ]
    },
    {
      "cell_type": "code",
      "metadata": {
        "colab": {
          "base_uri": "https://localhost:8080/"
        },
        "id": "-Jg5xBshbcFV",
        "outputId": "0c73d6dd-fcc0-428c-87f9-1625f925ba9d"
      },
      "source": [
        "'Python'=='python'"
      ],
      "execution_count": 39,
      "outputs": [
        {
          "output_type": "execute_result",
          "data": {
            "text/plain": [
              "False"
            ]
          },
          "metadata": {
            "tags": []
          },
          "execution_count": 39
        }
      ]
    },
    {
      "cell_type": "code",
      "metadata": {
        "colab": {
          "base_uri": "https://localhost:8080/"
        },
        "id": "yyTEZpZJbkbJ",
        "outputId": "aa07ea97-907f-43a3-ed5c-cf80b8a7d12a"
      },
      "source": [
        "print('Python'.lower()=='python'.lower())\n",
        "print('Python'.upper()=='python'.upper())"
      ],
      "execution_count": 40,
      "outputs": [
        {
          "output_type": "stream",
          "text": [
            "True\n",
            "True\n"
          ],
          "name": "stdout"
        }
      ]
    },
    {
      "cell_type": "code",
      "metadata": {
        "id": "vmqLckwSb-FF"
      },
      "source": [
        ""
      ],
      "execution_count": null,
      "outputs": []
    }
  ]
}