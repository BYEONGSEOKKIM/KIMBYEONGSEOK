{
  "nbformat": 4,
  "nbformat_minor": 0,
  "metadata": {
    "colab": {
      "name": "function2.ipynb",
      "provenance": [],
      "authorship_tag": "ABX9TyM2sJ8motZ+T9fhwnEiDnE3",
      "include_colab_link": true
    },
    "kernelspec": {
      "name": "python3",
      "display_name": "Python 3"
    },
    "language_info": {
      "name": "python"
    }
  },
  "cells": [
    {
      "cell_type": "markdown",
      "metadata": {
        "id": "view-in-github",
        "colab_type": "text"
      },
      "source": [
        "<a href=\"https://colab.research.google.com/github/BYEONGSEOKKIM/python/blob/main/function2.ipynb\" target=\"_parent\"><img src=\"https://colab.research.google.com/assets/colab-badge.svg\" alt=\"Open In Colab\"/></a>"
      ]
    },
    {
      "cell_type": "code",
      "metadata": {
        "id": "X23YUwhO4Jqu"
      },
      "source": [
        "def my_calc(x,y):\n",
        "  z= x*y\n",
        "  return z"
      ],
      "execution_count": 1,
      "outputs": []
    },
    {
      "cell_type": "code",
      "metadata": {
        "colab": {
          "base_uri": "https://localhost:8080/"
        },
        "id": "AOhLUnxr4XXf",
        "outputId": "bc872ebf-86e8-4f66-a9e4-e353be0d6a4c"
      },
      "source": [
        "my_calc(3,4)"
      ],
      "execution_count": 2,
      "outputs": [
        {
          "output_type": "execute_result",
          "data": {
            "text/plain": [
              "12"
            ]
          },
          "metadata": {
            "tags": []
          },
          "execution_count": 2
        }
      ]
    },
    {
      "cell_type": "code",
      "metadata": {
        "id": "EuRDTf_M4c6k"
      },
      "source": [
        "def my_student_info_list(student_info):\n",
        "    print(\"****************************\")\n",
        "    print(\"* 학생이름:\", student_info[0])\n",
        "    print(\"* 학급번호:\", student_info[1])\n",
        "    print(\"* 전화번호:\", student_info[2])\n",
        "    print(\"****************************\")"
      ],
      "execution_count": 3,
      "outputs": []
    },
    {
      "cell_type": "code",
      "metadata": {
        "colab": {
          "base_uri": "https://localhost:8080/"
        },
        "id": "wPqWssyW5BwP",
        "outputId": "ac5c7886-dc5d-402c-86cd-6c88744457f6"
      },
      "source": [
        "student1_info = [\"현아\", \"01\", \"01-235-6789\"]\n",
        "my_student_info_list(student1_info)"
      ],
      "execution_count": 4,
      "outputs": [
        {
          "output_type": "stream",
          "text": [
            "****************************\n",
            "* 학생이름: 현아\n",
            "* 학급번호: 01\n",
            "* 전화번호: 01-235-6789\n",
            "****************************\n"
          ],
          "name": "stdout"
        }
      ]
    },
    {
      "cell_type": "code",
      "metadata": {
        "colab": {
          "base_uri": "https://localhost:8080/"
        },
        "id": "Zl5nVmfr5S9j",
        "outputId": "1fb48a36-4227-4d72-e838-9c379dba9f31"
      },
      "source": [
        "my_student_info_list([\"진수\", \"02\", \"01-987-6543\"])"
      ],
      "execution_count": 5,
      "outputs": [
        {
          "output_type": "stream",
          "text": [
            "****************************\n",
            "* 학생이름: 진수\n",
            "* 학급번호: 02\n",
            "* 전화번호: 01-987-6543\n",
            "****************************\n"
          ],
          "name": "stdout"
        }
      ]
    },
    {
      "cell_type": "code",
      "metadata": {
        "id": "be0gj4YQ5iB3"
      },
      "source": [
        "a=5\n",
        "def func1():\n",
        "  a=1\n",
        "  print(\"[func1] 지역 변수 a=\", a)\n",
        "def func2():\n",
        "  a=2\n",
        "  print(\"[func2] 지역 변수 a=\", a)\n",
        "def func3():\n",
        "  print(\"[func3] 전역 변수 a=\", a)\n",
        "def func4():\n",
        "  global a\n",
        "  a=4\n",
        "  print(\"[func4] 전역 변수 a=\", a)"
      ],
      "execution_count": 9,
      "outputs": []
    },
    {
      "cell_type": "code",
      "metadata": {
        "colab": {
          "base_uri": "https://localhost:8080/"
        },
        "id": "cQW2p9MOJA4Z",
        "outputId": "912ca2e8-117c-4678-8070-9b5c53b4f940"
      },
      "source": [
        "func1()\n",
        "func2()\n",
        "print(\"전역변수 a=\", a)"
      ],
      "execution_count": 7,
      "outputs": [
        {
          "output_type": "stream",
          "text": [
            "[func1] 지역 변수 a= 1\n",
            "[func2] 지역 변수 a= 2\n",
            "전역변수 a= 5\n"
          ],
          "name": "stdout"
        }
      ]
    },
    {
      "cell_type": "code",
      "metadata": {
        "colab": {
          "base_uri": "https://localhost:8080/"
        },
        "id": "aeFC0_YNJJpF",
        "outputId": "14d2fe48-364f-46ff-e00c-68e9d74ff951"
      },
      "source": [
        "func3()\n",
        "func4()\n",
        "func3()"
      ],
      "execution_count": 10,
      "outputs": [
        {
          "output_type": "stream",
          "text": [
            "[func3] 전역 변수 a= 5\n",
            "[func4] 전역 변수 a= 4\n",
            "[func3] 전역 변수 a= 4\n"
          ],
          "name": "stdout"
        }
      ]
    },
    {
      "cell_type": "code",
      "metadata": {
        "colab": {
          "base_uri": "https://localhost:8080/"
        },
        "id": "VXHKU7O5JSJG",
        "outputId": "8ec26082-1bb7-4ee4-d918-9d6b9b6d9d19"
      },
      "source": [
        "(lambda x : x**2)(3)"
      ],
      "execution_count": 11,
      "outputs": [
        {
          "output_type": "execute_result",
          "data": {
            "text/plain": [
              "9"
            ]
          },
          "metadata": {
            "tags": []
          },
          "execution_count": 11
        }
      ]
    },
    {
      "cell_type": "code",
      "metadata": {
        "colab": {
          "base_uri": "https://localhost:8080/"
        },
        "id": "l7DPFvDStHRG",
        "outputId": "8b04d150-9444-4aa4-cca5-73dc44150e79"
      },
      "source": [
        "mysquare = lambda x : x**2\n",
        "mysquare(2)"
      ],
      "execution_count": 12,
      "outputs": [
        {
          "output_type": "execute_result",
          "data": {
            "text/plain": [
              "4"
            ]
          },
          "metadata": {
            "tags": []
          },
          "execution_count": 12
        }
      ]
    },
    {
      "cell_type": "code",
      "metadata": {
        "colab": {
          "base_uri": "https://localhost:8080/"
        },
        "id": "F7N0m05XtOFq",
        "outputId": "5e87c55b-7e65-4c69-cb2f-9462fb55619f"
      },
      "source": [
        "mysquare(5)"
      ],
      "execution_count": 13,
      "outputs": [
        {
          "output_type": "execute_result",
          "data": {
            "text/plain": [
              "25"
            ]
          },
          "metadata": {
            "tags": []
          },
          "execution_count": 13
        }
      ]
    },
    {
      "cell_type": "code",
      "metadata": {
        "colab": {
          "base_uri": "https://localhost:8080/"
        },
        "id": "tH5tq6YytQrH",
        "outputId": "601f5441-fd65-4c76-ffa5-bc3da61fe041"
      },
      "source": [
        "mysimpleFunc = lambda x,y,z:2*x+3*y+z\n",
        "mysimpleFunc(1,2,3)"
      ],
      "execution_count": 14,
      "outputs": [
        {
          "output_type": "execute_result",
          "data": {
            "text/plain": [
              "11"
            ]
          },
          "metadata": {
            "tags": []
          },
          "execution_count": 14
        }
      ]
    },
    {
      "cell_type": "code",
      "metadata": {
        "colab": {
          "base_uri": "https://localhost:8080/"
        },
        "id": "X0F9-A3bthUv",
        "outputId": "9986a5f1-447e-4b6f-9e84-2770708aabd9"
      },
      "source": [
        "def lamda(x,y,z):\n",
        "  simple = 2*x + 3*y +z\n",
        "  return simple\n",
        "lamda(1,2,3)"
      ],
      "execution_count": 18,
      "outputs": [
        {
          "output_type": "execute_result",
          "data": {
            "text/plain": [
              "11"
            ]
          },
          "metadata": {
            "tags": []
          },
          "execution_count": 18
        }
      ]
    },
    {
      "cell_type": "code",
      "metadata": {
        "colab": {
          "base_uri": "https://localhost:8080/"
        },
        "id": "tU9fQJpouNxg",
        "outputId": "edccdc34-e483-48b0-c474-d6b560559465"
      },
      "source": [
        "[int(0.123), int(3.5123456), int(-1.312367)]"
      ],
      "execution_count": 19,
      "outputs": [
        {
          "output_type": "execute_result",
          "data": {
            "text/plain": [
              "[0, 3, -1]"
            ]
          },
          "metadata": {
            "tags": []
          },
          "execution_count": 19
        }
      ]
    },
    {
      "cell_type": "code",
      "metadata": {
        "colab": {
          "base_uri": "https://localhost:8080/"
        },
        "id": "oixqSN6A44Ng",
        "outputId": "d682d2ff-58c2-4678-9838-3af922608fa5"
      },
      "source": [
        "[int('1234'), int('5678'), int('-9012') ]"
      ],
      "execution_count": 20,
      "outputs": [
        {
          "output_type": "execute_result",
          "data": {
            "text/plain": [
              "[1234, 5678, -9012]"
            ]
          },
          "metadata": {
            "tags": []
          },
          "execution_count": 20
        }
      ]
    },
    {
      "cell_type": "code",
      "metadata": {
        "colab": {
          "base_uri": "https://localhost:8080/"
        },
        "id": "TgOTnqRw5GMI",
        "outputId": "32b04e32-8c5f-4ead-86bf-bf8da7acb4e3"
      },
      "source": [
        "[float(0), float(123), float(-567)]"
      ],
      "execution_count": 21,
      "outputs": [
        {
          "output_type": "execute_result",
          "data": {
            "text/plain": [
              "[0.0, 123.0, -567.0]"
            ]
          },
          "metadata": {
            "tags": []
          },
          "execution_count": 21
        }
      ]
    },
    {
      "cell_type": "code",
      "metadata": {
        "colab": {
          "base_uri": "https://localhost:8080/"
        },
        "id": "7hZCMNTJ5QBA",
        "outputId": "372fcf88-d3c8-4199-e788-4a1b61c300fe"
      },
      "source": [
        "[float('10'), float('0.123'), float('-567.89')]"
      ],
      "execution_count": 22,
      "outputs": [
        {
          "output_type": "execute_result",
          "data": {
            "text/plain": [
              "[10.0, 0.123, -567.89]"
            ]
          },
          "metadata": {
            "tags": []
          },
          "execution_count": 22
        }
      ]
    },
    {
      "cell_type": "code",
      "metadata": {
        "colab": {
          "base_uri": "https://localhost:8080/"
        },
        "id": "KmR11RTB5brT",
        "outputId": "6ef7f8a5-b4ab-49d2-81ca-59bf8266a0ae"
      },
      "source": [
        "[str(123),str(459678), str(-987)]"
      ],
      "execution_count": 23,
      "outputs": [
        {
          "output_type": "execute_result",
          "data": {
            "text/plain": [
              "['123', '459678', '-987']"
            ]
          },
          "metadata": {
            "tags": []
          },
          "execution_count": 23
        }
      ]
    },
    {
      "cell_type": "code",
      "metadata": {
        "colab": {
          "base_uri": "https://localhost:8080/"
        },
        "id": "pjRbp4d35i47",
        "outputId": "06a743cd-29f6-43f7-9c7a-486bfe5c989c"
      },
      "source": [
        "[str(0.123), str(345.678), str(-5.987)]"
      ],
      "execution_count": 24,
      "outputs": [
        {
          "output_type": "execute_result",
          "data": {
            "text/plain": [
              "['0.123', '345.678', '-5.987']"
            ]
          },
          "metadata": {
            "tags": []
          },
          "execution_count": 24
        }
      ]
    },
    {
      "cell_type": "code",
      "metadata": {
        "id": "sFLYUY5c5vvo"
      },
      "source": [
        "list_data = ['abc', 1, 2, 'def']\n",
        "tuple_data = ('abc', 1, 2, 'def')\n",
        "set_data = {'abc', 1, 2, 'def'}"
      ],
      "execution_count": 26,
      "outputs": []
    },
    {
      "cell_type": "code",
      "metadata": {
        "colab": {
          "base_uri": "https://localhost:8080/"
        },
        "id": "Dabr2KtE5_Jg",
        "outputId": "6d55f802-8d4a-4750-994c-d1ffafbcf862"
      },
      "source": [
        "[type(list_data), type(tuple_data), type(set_data)]"
      ],
      "execution_count": 27,
      "outputs": [
        {
          "output_type": "execute_result",
          "data": {
            "text/plain": [
              "[list, tuple, set]"
            ]
          },
          "metadata": {
            "tags": []
          },
          "execution_count": 27
        }
      ]
    },
    {
      "cell_type": "code",
      "metadata": {
        "colab": {
          "base_uri": "https://localhost:8080/"
        },
        "id": "jcMCfFLe6Laq",
        "outputId": "ab2d7139-4711-4c1a-a8a2-82c6d2a8391f"
      },
      "source": [
        "print(\"리스트로 변환:\", list(tuple_data), list(set_data))"
      ],
      "execution_count": 28,
      "outputs": [
        {
          "output_type": "stream",
          "text": [
            "리스트로 변환: ['abc', 1, 2, 'def'] [1, 2, 'abc', 'def']\n"
          ],
          "name": "stdout"
        }
      ]
    },
    {
      "cell_type": "code",
      "metadata": {
        "colab": {
          "base_uri": "https://localhost:8080/"
        },
        "id": "yLUDLpY26Xyh",
        "outputId": "272198e6-a81d-48ae-bb61-81a454c02e98"
      },
      "source": [
        "print(\"튜플로 변환:\", tuple(list_data), tuple(set_data))"
      ],
      "execution_count": 29,
      "outputs": [
        {
          "output_type": "stream",
          "text": [
            "튜플로 변환: ('abc', 1, 2, 'def') (1, 2, 'abc', 'def')\n"
          ],
          "name": "stdout"
        }
      ]
    },
    {
      "cell_type": "code",
      "metadata": {
        "colab": {
          "base_uri": "https://localhost:8080/"
        },
        "id": "klvgkPif6l_W",
        "outputId": "b8255da0-fb48-4d89-9ac2-4fc0b1632138"
      },
      "source": [
        "print(\"세트로 변환:\", set(tuple_data), set(list_data))"
      ],
      "execution_count": 30,
      "outputs": [
        {
          "output_type": "stream",
          "text": [
            "세트로 변환: {1, 2, 'abc', 'def'} {1, 2, 'abc', 'def'}\n"
          ],
          "name": "stdout"
        }
      ]
    },
    {
      "cell_type": "code",
      "metadata": {
        "colab": {
          "base_uri": "https://localhost:8080/"
        },
        "id": "YjukjrpE6sHC",
        "outputId": "c595948a-9f64-4ccb-a56a-5ba85f03c9e2"
      },
      "source": [
        "bool(0)"
      ],
      "execution_count": 31,
      "outputs": [
        {
          "output_type": "execute_result",
          "data": {
            "text/plain": [
              "False"
            ]
          },
          "metadata": {
            "tags": []
          },
          "execution_count": 31
        }
      ]
    },
    {
      "cell_type": "code",
      "metadata": {
        "colab": {
          "base_uri": "https://localhost:8080/"
        },
        "id": "HYWP6td-AJxX",
        "outputId": "f8328ee8-2fda-4275-f683-2d9933ead25f"
      },
      "source": [
        "bool(1)\n",
        "bool(-10)\n",
        "bool(5.12)\n",
        "bool(-3.26)"
      ],
      "execution_count": 34,
      "outputs": [
        {
          "output_type": "execute_result",
          "data": {
            "text/plain": [
              "True"
            ]
          },
          "metadata": {
            "tags": []
          },
          "execution_count": 34
        }
      ]
    },
    {
      "cell_type": "code",
      "metadata": {
        "colab": {
          "base_uri": "https://localhost:8080/"
        },
        "id": "8MA4aYwzAVfj",
        "outputId": "e5639d69-df94-4865-f3b4-fbc61a2f2b18"
      },
      "source": [
        "bool('a')"
      ],
      "execution_count": 35,
      "outputs": [
        {
          "output_type": "execute_result",
          "data": {
            "text/plain": [
              "True"
            ]
          },
          "metadata": {
            "tags": []
          },
          "execution_count": 35
        }
      ]
    },
    {
      "cell_type": "code",
      "metadata": {
        "colab": {
          "base_uri": "https://localhost:8080/"
        },
        "id": "G47fCU7cAetn",
        "outputId": "3d608ea9-2a9b-4339-9ed9-da02becd1302"
      },
      "source": [
        "bool(' ')"
      ],
      "execution_count": 37,
      "outputs": [
        {
          "output_type": "execute_result",
          "data": {
            "text/plain": [
              "True"
            ]
          },
          "metadata": {
            "tags": []
          },
          "execution_count": 37
        }
      ]
    },
    {
      "cell_type": "code",
      "metadata": {
        "colab": {
          "base_uri": "https://localhost:8080/"
        },
        "id": "njO6PzceAgDB",
        "outputId": "f10db0ce-f588-42dc-d16d-a53091d95090"
      },
      "source": [
        "bool('')"
      ],
      "execution_count": 38,
      "outputs": [
        {
          "output_type": "execute_result",
          "data": {
            "text/plain": [
              "False"
            ]
          },
          "metadata": {
            "tags": []
          },
          "execution_count": 38
        }
      ]
    },
    {
      "cell_type": "code",
      "metadata": {
        "colab": {
          "base_uri": "https://localhost:8080/"
        },
        "id": "QpWDUsEqAiPh",
        "outputId": "657df1d5-0689-4a1a-ee04-9238e694aa20"
      },
      "source": [
        "bool(None)"
      ],
      "execution_count": 39,
      "outputs": [
        {
          "output_type": "execute_result",
          "data": {
            "text/plain": [
              "False"
            ]
          },
          "metadata": {
            "tags": []
          },
          "execution_count": 39
        }
      ]
    },
    {
      "cell_type": "code",
      "metadata": {
        "colab": {
          "base_uri": "https://localhost:8080/"
        },
        "id": "0sX-n6D9Akm1",
        "outputId": "36ba7058-edc5-4ad5-f6bb-c56c8d881053"
      },
      "source": [
        "myFriends = []\n",
        "bool(myFriends)"
      ],
      "execution_count": 40,
      "outputs": [
        {
          "output_type": "execute_result",
          "data": {
            "text/plain": [
              "False"
            ]
          },
          "metadata": {
            "tags": []
          },
          "execution_count": 40
        }
      ]
    },
    {
      "cell_type": "code",
      "metadata": {
        "colab": {
          "base_uri": "https://localhost:8080/"
        },
        "id": "Q4G8VVgeAtzH",
        "outputId": "94a74a42-a381-45a5-c157-d4cd4949960d"
      },
      "source": [
        "myFriends = ['James', 'Robert', 'Lisa', 'Mary']\n",
        "bool(myFriends)"
      ],
      "execution_count": 41,
      "outputs": [
        {
          "output_type": "execute_result",
          "data": {
            "text/plain": [
              "True"
            ]
          },
          "metadata": {
            "tags": []
          },
          "execution_count": 41
        }
      ]
    },
    {
      "cell_type": "code",
      "metadata": {
        "colab": {
          "base_uri": "https://localhost:8080/"
        },
        "id": "uSjHP_-2A4Oi",
        "outputId": "2975acd5-6278-4f17-dacd-181554fc6fb3"
      },
      "source": [
        "myNum = ()\n",
        "bool(myNum)"
      ],
      "execution_count": 42,
      "outputs": [
        {
          "output_type": "execute_result",
          "data": {
            "text/plain": [
              "False"
            ]
          },
          "metadata": {
            "tags": []
          },
          "execution_count": 42
        }
      ]
    },
    {
      "cell_type": "code",
      "metadata": {
        "colab": {
          "base_uri": "https://localhost:8080/"
        },
        "id": "LpbphAshA9-_",
        "outputId": "efebe521-fa92-41cf-b09f-b220c5d24ab9"
      },
      "source": [
        "myNum = (1,2,3)\n",
        "bool(myNum)"
      ],
      "execution_count": 43,
      "outputs": [
        {
          "output_type": "execute_result",
          "data": {
            "text/plain": [
              "True"
            ]
          },
          "metadata": {
            "tags": []
          },
          "execution_count": 43
        }
      ]
    },
    {
      "cell_type": "code",
      "metadata": {
        "colab": {
          "base_uri": "https://localhost:8080/"
        },
        "id": "fE0tg6-ABEFY",
        "outputId": "4daaa05b-82a2-4042-89dd-6e55fef1a99e"
      },
      "source": [
        "mysetA = {}\n",
        "bool(mysetA)"
      ],
      "execution_count": 44,
      "outputs": [
        {
          "output_type": "execute_result",
          "data": {
            "text/plain": [
              "False"
            ]
          },
          "metadata": {
            "tags": []
          },
          "execution_count": 44
        }
      ]
    },
    {
      "cell_type": "code",
      "metadata": {
        "colab": {
          "base_uri": "https://localhost:8080/"
        },
        "id": "Bpy_2pPoBImk",
        "outputId": "f84542eb-b933-49e7-8e09-2c2d6082fb82"
      },
      "source": [
        "mysetA = {10,20,30}\n",
        "bool(mysetA)"
      ],
      "execution_count": 45,
      "outputs": [
        {
          "output_type": "execute_result",
          "data": {
            "text/plain": [
              "True"
            ]
          },
          "metadata": {
            "tags": []
          },
          "execution_count": 45
        }
      ]
    },
    {
      "cell_type": "code",
      "metadata": {
        "id": "6oKZF59uBNLU"
      },
      "source": [
        "name_list= ['김병석','최진우','이우혁']\n"
      ],
      "execution_count": 47,
      "outputs": []
    },
    {
      "cell_type": "code",
      "metadata": {
        "id": "yv3iPeR9EhC-"
      },
      "source": [
        "def NameSearch(name):\n",
        "  if bool(name):\n",
        "    print(\"입력된 이름:\", name)\n",
        "  else:\n",
        "    print(\"입력된 이름이 없습니다\")"
      ],
      "execution_count": 66,
      "outputs": []
    },
    {
      "cell_type": "code",
      "metadata": {
        "colab": {
          "base_uri": "https://localhost:8080/"
        },
        "id": "W9BwTnCIEo2W",
        "outputId": "5c14817f-ccdf-403f-9f2b-8c2ba06a6809"
      },
      "source": [
        "NameSearch(\"김병석\")"
      ],
      "execution_count": 69,
      "outputs": [
        {
          "output_type": "stream",
          "text": [
            "입력된 이름: 김병석\n"
          ],
          "name": "stdout"
        }
      ]
    },
    {
      "cell_type": "code",
      "metadata": {
        "colab": {
          "base_uri": "https://localhost:8080/"
        },
        "id": "O94rPO0eJNKs",
        "outputId": "430ce772-1bf0-44ca-b1fd-eda59c07bb00"
      },
      "source": [
        "NameSearch(\"\")"
      ],
      "execution_count": 71,
      "outputs": [
        {
          "output_type": "stream",
          "text": [
            "입력된 이름이 없습니다\n"
          ],
          "name": "stdout"
        }
      ]
    },
    {
      "cell_type": "code",
      "metadata": {
        "colab": {
          "base_uri": "https://localhost:8080/"
        },
        "id": "eIiI-T80Jau9",
        "outputId": "eb76751c-74ee-4fdb-c556-bc2dba9db424"
      },
      "source": [
        "myNum = [10,5,12,0,3.5,99.5,42]\n",
        "[min(myNum), max(myNum)]"
      ],
      "execution_count": 74,
      "outputs": [
        {
          "output_type": "execute_result",
          "data": {
            "text/plain": [
              "[0, 99.5]"
            ]
          },
          "metadata": {
            "tags": []
          },
          "execution_count": 74
        }
      ]
    },
    {
      "cell_type": "code",
      "metadata": {
        "colab": {
          "base_uri": "https://localhost:8080/"
        },
        "id": "EndrrvzEN6sw",
        "outputId": "3249d907-7382-437d-a546-45ea97777dc4"
      },
      "source": [
        "mystr = 'zxyabc'\n",
        "[min(mystr), max(mystr)]"
      ],
      "execution_count": 75,
      "outputs": [
        {
          "output_type": "execute_result",
          "data": {
            "text/plain": [
              "['a', 'z']"
            ]
          },
          "metadata": {
            "tags": []
          },
          "execution_count": 75
        }
      ]
    },
    {
      "cell_type": "code",
      "metadata": {
        "colab": {
          "base_uri": "https://localhost:8080/"
        },
        "id": "PkbKRjdbOLtK",
        "outputId": "918d4a4b-9737-4720-cdb7-09e9bde30f71"
      },
      "source": [
        "myNum = (10,5,12,0,3.5,99.5,42)\n",
        "[min(myNum),max(myNum)]"
      ],
      "execution_count": 76,
      "outputs": [
        {
          "output_type": "execute_result",
          "data": {
            "text/plain": [
              "[0, 99.5]"
            ]
          },
          "metadata": {
            "tags": []
          },
          "execution_count": 76
        }
      ]
    },
    {
      "cell_type": "code",
      "metadata": {
        "colab": {
          "base_uri": "https://localhost:8080/"
        },
        "id": "BGwOf-1QOZ1M",
        "outputId": "f7eb7f92-1bbb-449c-b1ad-6fafd8bfd6ed"
      },
      "source": [
        "myNum = {\"Abc\", \"abc\", \"bcd\", \"efg\"}\n",
        "[min(myNum), max(myNum)]"
      ],
      "execution_count": 77,
      "outputs": [
        {
          "output_type": "execute_result",
          "data": {
            "text/plain": [
              "['Abc', 'efg']"
            ]
          },
          "metadata": {
            "tags": []
          },
          "execution_count": 77
        }
      ]
    },
    {
      "cell_type": "code",
      "metadata": {
        "colab": {
          "base_uri": "https://localhost:8080/"
        },
        "id": "ExXjoPi4OknT",
        "outputId": "5202689a-f134-4322-cc67-02f67a95de13"
      },
      "source": [
        "[abs(10), abs(-10)]"
      ],
      "execution_count": 78,
      "outputs": [
        {
          "output_type": "execute_result",
          "data": {
            "text/plain": [
              "[10, 10]"
            ]
          },
          "metadata": {
            "tags": []
          },
          "execution_count": 78
        }
      ]
    },
    {
      "cell_type": "code",
      "metadata": {
        "colab": {
          "base_uri": "https://localhost:8080/"
        },
        "id": "gCpKyEDuOqCr",
        "outputId": "c6d04343-f2f3-4ce7-9708-7eb72367e0fd"
      },
      "source": [
        "[abs(2.45), abs(-2.45)]"
      ],
      "execution_count": 79,
      "outputs": [
        {
          "output_type": "execute_result",
          "data": {
            "text/plain": [
              "[2.45, 2.45]"
            ]
          },
          "metadata": {
            "tags": []
          },
          "execution_count": 79
        }
      ]
    },
    {
      "cell_type": "code",
      "metadata": {
        "colab": {
          "base_uri": "https://localhost:8080/"
        },
        "id": "F22CB_mwOt_1",
        "outputId": "1980df8f-95e1-4935-e08e-57e62dacb208"
      },
      "source": [
        "sumList=[1,2,3,4,5,6,7,8,9,10]\n",
        "sum(sumList)"
      ],
      "execution_count": 81,
      "outputs": [
        {
          "output_type": "execute_result",
          "data": {
            "text/plain": [
              "55"
            ]
          },
          "metadata": {
            "tags": []
          },
          "execution_count": 81
        }
      ]
    },
    {
      "cell_type": "code",
      "metadata": {
        "colab": {
          "base_uri": "https://localhost:8080/"
        },
        "id": "5xX0GwFyOzdZ",
        "outputId": "a2a9e689-5f7e-478b-cd27-e3f384c11c3a"
      },
      "source": [
        "len(\"ab cd\")"
      ],
      "execution_count": 82,
      "outputs": [
        {
          "output_type": "execute_result",
          "data": {
            "text/plain": [
              "5"
            ]
          },
          "metadata": {
            "tags": []
          },
          "execution_count": 82
        }
      ]
    },
    {
      "cell_type": "code",
      "metadata": {
        "colab": {
          "base_uri": "https://localhost:8080/"
        },
        "id": "44889t47O4zL",
        "outputId": "3f3e0dc3-8104-49b5-b687-fe120ffd0b57"
      },
      "source": [
        "len([1,2,3,4,5,6,7,8])"
      ],
      "execution_count": 83,
      "outputs": [
        {
          "output_type": "execute_result",
          "data": {
            "text/plain": [
              "8"
            ]
          },
          "metadata": {
            "tags": []
          },
          "execution_count": 83
        }
      ]
    },
    {
      "cell_type": "code",
      "metadata": {
        "colab": {
          "base_uri": "https://localhost:8080/"
        },
        "id": "s7N8TPI6O7-t",
        "outputId": "26ea3e78-cf31-4e8d-afdb-0a7855e1e84f"
      },
      "source": [
        "len((1,2,3,4,5))"
      ],
      "execution_count": 84,
      "outputs": [
        {
          "output_type": "execute_result",
          "data": {
            "text/plain": [
              "5"
            ]
          },
          "metadata": {
            "tags": []
          },
          "execution_count": 84
        }
      ]
    },
    {
      "cell_type": "code",
      "metadata": {
        "colab": {
          "base_uri": "https://localhost:8080/"
        },
        "id": "mPwn3BVeO_3Y",
        "outputId": "baa29fa7-6e7a-48b4-a62c-ebe5b840797b"
      },
      "source": [
        "len({'a','b','c','d'})"
      ],
      "execution_count": 85,
      "outputs": [
        {
          "output_type": "execute_result",
          "data": {
            "text/plain": [
              "4"
            ]
          },
          "metadata": {
            "tags": []
          },
          "execution_count": 85
        }
      ]
    },
    {
      "cell_type": "code",
      "metadata": {
        "colab": {
          "base_uri": "https://localhost:8080/"
        },
        "id": "S5gkTHuQPF5e",
        "outputId": "0c2d0274-ed99-4fb3-a4c1-73935b552a5b"
      },
      "source": [
        "len({1:\"Thomas\",2:\"Edward\",3:\"Henry\"})"
      ],
      "execution_count": 86,
      "outputs": [
        {
          "output_type": "execute_result",
          "data": {
            "text/plain": [
              "3"
            ]
          },
          "metadata": {
            "tags": []
          },
          "execution_count": 86
        }
      ]
    },
    {
      "cell_type": "code",
      "metadata": {
        "colab": {
          "base_uri": "https://localhost:8080/"
        },
        "id": "2eIVgDiyPO8d",
        "outputId": "2b13d9e3-ef0b-4e01-9997-4c05b086d6ad"
      },
      "source": [
        "scores = [90,80,95,85]\n",
        "\n",
        "score_sum = 0\n",
        "subject_num = 0\n",
        "for score in scores:\n",
        "  score_sum = score_sum + score\n",
        "  subject_num = subject_num +1\n",
        "\n",
        "average = score_sum / subject_num\n",
        "print(\"총점:{0}, 평균:{1}\".format(score_sum,average))"
      ],
      "execution_count": 89,
      "outputs": [
        {
          "output_type": "stream",
          "text": [
            "총점:350, 평균:87.5\n"
          ],
          "name": "stdout"
        }
      ]
    },
    {
      "cell_type": "code",
      "metadata": {
        "colab": {
          "base_uri": "https://localhost:8080/"
        },
        "id": "pKknykz3YxlD",
        "outputId": "d2cc6fe0-7dd0-4764-841b-ec0b87635f72"
      },
      "source": [
        "scores = [90, 80, 95, 85]\n",
        "print(\"총점:{0}, 평균:{1}\".format(sum(scores), sum(scores)/len(scores)))"
      ],
      "execution_count": 91,
      "outputs": [
        {
          "output_type": "stream",
          "text": [
            "총점:350, 평균:87.5\n"
          ],
          "name": "stdout"
        }
      ]
    },
    {
      "cell_type": "code",
      "metadata": {
        "colab": {
          "base_uri": "https://localhost:8080/"
        },
        "id": "oGFsmUJdZPi9",
        "outputId": "226d8a60-6700-4309-aa29-9d2f4d33b61d"
      },
      "source": [
        "print(\"최하 점수: {0}, 최고 점수: {1}\".format(min(scores),max(scores)))"
      ],
      "execution_count": 92,
      "outputs": [
        {
          "output_type": "stream",
          "text": [
            "최하 점수: 80, 최고 점수: 95\n"
          ],
          "name": "stdout"
        }
      ]
    },
    {
      "cell_type": "code",
      "metadata": {
        "id": "OM1lmXfwZj0R"
      },
      "source": [
        ""
      ],
      "execution_count": null,
      "outputs": []
    }
  ]
}