{
  "nbformat": 4,
  "nbformat_minor": 0,
  "metadata": {
    "colab": {
      "name": "module.ipynb",
      "provenance": [],
      "authorship_tag": "ABX9TyOvHeUgfbShOda7eSv5bsxa",
      "include_colab_link": true
    },
    "kernelspec": {
      "name": "python3",
      "display_name": "Python 3"
    },
    "language_info": {
      "name": "python"
    }
  },
  "cells": [
    {
      "cell_type": "markdown",
      "metadata": {
        "id": "view-in-github",
        "colab_type": "text"
      },
      "source": [
        "<a href=\"https://colab.research.google.com/github/BYEONGSEOKKIM/python/blob/main/module.ipynb\" target=\"_parent\"><img src=\"https://colab.research.google.com/assets/colab-badge.svg\" alt=\"Open In Colab\"/></a>"
      ]
    },
    {
      "cell_type": "code",
      "metadata": {
        "colab": {
          "base_uri": "https://localhost:8080/"
        },
        "id": "U45g2dUrgzj2",
        "outputId": "c47b79ec-f8ba-4a5f-e21c-7404be9e78fd"
      },
      "source": [
        "%%writefile my_first_module.py\n",
        "\n",
        "def my_function():\n",
        "  print(\"This is my first module.\")"
      ],
      "execution_count": 10,
      "outputs": [
        {
          "output_type": "stream",
          "text": [
            "Overwriting my_first_module.py\n"
          ],
          "name": "stdout"
        }
      ]
    },
    {
      "cell_type": "code",
      "metadata": {
        "colab": {
          "base_uri": "https://localhost:8080/"
        },
        "id": "hgiRwGniheMZ",
        "outputId": "bfb88f49-914a-4287-f288-02542e3d2300"
      },
      "source": [
        "!cat my_first_module.py"
      ],
      "execution_count": 7,
      "outputs": [
        {
          "output_type": "stream",
          "text": [
            "\n",
            "def my_function():\n",
            "  print(\"This is my first module.\")"
          ],
          "name": "stdout"
        }
      ]
    },
    {
      "cell_type": "code",
      "metadata": {
        "colab": {
          "base_uri": "https://localhost:8080/"
        },
        "id": "Y6aYL6dIhmnN",
        "outputId": "92820d2b-169c-4452-a6fc-8aaa9f77a55a"
      },
      "source": [
        "!ls"
      ],
      "execution_count": 8,
      "outputs": [
        {
          "output_type": "stream",
          "text": [
            "my_first_module.py  __pycache__  sample_data\n"
          ],
          "name": "stdout"
        }
      ]
    },
    {
      "cell_type": "code",
      "metadata": {
        "colab": {
          "base_uri": "https://localhost:8080/"
        },
        "id": "BrgyAQ8Phqrl",
        "outputId": "2c9e9fff-6404-46e5-fcd6-6738d7fef7eb"
      },
      "source": [
        "import my_first_module\n",
        "\n",
        "my_first_module.my_function()"
      ],
      "execution_count": 11,
      "outputs": [
        {
          "output_type": "stream",
          "text": [
            "This is my fitst module.\n"
          ],
          "name": "stdout"
        }
      ]
    },
    {
      "cell_type": "code",
      "metadata": {
        "colab": {
          "base_uri": "https://localhost:8080/"
        },
        "id": "D9Mjh6Zeh31x",
        "outputId": "115c39fa-6909-4fe1-dfea-182c2cbd33a1"
      },
      "source": [
        "%%writefile my_area.py\n",
        "\n",
        "PI = 3.14\n",
        "def square_area(a):\n",
        "  return a**2\n",
        "\n",
        "def circle_area(r):\n",
        "  return PI*r**2"
      ],
      "execution_count": 14,
      "outputs": [
        {
          "output_type": "stream",
          "text": [
            "Overwriting my_area.py\n"
          ],
          "name": "stdout"
        }
      ]
    },
    {
      "cell_type": "code",
      "metadata": {
        "colab": {
          "base_uri": "https://localhost:8080/"
        },
        "id": "rWfMVBXQiUFm",
        "outputId": "aa7d48e8-cee4-4e26-812b-353f2c825b3b"
      },
      "source": [
        "import my_area\n",
        "\n",
        "print('pi =', my_area.PI)\n",
        "print('square area =', my_area.square_area(5))\n",
        "print('circle area = ', my_area.circle_area(2))"
      ],
      "execution_count": 15,
      "outputs": [
        {
          "output_type": "stream",
          "text": [
            "pi = 3.14\n",
            "square area = 25\n",
            "circle area =  12.56\n"
          ],
          "name": "stdout"
        }
      ]
    },
    {
      "cell_type": "code",
      "metadata": {
        "colab": {
          "base_uri": "https://localhost:8080/"
        },
        "id": "kS6ziGvUizdp",
        "outputId": "a925c8c6-4a03-4f8a-cbc9-631f960fd2da"
      },
      "source": [
        "dir(my_area)"
      ],
      "execution_count": 16,
      "outputs": [
        {
          "output_type": "execute_result",
          "data": {
            "text/plain": [
              "['PI',\n",
              " '__builtins__',\n",
              " '__cached__',\n",
              " '__doc__',\n",
              " '__file__',\n",
              " '__loader__',\n",
              " '__name__',\n",
              " '__package__',\n",
              " '__spec__',\n",
              " 'circle_area',\n",
              " 'square_area']"
            ]
          },
          "metadata": {
            "tags": []
          },
          "execution_count": 16
        }
      ]
    },
    {
      "cell_type": "code",
      "metadata": {
        "colab": {
          "base_uri": "https://localhost:8080/"
        },
        "id": "RFfDs4LJjEwK",
        "outputId": "6fe7d807-2615-4d52-f5ae-56c21156c6fa"
      },
      "source": [
        "from my_area import PI\n",
        "print('pi=', PI)"
      ],
      "execution_count": 17,
      "outputs": [
        {
          "output_type": "stream",
          "text": [
            "pi= 3.14\n"
          ],
          "name": "stdout"
        }
      ]
    },
    {
      "cell_type": "code",
      "metadata": {
        "colab": {
          "base_uri": "https://localhost:8080/"
        },
        "id": "Uj5ioZEAu0l2",
        "outputId": "9e57ca86-b2bd-4ee9-dd5a-1a13ccff749f"
      },
      "source": [
        "from my_area import square_area\n",
        "from my_area import circle_area\n",
        "\n",
        "print('square area =', square_area(5))\n",
        "print('circle_area=', circle_area(2))"
      ],
      "execution_count": 19,
      "outputs": [
        {
          "output_type": "stream",
          "text": [
            "square area = 25\n",
            "circle_area= 12.56\n"
          ],
          "name": "stdout"
        }
      ]
    },
    {
      "cell_type": "code",
      "metadata": {
        "colab": {
          "base_uri": "https://localhost:8080/"
        },
        "id": "Y7C7hkBhvHau",
        "outputId": "ebe5f1b8-07e0-408d-dd81-29f4eb319ab4"
      },
      "source": [
        "from my_area import PI, square_area, circle_area\n",
        "\n",
        "print('pi=',PI)\n",
        "print('square area =', square_area(5))\n",
        "print('circle_area=', circle_area(2))"
      ],
      "execution_count": 20,
      "outputs": [
        {
          "output_type": "stream",
          "text": [
            "pi= 3.14\n",
            "square area = 25\n",
            "circle_area= 12.56\n"
          ],
          "name": "stdout"
        }
      ]
    },
    {
      "cell_type": "code",
      "metadata": {
        "colab": {
          "base_uri": "https://localhost:8080/"
        },
        "id": "ctfhht4VvfIL",
        "outputId": "c71b8b23-1611-4cb4-955d-5e439af01b57"
      },
      "source": [
        "from my_area import *\n",
        "\n",
        "print('pi=',PI)\n",
        "print('square area =', square_area(5))\n",
        "print('circle_area=', circle_area(2))"
      ],
      "execution_count": 21,
      "outputs": [
        {
          "output_type": "stream",
          "text": [
            "pi= 3.14\n",
            "square area = 25\n",
            "circle_area= 12.56\n"
          ],
          "name": "stdout"
        }
      ]
    },
    {
      "cell_type": "code",
      "metadata": {
        "colab": {
          "base_uri": "https://localhost:8080/"
        },
        "id": "1wiYCiH8vm1r",
        "outputId": "702b8f96-7ba2-492c-8d5a-d357265aeac5"
      },
      "source": [
        "%%writefile my_module1.py\n",
        "\n",
        "def func1():\n",
        "  print(\"func1 in my_module1\")\n",
        "def func2():\n",
        "  print(\"func2 in my_module1\")\n"
      ],
      "execution_count": 22,
      "outputs": [
        {
          "output_type": "stream",
          "text": [
            "Writing my_module1.py\n"
          ],
          "name": "stdout"
        }
      ]
    },
    {
      "cell_type": "code",
      "metadata": {
        "colab": {
          "base_uri": "https://localhost:8080/"
        },
        "id": "nbI9jcTEv-_f",
        "outputId": "537b41dd-288c-465d-b767-1538b43e16c5"
      },
      "source": [
        "%%writefile my_module2.py\n",
        "\n",
        "def func2():\n",
        "  print(\"func2 in my_module2\")\n",
        "def func3():\n",
        "  print(\"func3 in my_module2\")"
      ],
      "execution_count": 24,
      "outputs": [
        {
          "output_type": "stream",
          "text": [
            "Writing my_module2.py\n"
          ],
          "name": "stdout"
        }
      ]
    },
    {
      "cell_type": "code",
      "metadata": {
        "colab": {
          "base_uri": "https://localhost:8080/"
        },
        "id": "jnOd0mgKwQIz",
        "outputId": "bf997e21-7ba4-4917-c2d3-01db1c46f9f1"
      },
      "source": [
        "from my_module1 import *\n",
        "from my_module2 import *\n",
        "\n",
        "func1()\n",
        "func2()\n",
        "func3()"
      ],
      "execution_count": 25,
      "outputs": [
        {
          "output_type": "stream",
          "text": [
            "func1 in my_module1\n",
            "func2 in my_module2\n",
            "func3 in my_module2\n"
          ],
          "name": "stdout"
        }
      ]
    },
    {
      "cell_type": "code",
      "metadata": {
        "colab": {
          "base_uri": "https://localhost:8080/"
        },
        "id": "fOBEYO6hwfjc",
        "outputId": "24c4c765-1b4b-425d-f606-72717052d084"
      },
      "source": [
        "from my_module2 import *\n",
        "from my_module1 import *\n",
        "\n",
        "func1()\n",
        "func2()\n",
        "func3()"
      ],
      "execution_count": 26,
      "outputs": [
        {
          "output_type": "stream",
          "text": [
            "func1 in my_module1\n",
            "func2 in my_module1\n",
            "func3 in my_module2\n"
          ],
          "name": "stdout"
        }
      ]
    },
    {
      "cell_type": "code",
      "metadata": {
        "colab": {
          "base_uri": "https://localhost:8080/"
        },
        "id": "mASf_3qhwn9t",
        "outputId": "8ff507a7-1dd0-4777-e138-845ed0399e23"
      },
      "source": [
        "import my_area as area\n",
        "\n",
        "print('pi =', area.PI)\n",
        "print('square area=',area.square_area(5))\n",
        "print('circle area =', area.circle_area(2))"
      ],
      "execution_count": 27,
      "outputs": [
        {
          "output_type": "stream",
          "text": [
            "pi = 3.14\n",
            "square area= 25\n",
            "circle area = 12.56\n"
          ],
          "name": "stdout"
        }
      ]
    },
    {
      "cell_type": "code",
      "metadata": {
        "colab": {
          "base_uri": "https://localhost:8080/"
        },
        "id": "rZJ74e2i9F4H",
        "outputId": "86d0a351-1038-41b3-bca5-ca488cf95f0e"
      },
      "source": [
        "from my_area import PI as pi\n",
        "from my_area import square_area as square\n",
        "from my_area import circle_area as circle\n",
        "\n",
        "print('pi =', pi)\n",
        "print('square_area =',square(5))\n",
        "print('circle_area =',circle(2))"
      ],
      "execution_count": 32,
      "outputs": [
        {
          "output_type": "stream",
          "text": [
            "pi = 3.14\n",
            "square_area = 25\n",
            "circle_area = 12.56\n"
          ],
          "name": "stdout"
        }
      ]
    },
    {
      "cell_type": "code",
      "metadata": {
        "colab": {
          "base_uri": "https://localhost:8080/"
        },
        "id": "z2G2Y8um9mRy",
        "outputId": "d9b89ad7-0af2-446b-c194-2a16674ac3e8"
      },
      "source": [
        "%%writefile my_module_test1.py\n",
        "\n",
        "def func(a):\n",
        "  print(\"입력 숫자:\", a)\n",
        "\n",
        "func(3)"
      ],
      "execution_count": 33,
      "outputs": [
        {
          "output_type": "stream",
          "text": [
            "Writing my_module_test1.py\n"
          ],
          "name": "stdout"
        }
      ]
    },
    {
      "cell_type": "code",
      "metadata": {
        "colab": {
          "base_uri": "https://localhost:8080/"
        },
        "id": "blA1JY41-LU6",
        "outputId": "b493cea0-8d91-4f8a-bd75-8d003ad5c14c"
      },
      "source": [
        "%run my_module_test1.py"
      ],
      "execution_count": 34,
      "outputs": [
        {
          "output_type": "stream",
          "text": [
            "입력 숫자: 3\n"
          ],
          "name": "stdout"
        }
      ]
    },
    {
      "cell_type": "code",
      "metadata": {
        "colab": {
          "base_uri": "https://localhost:8080/"
        },
        "id": "c3cUzUa_-PMv",
        "outputId": "b12b8f29-3612-44c1-8fb8-e5349ee8cfb8"
      },
      "source": [
        "import my_module_test1"
      ],
      "execution_count": 35,
      "outputs": [
        {
          "output_type": "stream",
          "text": [
            "입력 숫자: 3\n"
          ],
          "name": "stdout"
        }
      ]
    },
    {
      "cell_type": "code",
      "metadata": {
        "colab": {
          "base_uri": "https://localhost:8080/"
        },
        "id": "S9fsKfNo-WpM",
        "outputId": "6b49605b-c303-4e30-fd24-aee71a59bf78"
      },
      "source": [
        "%%writefile my_module_test2.py\n",
        "\n",
        "def func(a):\n",
        "  print(\"입력 숫자:\", a)\n",
        "if __name__ == \"__main__\":\n",
        "    print(\"모듈을 직접 실행\")\n",
        "    func(3)\n",
        "    func(4) "
      ],
      "execution_count": 58,
      "outputs": [
        {
          "output_type": "stream",
          "text": [
            "Overwriting my_module_test2.py\n"
          ],
          "name": "stdout"
        }
      ]
    },
    {
      "cell_type": "code",
      "metadata": {
        "colab": {
          "base_uri": "https://localhost:8080/"
        },
        "id": "C9TMvC7j-mrg",
        "outputId": "f5df3361-dc6d-4015-c2e7-9e8a4f7820b9"
      },
      "source": [
        "if __name__ == \"__main__\":\n",
        "  print(\"모듈을 직접 실행\")\n",
        "  func(3)\n",
        "  func(4)"
      ],
      "execution_count": 54,
      "outputs": [
        {
          "output_type": "stream",
          "text": [
            "모듈을 직접 실행\n",
            "입력 숫자: 3\n",
            "입력 숫자: 4\n"
          ],
          "name": "stdout"
        }
      ]
    },
    {
      "cell_type": "code",
      "metadata": {
        "colab": {
          "base_uri": "https://localhost:8080/"
        },
        "id": "WHnOmOcw-xsk",
        "outputId": "f88b6bdd-face-4628-f28f-cc766d6ba844"
      },
      "source": [
        "%run my_module_test2.py"
      ],
      "execution_count": 59,
      "outputs": [
        {
          "output_type": "stream",
          "text": [
            "모듈을 직접 실행\n",
            "입력 숫자: 3\n",
            "입력 숫자: 4\n"
          ],
          "name": "stdout"
        }
      ]
    },
    {
      "cell_type": "code",
      "metadata": {
        "id": "4PN0v-Bw-2xZ"
      },
      "source": [
        "import my_module_test2"
      ],
      "execution_count": 60,
      "outputs": []
    },
    {
      "cell_type": "code",
      "metadata": {
        "colab": {
          "base_uri": "https://localhost:8080/"
        },
        "id": "yf6KlemB-9fL",
        "outputId": "739d7765-8004-46e4-d86b-c64fedb4ad3d"
      },
      "source": [
        "%%writefile my_module_test3.py\n",
        "\n",
        "def func(a):\n",
        "  print(\"입력 숫자:\",a)\n",
        "if __name__ == \"__main__\":\n",
        "    print(\"모듈을 직접 실행\")\n",
        "    func(3)\n",
        "    func(4)\n",
        "else:\n",
        "  print(\"모듈을 임포트해서 실행\")"
      ],
      "execution_count": 78,
      "outputs": [
        {
          "output_type": "stream",
          "text": [
            "Overwriting my_module_test3.py\n"
          ],
          "name": "stdout"
        }
      ]
    },
    {
      "cell_type": "code",
      "metadata": {
        "colab": {
          "base_uri": "https://localhost:8080/"
        },
        "id": "qDE5QMfT_gwX",
        "outputId": "e0ae9449-6832-4b1a-e23b-2a08852c7731"
      },
      "source": [
        "%run my_module_test3.py"
      ],
      "execution_count": 70,
      "outputs": [
        {
          "output_type": "stream",
          "text": [
            "모듈을 직접 실행\n",
            "입력 숫자: 3\n",
            "입력 숫자: 4\n"
          ],
          "name": "stdout"
        }
      ]
    },
    {
      "cell_type": "code",
      "metadata": {
        "id": "gDUhjHp1_qUl"
      },
      "source": [
        "import my_module_test3"
      ],
      "execution_count": 79,
      "outputs": []
    },
    {
      "cell_type": "code",
      "metadata": {
        "colab": {
          "base_uri": "https://localhost:8080/"
        },
        "id": "KgBVlDMkCbHi",
        "outputId": "acb22201-9c49-45a9-cf81-3d57280b9836"
      },
      "source": [
        "import random\n",
        "random.random()"
      ],
      "execution_count": 80,
      "outputs": [
        {
          "output_type": "execute_result",
          "data": {
            "text/plain": [
              "0.6291703753080341"
            ]
          },
          "metadata": {
            "tags": []
          },
          "execution_count": 80
        }
      ]
    },
    {
      "cell_type": "code",
      "metadata": {
        "colab": {
          "base_uri": "https://localhost:8080/"
        },
        "id": "UZCNsvMLJrAX",
        "outputId": "d2f15b1d-88cd-49d6-d386-98268d6831f7"
      },
      "source": [
        "import random\n",
        "dice1 = random.randint(1,6)\n",
        "dice2 = random.randint(1,6)\n",
        "print('주사위 두 개의 숫자: {0},{1}'.format(dice1,dice2))"
      ],
      "execution_count": 81,
      "outputs": [
        {
          "output_type": "stream",
          "text": [
            "주사위 두 개의 숫자: 1,1\n"
          ],
          "name": "stdout"
        }
      ]
    },
    {
      "cell_type": "code",
      "metadata": {
        "colab": {
          "base_uri": "https://localhost:8080/"
        },
        "id": "d44O8JrCKBGN",
        "outputId": "bbfcee16-38f5-47c4-ba2e-8dd1a58ccbdc"
      },
      "source": [
        "import random\n",
        "\n",
        "random.randrange(0,11,2)"
      ],
      "execution_count": 82,
      "outputs": [
        {
          "output_type": "execute_result",
          "data": {
            "text/plain": [
              "10"
            ]
          },
          "metadata": {
            "tags": []
          },
          "execution_count": 82
        }
      ]
    },
    {
      "cell_type": "code",
      "metadata": {
        "colab": {
          "base_uri": "https://localhost:8080/"
        },
        "id": "dkKjrMYjKI62",
        "outputId": "cfbd9fd6-b227-4b95-b681-daf9cc0cdd7f"
      },
      "source": [
        "import random\n",
        "\n",
        "random.randrange(1,10,2)"
      ],
      "execution_count": 88,
      "outputs": [
        {
          "output_type": "execute_result",
          "data": {
            "text/plain": [
              "9"
            ]
          },
          "metadata": {
            "tags": []
          },
          "execution_count": 88
        }
      ]
    },
    {
      "cell_type": "code",
      "metadata": {
        "colab": {
          "base_uri": "https://localhost:8080/"
        },
        "id": "B8wljpM5KRCO",
        "outputId": "e0f36df1-8dc3-4f42-9a9a-a74f79125790"
      },
      "source": [
        "import random\n",
        "\n",
        "num1 = random.randrange(1,10,2)\n",
        "num2 = random.randrange(0,100,10)\n",
        "print('num1: {0}, num2:{1}'.format(num1,num2))"
      ],
      "execution_count": 84,
      "outputs": [
        {
          "output_type": "stream",
          "text": [
            "num1: 7, num2:30\n"
          ],
          "name": "stdout"
        }
      ]
    },
    {
      "cell_type": "code",
      "metadata": {
        "id": "dN9TXgmwKlDH"
      },
      "source": [
        ""
      ],
      "execution_count": null,
      "outputs": []
    }
  ]
}