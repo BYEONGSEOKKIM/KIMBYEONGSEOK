{
  "nbformat": 4,
  "nbformat_minor": 0,
  "metadata": {
    "colab": {
      "name": "stringdata.ipynb",
      "provenance": [],
      "authorship_tag": "ABX9TyO311sUDE1/D6MvLcQw1fJL",
      "include_colab_link": true
    },
    "kernelspec": {
      "name": "python3",
      "display_name": "Python 3"
    },
    "language_info": {
      "name": "python"
    }
  },
  "cells": [
    {
      "cell_type": "markdown",
      "metadata": {
        "id": "view-in-github",
        "colab_type": "text"
      },
      "source": [
        "<a href=\"https://colab.research.google.com/github/BYEONGSEOKKIM/python/blob/main/stringdata.ipynb\" target=\"_parent\"><img src=\"https://colab.research.google.com/assets/colab-badge.svg\" alt=\"Open In Colab\"/></a>"
      ]
    },
    {
      "cell_type": "code",
      "metadata": {
        "colab": {
          "base_uri": "https://localhost:8080/"
        },
        "id": "nInW67vulFcX",
        "outputId": "11e4bf1b-128b-4152-c5c7-76184235f94a"
      },
      "source": [
        "!cat coffeeShopSales.txt"
      ],
      "execution_count": 2,
      "outputs": [
        {
          "output_type": "stream",
          "text": [
            "날짜    에스프레소  아메리카노  카페라테  카푸치노\n",
            "10.15       10  \t50         45       20   \n",
            "10.16       12\t\t45         41       18\n",
            "10.17       11\t\t53         32       25\n",
            "10.18       15\t\t49         38       22"
          ],
          "name": "stdout"
        }
      ]
    },
    {
      "cell_type": "code",
      "metadata": {
        "colab": {
          "base_uri": "https://localhost:8080/"
        },
        "id": "0tqcumtHlfj4",
        "outputId": "26db898d-f60c-4d49-f7f4-d5dd5bd615f2"
      },
      "source": [
        "file_name='coffeeShopSales.txt'\n",
        "\n",
        "f=open(file_name)\n",
        "for line in f:\n",
        "  print(line,end='')\n",
        "f.close()"
      ],
      "execution_count": 4,
      "outputs": [
        {
          "output_type": "stream",
          "text": [
            "날짜    에스프레소  아메리카노  카페라테  카푸치노\n",
            "10.15       10  \t50         45       20   \n",
            "10.16       12\t\t45         41       18\n",
            "10.17       11\t\t53         32       25\n",
            "10.18       15\t\t49         38       22"
          ],
          "name": "stdout"
        }
      ]
    },
    {
      "cell_type": "code",
      "metadata": {
        "colab": {
          "base_uri": "https://localhost:8080/",
          "height": 34
        },
        "id": "dTkOD_eN1mY2",
        "outputId": "c76cf822-482a-4f1a-8026-1c9df226fcd4"
      },
      "source": [
        "f=open(file_name)\n",
        "header = f.readline()\n",
        "f.close()\n",
        "\n",
        "header"
      ],
      "execution_count": 5,
      "outputs": [
        {
          "output_type": "execute_result",
          "data": {
            "application/vnd.google.colaboratory.intrinsic+json": {
              "type": "string"
            },
            "text/plain": [
              "'날짜    에스프레소  아메리카노  카페라테  카푸치노\\n'"
            ]
          },
          "metadata": {
            "tags": []
          },
          "execution_count": 5
        }
      ]
    },
    {
      "cell_type": "code",
      "metadata": {
        "colab": {
          "base_uri": "https://localhost:8080/"
        },
        "id": "ClfGfY1e2DA3",
        "outputId": "0bce470a-7e90-49b2-94ab-5c0c4dcb303c"
      },
      "source": [
        "header_list = header.split()\n",
        "header_list"
      ],
      "execution_count": 6,
      "outputs": [
        {
          "output_type": "execute_result",
          "data": {
            "text/plain": [
              "['날짜', '에스프레소', '아메리카노', '카페라테', '카푸치노']"
            ]
          },
          "metadata": {
            "tags": []
          },
          "execution_count": 6
        }
      ]
    },
    {
      "cell_type": "code",
      "metadata": {
        "colab": {
          "base_uri": "https://localhost:8080/"
        },
        "id": "syY25GO72Sls",
        "outputId": "fdcc9081-d8cb-4b95-b63e-bab7912a026d"
      },
      "source": [
        "f= open(file_name)\n",
        "header = f.readline()\n",
        "header_list=header.split()\n",
        "\n",
        "for line in f:\n",
        "  data_list= line.split()\n",
        "  print(data_list)\n",
        "\n",
        "f.close()"
      ],
      "execution_count": 8,
      "outputs": [
        {
          "output_type": "stream",
          "text": [
            "['10.15', '10', '50', '45', '20']\n",
            "['10.16', '12', '45', '41', '18']\n",
            "['10.17', '11', '53', '32', '25']\n",
            "['10.18', '15', '49', '38', '22']\n"
          ],
          "name": "stdout"
        }
      ]
    },
    {
      "cell_type": "code",
      "metadata": {
        "id": "L7fq0JIQ3_CW"
      },
      "source": [
        ""
      ],
      "execution_count": null,
      "outputs": []
    },
    {
      "cell_type": "code",
      "metadata": {
        "colab": {
          "base_uri": "https://localhost:8080/"
        },
        "id": "WTUOxEir25Zd",
        "outputId": "7d1183f2-7ccb-4fe7-a3b0-e33ec91d597c"
      },
      "source": [
        "f=open(file_name)\n",
        "header=f.readline()\n",
        "header_list=header.split()\n",
        "\n",
        "espresso=[]\n",
        "americano=[]\n",
        "cafelatte=[]\n",
        "cappucino=[]\n",
        "\n",
        "for line in f:\n",
        "  data_list=line.split()\n",
        "\n",
        "  espresso.append(int(data_list[1]))\n",
        "  americano.append(int(data_list[2]))\n",
        "  cafelatte.append(int(data_list[3]))\n",
        "  cappucino.append(int(data_list[4]))\n",
        "\n",
        "f.close()\n",
        "\n",
        "print(\"{0}: {1}\".format(header_list[1],espresso))\n",
        "print(\"{0}: {1}\".format(header_list[2],americano))\n",
        "print(\"{0}: {1}\".format(header_list[3],cafelatte))\n",
        "print(\"{0}: {1}\".format(header_list[4],cappucino))"
      ],
      "execution_count": 10,
      "outputs": [
        {
          "output_type": "stream",
          "text": [
            "에스프레소: [10, 12, 11, 15]\n",
            "아메리카노: [50, 45, 53, 49]\n",
            "카페라테: [45, 41, 32, 38]\n",
            "카푸치노: [20, 18, 25, 22]\n"
          ],
          "name": "stdout"
        }
      ]
    },
    {
      "cell_type": "code",
      "metadata": {
        "colab": {
          "base_uri": "https://localhost:8080/"
        },
        "id": "i89HrBa04kdv",
        "outputId": "9d3fbfe3-3876-4dac-b47e-3afc4f2eb2f5"
      },
      "source": [
        "total_sum = [sum(espresso),sum(americano),sum(cafelatte),sum(cappucino)]\n",
        "total_mean= [sum(espresso)/len(espresso), sum(americano)/len(americano),sum(cafelatte)/len(cafelatte),sum(cappucino)/len(cappucino)]\n",
        "\n",
        "for k in range(len(total_sum)):\n",
        "  print('[{0}] 판매량'.format(header_list[k+1]) )\n",
        "  print('-4일 전체: {0}, 하루 평균: {1}'.format(total_sum[k], total_mean[k]))"
      ],
      "execution_count": 14,
      "outputs": [
        {
          "output_type": "stream",
          "text": [
            "[에스프레소] 판매량\n",
            "-4일 전체: 48, 하루 평균: 12.0\n",
            "[아메리카노] 판매량\n",
            "-4일 전체: 197, 하루 평균: 49.25\n",
            "[카페라테] 판매량\n",
            "-4일 전체: 156, 하루 평균: 39.0\n",
            "[카푸치노] 판매량\n",
            "-4일 전체: 85, 하루 평균: 21.25\n"
          ],
          "name": "stdout"
        }
      ]
    },
    {
      "cell_type": "code",
      "metadata": {
        "id": "HtiR9fAc6DGC"
      },
      "source": [
        ""
      ],
      "execution_count": null,
      "outputs": []
    }
  ]
}