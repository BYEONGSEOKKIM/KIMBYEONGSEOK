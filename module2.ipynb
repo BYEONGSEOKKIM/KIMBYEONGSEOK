{
  "nbformat": 4,
  "nbformat_minor": 0,
  "metadata": {
    "colab": {
      "name": "module2.ipynb",
      "provenance": [],
      "authorship_tag": "ABX9TyOM6/Lq0XYqHv+hzgln9U8I",
      "include_colab_link": true
    },
    "kernelspec": {
      "name": "python3",
      "display_name": "Python 3"
    },
    "language_info": {
      "name": "python"
    }
  },
  "cells": [
    {
      "cell_type": "markdown",
      "metadata": {
        "id": "view-in-github",
        "colab_type": "text"
      },
      "source": [
        "<a href=\"https://colab.research.google.com/github/BYEONGSEOKKIM/python/blob/main/module2.ipynb\" target=\"_parent\"><img src=\"https://colab.research.google.com/assets/colab-badge.svg\" alt=\"Open In Colab\"/></a>"
      ]
    },
    {
      "cell_type": "code",
      "metadata": {
        "colab": {
          "base_uri": "https://localhost:8080/",
          "height": 34
        },
        "id": "uLetjTbi0Mz-",
        "outputId": "b3ec9246-fbde-4c5e-b7c2-0392a7310990"
      },
      "source": [
        "import random\n",
        "menu = ['비빔밥', '된장찌개', '볶음밥', '불고기', '스파게티', '피자', '탕스육']\n",
        "random.choice(menu)"
      ],
      "execution_count": 1,
      "outputs": [
        {
          "output_type": "execute_result",
          "data": {
            "application/vnd.google.colaboratory.intrinsic+json": {
              "type": "string"
            },
            "text/plain": [
              "'불고기'"
            ]
          },
          "metadata": {
            "tags": []
          },
          "execution_count": 1
        }
      ]
    },
    {
      "cell_type": "code",
      "metadata": {
        "colab": {
          "base_uri": "https://localhost:8080/"
        },
        "id": "K4zegEYL0lyT",
        "outputId": "ca78f75a-6f48-44c5-dc31-72aee3dfe8a5"
      },
      "source": [
        "import random\n",
        "random.sample([1,2,3,4,5,],2)"
      ],
      "execution_count": 2,
      "outputs": [
        {
          "output_type": "execute_result",
          "data": {
            "text/plain": [
              "[5, 3]"
            ]
          },
          "metadata": {
            "tags": []
          },
          "execution_count": 2
        }
      ]
    },
    {
      "cell_type": "code",
      "metadata": {
        "colab": {
          "base_uri": "https://localhost:8080/"
        },
        "id": "O3neS4L70yQd",
        "outputId": "497833ec-d2f0-4124-fae1-2420ba4e0f66"
      },
      "source": [
        "import random\n",
        "menu = ['비빔밥', '된장찌개', '볶음밥', '불고기', '스파게티', '피자', '탕스육']\n",
        "random.sample(menu,2)"
      ],
      "execution_count": 3,
      "outputs": [
        {
          "output_type": "execute_result",
          "data": {
            "text/plain": [
              "['스파게티', '피자']"
            ]
          },
          "metadata": {
            "tags": []
          },
          "execution_count": 3
        }
      ]
    },
    {
      "cell_type": "code",
      "metadata": {
        "colab": {
          "base_uri": "https://localhost:8080/"
        },
        "id": "IZzgaQtX0-u0",
        "outputId": "a444a7d4-718e-4562-d34c-5897d559da44"
      },
      "source": [
        "import datetime\n",
        "\n",
        "set_day = datetime.date(2021, 8, 2)\n",
        "print(set_day)"
      ],
      "execution_count": 5,
      "outputs": [
        {
          "output_type": "stream",
          "text": [
            "2021-08-02\n"
          ],
          "name": "stdout"
        }
      ]
    },
    {
      "cell_type": "code",
      "metadata": {
        "colab": {
          "base_uri": "https://localhost:8080/"
        },
        "id": "QFEIsDRe1J0C",
        "outputId": "6e92dab1-38e6-4f08-a7eb-388126c29e7b"
      },
      "source": [
        "print('{0}/{1}/{2}'.format(set_day.year,set_day.month,set_day.day))"
      ],
      "execution_count": 11,
      "outputs": [
        {
          "output_type": "stream",
          "text": [
            "2021/8/2\n"
          ],
          "name": "stdout"
        }
      ]
    },
    {
      "cell_type": "code",
      "metadata": {
        "colab": {
          "base_uri": "https://localhost:8080/"
        },
        "id": "oWToY69l1cUR",
        "outputId": "db6e36e9-8990-4ffd-f95f-dc1762f00149"
      },
      "source": [
        "import datetime\n",
        "\n",
        "day1 = datetime.date(2021,4,1)\n",
        "day2= datetime.date(2021,7,10)\n",
        "diff_day=day2-day1\n",
        "print(diff_day)"
      ],
      "execution_count": 7,
      "outputs": [
        {
          "output_type": "stream",
          "text": [
            "100 days, 0:00:00\n"
          ],
          "name": "stdout"
        }
      ]
    },
    {
      "cell_type": "code",
      "metadata": {
        "colab": {
          "base_uri": "https://localhost:8080/"
        },
        "id": "aRlp_J3x1v0J",
        "outputId": "e2488b0d-f169-4830-b4f1-4935bdd2d0a2"
      },
      "source": [
        "type(day1)"
      ],
      "execution_count": 8,
      "outputs": [
        {
          "output_type": "execute_result",
          "data": {
            "text/plain": [
              "datetime.date"
            ]
          },
          "metadata": {
            "tags": []
          },
          "execution_count": 8
        }
      ]
    },
    {
      "cell_type": "code",
      "metadata": {
        "colab": {
          "base_uri": "https://localhost:8080/"
        },
        "id": "P5A7wxyJ1ztU",
        "outputId": "48cf8ca6-97b2-42b4-911d-55ea71dcca71"
      },
      "source": [
        "type(diff_day)"
      ],
      "execution_count": 9,
      "outputs": [
        {
          "output_type": "execute_result",
          "data": {
            "text/plain": [
              "datetime.timedelta"
            ]
          },
          "metadata": {
            "tags": []
          },
          "execution_count": 9
        }
      ]
    },
    {
      "cell_type": "code",
      "metadata": {
        "colab": {
          "base_uri": "https://localhost:8080/"
        },
        "id": "35qi4ztj119Y",
        "outputId": "ca5ffed9-6fde-4723-c25f-4d616442d88d"
      },
      "source": [
        "print(\"** 지정된 두 날짜의 차이는 {}일입니다. **\".format(diff_day.days))"
      ],
      "execution_count": 12,
      "outputs": [
        {
          "output_type": "stream",
          "text": [
            "** 지정된 두 날짜의 차이는 100일입니다. **\n"
          ],
          "name": "stdout"
        }
      ]
    },
    {
      "cell_type": "code",
      "metadata": {
        "colab": {
          "base_uri": "https://localhost:8080/"
        },
        "id": "HRhuTH4hC0q7",
        "outputId": "ec0c3a20-95d8-4d71-bb28-052ef16f3981"
      },
      "source": [
        "import datetime\n",
        "\n",
        "print(datetime.date.today())"
      ],
      "execution_count": 13,
      "outputs": [
        {
          "output_type": "stream",
          "text": [
            "2021-08-04\n"
          ],
          "name": "stdout"
        }
      ]
    },
    {
      "cell_type": "code",
      "metadata": {
        "colab": {
          "base_uri": "https://localhost:8080/"
        },
        "id": "ehvAllFyC67h",
        "outputId": "d560d937-85d7-454d-8ce0-ee38978f9e84"
      },
      "source": [
        "import datetime\n",
        "\n",
        "today = datetime.date.today()\n",
        "special_day = datetime.date(2020, 12, 31)\n",
        "print(special_day- today)"
      ],
      "execution_count": 16,
      "outputs": [
        {
          "output_type": "stream",
          "text": [
            "-216 days, 0:00:00\n"
          ],
          "name": "stdout"
        }
      ]
    },
    {
      "cell_type": "code",
      "metadata": {
        "colab": {
          "base_uri": "https://localhost:8080/"
        },
        "id": "nokZK_aODOxt",
        "outputId": "7c7fc177-6d07-4ab9-84a1-731e3ee27c56"
      },
      "source": [
        "import datetime\n",
        "\n",
        "set_time = datetime.time(15,30,45)\n",
        "print(set_time)"
      ],
      "execution_count": 17,
      "outputs": [
        {
          "output_type": "stream",
          "text": [
            "15:30:45\n"
          ],
          "name": "stdout"
        }
      ]
    },
    {
      "cell_type": "code",
      "metadata": {
        "colab": {
          "base_uri": "https://localhost:8080/"
        },
        "id": "a6Bt3DfEDgti",
        "outputId": "4ccb4b7a-2755-4134-9b04-55d162bbecb8"
      },
      "source": [
        "print('{0}:{1}:{2}'.format(set_time.hour, set_time.minute, set_time.second))"
      ],
      "execution_count": 18,
      "outputs": [
        {
          "output_type": "stream",
          "text": [
            "15:30:45\n"
          ],
          "name": "stdout"
        }
      ]
    },
    {
      "cell_type": "code",
      "metadata": {
        "colab": {
          "base_uri": "https://localhost:8080/"
        },
        "id": "u7C2Q1nQD2Wi",
        "outputId": "64921680-fc54-4dad-b9b3-03c2ec4301c9"
      },
      "source": [
        "import datetime\n",
        "\n",
        "set_dt = datetime.datetime(2021, 8, 2, 10, 20, 0)\n",
        "print(set_dt)"
      ],
      "execution_count": 20,
      "outputs": [
        {
          "output_type": "stream",
          "text": [
            "2021-08-02 10:20:00\n"
          ],
          "name": "stdout"
        }
      ]
    },
    {
      "cell_type": "code",
      "metadata": {
        "colab": {
          "base_uri": "https://localhost:8080/"
        },
        "id": "5Jl1PBNEEDgx",
        "outputId": "50e26af3-cfa7-4ee6-ed4b-58e8e46f3c22"
      },
      "source": [
        "print('날짜 {0}/{1}/{2}'.format(set_dt.year, set_dt.month, set_dt.day))\n",
        "print('시각 {0}:{1}:{2}'.format(set_dt.hour, set_dt.minute, set_dt.second))"
      ],
      "execution_count": 21,
      "outputs": [
        {
          "output_type": "stream",
          "text": [
            "날짜 2021/8/2\n",
            "시각 10:20:0\n"
          ],
          "name": "stdout"
        }
      ]
    },
    {
      "cell_type": "code",
      "metadata": {
        "colab": {
          "base_uri": "https://localhost:8080/"
        },
        "id": "qLFIC9NxEym2",
        "outputId": "8d2fe22e-93de-4b11-ec59-62deb680ed05"
      },
      "source": [
        "import datetime\n",
        "\n",
        "now = datetime.datetime.now()\n",
        "print(now)"
      ],
      "execution_count": 22,
      "outputs": [
        {
          "output_type": "stream",
          "text": [
            "2021-08-04 02:52:42.541747\n"
          ],
          "name": "stdout"
        }
      ]
    },
    {
      "cell_type": "code",
      "metadata": {
        "colab": {
          "base_uri": "https://localhost:8080/"
        },
        "id": "Ll-hTxExE87J",
        "outputId": "0d3fe46a-77cc-4591-8424-1a223cf27d06"
      },
      "source": [
        "print(\"Date & Time: {:%Y-%m-%d, %H:%M:%S}\".format(now))"
      ],
      "execution_count": 26,
      "outputs": [
        {
          "output_type": "stream",
          "text": [
            "Date & Time: 2021-08-04, 02:52:42\n"
          ],
          "name": "stdout"
        }
      ]
    },
    {
      "cell_type": "code",
      "metadata": {
        "colab": {
          "base_uri": "https://localhost:8080/"
        },
        "id": "UefCOzPOFQn_",
        "outputId": "28091a7d-1285-41c3-8eb5-b0f79c0cab2e"
      },
      "source": [
        "print(\"Date: {:%Y,%m,%d}\".format(now))\n",
        "print(\"Time: {:%H/%M/%S}\".format(now))"
      ],
      "execution_count": 27,
      "outputs": [
        {
          "output_type": "stream",
          "text": [
            "Date: 2021,08,04\n",
            "Time: 02/52/42\n"
          ],
          "name": "stdout"
        }
      ]
    },
    {
      "cell_type": "code",
      "metadata": {
        "colab": {
          "base_uri": "https://localhost:8080/"
        },
        "id": "c1KF4I-kFxG-",
        "outputId": "ecbb4e05-41a3-4a89-98b0-3b625e29e02d"
      },
      "source": [
        "now = datetime.datetime.now()\n",
        "set_dt = datetime.datetime(2020,12,1,12,30,45)\n",
        "\n",
        "print(\"현재 날짜 및 시각:\", now)\n",
        "print(\"차이:\", set_dt-now)"
      ],
      "execution_count": 28,
      "outputs": [
        {
          "output_type": "stream",
          "text": [
            "현재 날짜 및 시각: 2021-08-04 02:57:46.837288\n",
            "차이: -246 days, 9:32:58.162712\n"
          ],
          "name": "stdout"
        }
      ]
    },
    {
      "cell_type": "code",
      "metadata": {
        "colab": {
          "base_uri": "https://localhost:8080/"
        },
        "id": "oM7szhVRGHNa",
        "outputId": "2e5dce95-a499-48ac-e2d2-478f68797fb6"
      },
      "source": [
        "from datetime import date, time, datetime\n",
        "\n",
        "print(date(2021,7,1))"
      ],
      "execution_count": 29,
      "outputs": [
        {
          "output_type": "stream",
          "text": [
            "2021-07-01\n"
          ],
          "name": "stdout"
        }
      ]
    },
    {
      "cell_type": "code",
      "metadata": {
        "colab": {
          "base_uri": "https://localhost:8080/"
        },
        "id": "rkgeGdq2dBdK",
        "outputId": "a9faef14-08d9-43ea-9bce-262a851994d9"
      },
      "source": [
        "print(date.today())"
      ],
      "execution_count": 30,
      "outputs": [
        {
          "output_type": "stream",
          "text": [
            "2021-08-04\n"
          ],
          "name": "stdout"
        }
      ]
    },
    {
      "cell_type": "code",
      "metadata": {
        "colab": {
          "base_uri": "https://localhost:8080/"
        },
        "id": "OvUl-wrVdG-2",
        "outputId": "52f72fad-9526-49f0-d6bd-0c192fa717ad"
      },
      "source": [
        "print(time(15,30,45))"
      ],
      "execution_count": 31,
      "outputs": [
        {
          "output_type": "stream",
          "text": [
            "15:30:45\n"
          ],
          "name": "stdout"
        }
      ]
    },
    {
      "cell_type": "code",
      "metadata": {
        "colab": {
          "base_uri": "https://localhost:8080/"
        },
        "id": "Ta55C3aldLIo",
        "outputId": "5c9bedfe-08a9-4313-bf4a-676e899c27d9"
      },
      "source": [
        "print(datetime(2021,2,14,18,10,50))"
      ],
      "execution_count": 32,
      "outputs": [
        {
          "output_type": "stream",
          "text": [
            "2021-02-14 18:10:50\n"
          ],
          "name": "stdout"
        }
      ]
    },
    {
      "cell_type": "code",
      "metadata": {
        "colab": {
          "base_uri": "https://localhost:8080/"
        },
        "id": "8WAMIRxFdQLF",
        "outputId": "80394a0d-05e6-4d84-c4da-8b1c48ae6f92"
      },
      "source": [
        "print(datetime.now())"
      ],
      "execution_count": 33,
      "outputs": [
        {
          "output_type": "stream",
          "text": [
            "2021-08-04 04:39:08.737563\n"
          ],
          "name": "stdout"
        }
      ]
    },
    {
      "cell_type": "code",
      "metadata": {
        "colab": {
          "base_uri": "https://localhost:8080/"
        },
        "id": "OUbXXK_LdYun",
        "outputId": "f0be687a-d5f5-4fe3-bd9c-0decc33cbc4e"
      },
      "source": [
        "import calendar\n",
        "print(calendar.calendar(2021))"
      ],
      "execution_count": 35,
      "outputs": [
        {
          "output_type": "stream",
          "text": [
            "                                  2021\n",
            "\n",
            "      January                   February                   March\n",
            "Mo Tu We Th Fr Sa Su      Mo Tu We Th Fr Sa Su      Mo Tu We Th Fr Sa Su\n",
            "             1  2  3       1  2  3  4  5  6  7       1  2  3  4  5  6  7\n",
            " 4  5  6  7  8  9 10       8  9 10 11 12 13 14       8  9 10 11 12 13 14\n",
            "11 12 13 14 15 16 17      15 16 17 18 19 20 21      15 16 17 18 19 20 21\n",
            "18 19 20 21 22 23 24      22 23 24 25 26 27 28      22 23 24 25 26 27 28\n",
            "25 26 27 28 29 30 31                                29 30 31\n",
            "\n",
            "       April                      May                       June\n",
            "Mo Tu We Th Fr Sa Su      Mo Tu We Th Fr Sa Su      Mo Tu We Th Fr Sa Su\n",
            "          1  2  3  4                      1  2          1  2  3  4  5  6\n",
            " 5  6  7  8  9 10 11       3  4  5  6  7  8  9       7  8  9 10 11 12 13\n",
            "12 13 14 15 16 17 18      10 11 12 13 14 15 16      14 15 16 17 18 19 20\n",
            "19 20 21 22 23 24 25      17 18 19 20 21 22 23      21 22 23 24 25 26 27\n",
            "26 27 28 29 30            24 25 26 27 28 29 30      28 29 30\n",
            "                          31\n",
            "\n",
            "        July                     August                  September\n",
            "Mo Tu We Th Fr Sa Su      Mo Tu We Th Fr Sa Su      Mo Tu We Th Fr Sa Su\n",
            "          1  2  3  4                         1             1  2  3  4  5\n",
            " 5  6  7  8  9 10 11       2  3  4  5  6  7  8       6  7  8  9 10 11 12\n",
            "12 13 14 15 16 17 18       9 10 11 12 13 14 15      13 14 15 16 17 18 19\n",
            "19 20 21 22 23 24 25      16 17 18 19 20 21 22      20 21 22 23 24 25 26\n",
            "26 27 28 29 30 31         23 24 25 26 27 28 29      27 28 29 30\n",
            "                          30 31\n",
            "\n",
            "      October                   November                  December\n",
            "Mo Tu We Th Fr Sa Su      Mo Tu We Th Fr Sa Su      Mo Tu We Th Fr Sa Su\n",
            "             1  2  3       1  2  3  4  5  6  7             1  2  3  4  5\n",
            " 4  5  6  7  8  9 10       8  9 10 11 12 13 14       6  7  8  9 10 11 12\n",
            "11 12 13 14 15 16 17      15 16 17 18 19 20 21      13 14 15 16 17 18 19\n",
            "18 19 20 21 22 23 24      22 23 24 25 26 27 28      20 21 22 23 24 25 26\n",
            "25 26 27 28 29 30 31      29 30                     27 28 29 30 31\n",
            "\n"
          ],
          "name": "stdout"
        }
      ]
    },
    {
      "cell_type": "code",
      "metadata": {
        "colab": {
          "base_uri": "https://localhost:8080/"
        },
        "id": "REp43xnnpuA2",
        "outputId": "c24055e6-0fc0-49f9-9267-a90ff2f03aac"
      },
      "source": [
        "print(calendar.calendar(2021, m=4))"
      ],
      "execution_count": 37,
      "outputs": [
        {
          "output_type": "stream",
          "text": [
            "                                               2021\n",
            "\n",
            "      January                   February                   March                     April\n",
            "Mo Tu We Th Fr Sa Su      Mo Tu We Th Fr Sa Su      Mo Tu We Th Fr Sa Su      Mo Tu We Th Fr Sa Su\n",
            "             1  2  3       1  2  3  4  5  6  7       1  2  3  4  5  6  7                1  2  3  4\n",
            " 4  5  6  7  8  9 10       8  9 10 11 12 13 14       8  9 10 11 12 13 14       5  6  7  8  9 10 11\n",
            "11 12 13 14 15 16 17      15 16 17 18 19 20 21      15 16 17 18 19 20 21      12 13 14 15 16 17 18\n",
            "18 19 20 21 22 23 24      22 23 24 25 26 27 28      22 23 24 25 26 27 28      19 20 21 22 23 24 25\n",
            "25 26 27 28 29 30 31                                29 30 31                  26 27 28 29 30\n",
            "\n",
            "        May                       June                      July                     August\n",
            "Mo Tu We Th Fr Sa Su      Mo Tu We Th Fr Sa Su      Mo Tu We Th Fr Sa Su      Mo Tu We Th Fr Sa Su\n",
            "                1  2          1  2  3  4  5  6                1  2  3  4                         1\n",
            " 3  4  5  6  7  8  9       7  8  9 10 11 12 13       5  6  7  8  9 10 11       2  3  4  5  6  7  8\n",
            "10 11 12 13 14 15 16      14 15 16 17 18 19 20      12 13 14 15 16 17 18       9 10 11 12 13 14 15\n",
            "17 18 19 20 21 22 23      21 22 23 24 25 26 27      19 20 21 22 23 24 25      16 17 18 19 20 21 22\n",
            "24 25 26 27 28 29 30      28 29 30                  26 27 28 29 30 31         23 24 25 26 27 28 29\n",
            "31                                                                            30 31\n",
            "\n",
            "     September                  October                   November                  December\n",
            "Mo Tu We Th Fr Sa Su      Mo Tu We Th Fr Sa Su      Mo Tu We Th Fr Sa Su      Mo Tu We Th Fr Sa Su\n",
            "       1  2  3  4  5                   1  2  3       1  2  3  4  5  6  7             1  2  3  4  5\n",
            " 6  7  8  9 10 11 12       4  5  6  7  8  9 10       8  9 10 11 12 13 14       6  7  8  9 10 11 12\n",
            "13 14 15 16 17 18 19      11 12 13 14 15 16 17      15 16 17 18 19 20 21      13 14 15 16 17 18 19\n",
            "20 21 22 23 24 25 26      18 19 20 21 22 23 24      22 23 24 25 26 27 28      20 21 22 23 24 25 26\n",
            "27 28 29 30               25 26 27 28 29 30 31      29 30                     27 28 29 30 31\n",
            "\n"
          ],
          "name": "stdout"
        }
      ]
    },
    {
      "cell_type": "code",
      "metadata": {
        "colab": {
          "base_uri": "https://localhost:8080/"
        },
        "id": "P7Y77nL0p1iT",
        "outputId": "8d28dc35-4e5b-4db8-e13c-843be919abd6"
      },
      "source": [
        "print(calendar.month(2021,9))"
      ],
      "execution_count": 38,
      "outputs": [
        {
          "output_type": "stream",
          "text": [
            "   September 2021\n",
            "Mo Tu We Th Fr Sa Su\n",
            "       1  2  3  4  5\n",
            " 6  7  8  9 10 11 12\n",
            "13 14 15 16 17 18 19\n",
            "20 21 22 23 24 25 26\n",
            "27 28 29 30\n",
            "\n"
          ],
          "name": "stdout"
        }
      ]
    },
    {
      "cell_type": "code",
      "metadata": {
        "colab": {
          "base_uri": "https://localhost:8080/"
        },
        "id": "7HOCkrVPp-fa",
        "outputId": "48d47f1b-7f7b-4afc-df4b-b422a1a40474"
      },
      "source": [
        "calendar.monthrange(2021,2)"
      ],
      "execution_count": 39,
      "outputs": [
        {
          "output_type": "execute_result",
          "data": {
            "text/plain": [
              "(0, 28)"
            ]
          },
          "metadata": {
            "tags": []
          },
          "execution_count": 39
        }
      ]
    },
    {
      "cell_type": "code",
      "metadata": {
        "colab": {
          "base_uri": "https://localhost:8080/"
        },
        "id": "JqW0MblCqIZ9",
        "outputId": "cd0a22ec-f4da-43a0-8c8d-9f86836b2386"
      },
      "source": [
        "calendar.firstweekday()"
      ],
      "execution_count": 40,
      "outputs": [
        {
          "output_type": "execute_result",
          "data": {
            "text/plain": [
              "0"
            ]
          },
          "metadata": {
            "tags": []
          },
          "execution_count": 40
        }
      ]
    },
    {
      "cell_type": "code",
      "metadata": {
        "colab": {
          "base_uri": "https://localhost:8080/"
        },
        "id": "v-HiTdYZqP7V",
        "outputId": "6597e1a7-1569-4a48-f8d1-973697779d85"
      },
      "source": [
        "calendar.setfirstweekday(calendar.SUNDAY)\n",
        "print(calendar.month(2021,8))"
      ],
      "execution_count": 41,
      "outputs": [
        {
          "output_type": "stream",
          "text": [
            "    August 2021\n",
            "Su Mo Tu We Th Fr Sa\n",
            " 1  2  3  4  5  6  7\n",
            " 8  9 10 11 12 13 14\n",
            "15 16 17 18 19 20 21\n",
            "22 23 24 25 26 27 28\n",
            "29 30 31\n",
            "\n"
          ],
          "name": "stdout"
        }
      ]
    },
    {
      "cell_type": "code",
      "metadata": {
        "colab": {
          "base_uri": "https://localhost:8080/"
        },
        "id": "lD2Dh-5AqeuO",
        "outputId": "1eaa4ac9-3051-4715-a274-f491d81c7a38"
      },
      "source": [
        "print(calendar.weekday(2021,8,1))"
      ],
      "execution_count": 42,
      "outputs": [
        {
          "output_type": "stream",
          "text": [
            "6\n"
          ],
          "name": "stdout"
        }
      ]
    },
    {
      "cell_type": "code",
      "metadata": {
        "colab": {
          "base_uri": "https://localhost:8080/"
        },
        "id": "IDUdD4YrqoZf",
        "outputId": "bc9aeb9e-3b84-474a-ee18-a090c1a175b8"
      },
      "source": [
        "print(calendar.isleap(2020))\n",
        "print(calendar.isleap(2021))"
      ],
      "execution_count": 43,
      "outputs": [
        {
          "output_type": "stream",
          "text": [
            "True\n",
            "False\n"
          ],
          "name": "stdout"
        }
      ]
    },
    {
      "cell_type": "code",
      "metadata": {
        "id": "nK-RvD3TqvDL"
      },
      "source": [
        ""
      ],
      "execution_count": null,
      "outputs": []
    }
  ]
}