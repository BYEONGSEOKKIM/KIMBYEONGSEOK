{
  "nbformat": 4,
  "nbformat_minor": 0,
  "metadata": {
    "colab": {
      "name": "function1.ipynb",
      "provenance": [],
      "authorship_tag": "ABX9TyOu0/IDD8ZFrIymEm8xAqd6",
      "include_colab_link": true
    },
    "kernelspec": {
      "name": "python3",
      "display_name": "Python 3"
    },
    "language_info": {
      "name": "python"
    }
  },
  "cells": [
    {
      "cell_type": "markdown",
      "metadata": {
        "id": "view-in-github",
        "colab_type": "text"
      },
      "source": [
        "<a href=\"https://colab.research.google.com/github/BYEONGSEOKKIM/python/blob/main/function1.ipynb\" target=\"_parent\"><img src=\"https://colab.research.google.com/assets/colab-badge.svg\" alt=\"Open In Colab\"/></a>"
      ]
    },
    {
      "cell_type": "code",
      "metadata": {
        "id": "EZsvYRZKLD-t"
      },
      "source": [
        "def my_func():\n",
        "  print(\"My first function!\")\n",
        "  print(\"This is a function.\")"
      ],
      "execution_count": 1,
      "outputs": []
    },
    {
      "cell_type": "code",
      "metadata": {
        "colab": {
          "base_uri": "https://localhost:8080/"
        },
        "id": "Vo7xcyvRQYk5",
        "outputId": "4bfdaeff-d952-4cff-f1ba-e4df5ee3bff2"
      },
      "source": [
        "my_func()"
      ],
      "execution_count": 2,
      "outputs": [
        {
          "output_type": "stream",
          "text": [
            "My first function!\n",
            "This is a function.\n"
          ],
          "name": "stdout"
        }
      ]
    },
    {
      "cell_type": "code",
      "metadata": {
        "id": "7kdt_SBJQcbG"
      },
      "source": [
        "def my_friend(friendName):\n",
        "  print(\"{}는 나의 친구입니다.\".format(friendName))"
      ],
      "execution_count": 3,
      "outputs": []
    },
    {
      "cell_type": "code",
      "metadata": {
        "colab": {
          "base_uri": "https://localhost:8080/"
        },
        "id": "o4MvWQ7mQruW",
        "outputId": "e47ae51d-2aee-48ae-8935-e1456515337e"
      },
      "source": [
        "my_friend(\"철수\")\n",
        "my_friend(\"영미\")"
      ],
      "execution_count": 4,
      "outputs": [
        {
          "output_type": "stream",
          "text": [
            "철수는 나의 친구입니다.\n",
            "영미는 나의 친구입니다.\n"
          ],
          "name": "stdout"
        }
      ]
    },
    {
      "cell_type": "code",
      "metadata": {
        "id": "Gm5CbVepQwfZ"
      },
      "source": [
        "def my_student_info(name, school_ID, phoneNumber):\n",
        "  print(\"----------------------\")\n",
        "  print(\"- 학생이름:\", name)\n",
        "  print(\"- 학급번호:\", school_ID)\n",
        "  print(\"- 전화번호:\", phoneNumber)"
      ],
      "execution_count": 10,
      "outputs": []
    },
    {
      "cell_type": "code",
      "metadata": {
        "colab": {
          "base_uri": "https://localhost:8080/"
        },
        "id": "T2nyWCsVRSt0",
        "outputId": "0d04effc-396b-4c1b-8b5b-b8f5cc7a2bef"
      },
      "source": [
        "my_student_info(\"현아\", \"01\", \"01-235-6789\")\n",
        "my_student_info(\"진수\", \"02\", \"01-987-6543\")"
      ],
      "execution_count": 11,
      "outputs": [
        {
          "output_type": "stream",
          "text": [
            "----------------------\n",
            "- 학생이름: 현아\n",
            "- 학급번호: 01\n",
            "- 전화번호: 01-235-6789\n",
            "----------------------\n",
            "- 학생이름: 진수\n",
            "- 학급번호: 02\n",
            "- 전화번호: 01-987-6543\n"
          ],
          "name": "stdout"
        }
      ]
    },
    {
      "cell_type": "code",
      "metadata": {
        "id": "jVTwcwV-RlGi"
      },
      "source": [
        "def my_student_info(name, school_ID, phoneNumber):\n",
        "  print(\"********************\")\n",
        "  print(\"- 학생이름:\", name)\n",
        "  print(\"- 학급번호:\", school_ID)\n",
        "  print(\"- 전화번호:\", phoneNumber)"
      ],
      "execution_count": 12,
      "outputs": []
    },
    {
      "cell_type": "code",
      "metadata": {
        "colab": {
          "base_uri": "https://localhost:8080/"
        },
        "id": "-W6eo92ISZ6Z",
        "outputId": "08ea1d71-78e6-412e-d8e3-d3ef47b32069"
      },
      "source": [
        "my_student_info(\"현아\", \"01\", \"01-235-6789\")\n",
        "my_student_info(\"진수\", \"02\", \"01-987-6543\")"
      ],
      "execution_count": 13,
      "outputs": [
        {
          "output_type": "stream",
          "text": [
            "********************\n",
            "- 학생이름: 현아\n",
            "- 학급번호: 01\n",
            "- 전화번호: 01-235-6789\n",
            "********************\n",
            "- 학생이름: 진수\n",
            "- 학급번호: 02\n",
            "- 전화번호: 01-987-6543\n"
          ],
          "name": "stdout"
        }
      ]
    },
    {
      "cell_type": "code",
      "metadata": {
        "id": "xX_qIvOHSbcL"
      },
      "source": [
        ""
      ],
      "execution_count": null,
      "outputs": []
    }
  ]
}