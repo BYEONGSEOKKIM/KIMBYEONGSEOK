{
  "nbformat": 4,
  "nbformat_minor": 0,
  "metadata": {
    "colab": {
      "name": "read&write.ipynb",
      "provenance": [],
      "authorship_tag": "ABX9TyN9780T4aenxoJIok5ZsliI",
      "include_colab_link": true
    },
    "kernelspec": {
      "name": "python3",
      "display_name": "Python 3"
    },
    "language_info": {
      "name": "python"
    }
  },
  "cells": [
    {
      "cell_type": "markdown",
      "metadata": {
        "id": "view-in-github",
        "colab_type": "text"
      },
      "source": [
        "<a href=\"https://colab.research.google.com/github/BYEONGSEOKKIM/python/blob/main/read%26write.ipynb\" target=\"_parent\"><img src=\"https://colab.research.google.com/assets/colab-badge.svg\" alt=\"Open In Colab\"/></a>"
      ]
    },
    {
      "cell_type": "code",
      "metadata": {
        "id": "C5nWLoFd7Tvq"
      },
      "source": [
        "f=open('myFile.txt', 'w')\n",
        "f.write('This is my first file.')\n",
        "f.close()"
      ],
      "execution_count": 3,
      "outputs": []
    },
    {
      "cell_type": "code",
      "metadata": {
        "colab": {
          "base_uri": "https://localhost:8080/"
        },
        "id": "_o2KvI5u7mlp",
        "outputId": "d83ab541-9f83-43d3-b137-c08c5d9ab7c8"
      },
      "source": [
        "!cat myFile.txt"
      ],
      "execution_count": 4,
      "outputs": [
        {
          "output_type": "stream",
          "text": [
            "This is my first file."
          ],
          "name": "stdout"
        }
      ]
    },
    {
      "cell_type": "code",
      "metadata": {
        "colab": {
          "base_uri": "https://localhost:8080/"
        },
        "id": "tscwHQj47xyB",
        "outputId": "1ca7bbbf-4b60-43bc-aabd-780e32b97878"
      },
      "source": [
        "f=open('myFile.txt','r')\n",
        "file_text = f.read()\n",
        "f.close()\n",
        "\n",
        "print(file_text)"
      ],
      "execution_count": 5,
      "outputs": [
        {
          "output_type": "stream",
          "text": [
            "This is my first file.\n"
          ],
          "name": "stdout"
        }
      ]
    },
    {
      "cell_type": "code",
      "metadata": {
        "id": "lTlq2OAU8BTM"
      },
      "source": [
        "f=open('twotime.txt', 'w')\n",
        "for num in range(1,6):\n",
        "  format2=\"2 x {0} = {1}\\n\".format(num,num*2)\n",
        "  f.write(format2)\n",
        "f.close()\n"
      ],
      "execution_count": 53,
      "outputs": []
    },
    {
      "cell_type": "code",
      "metadata": {
        "colab": {
          "base_uri": "https://localhost:8080/",
          "height": 34
        },
        "id": "_QMrfj0sB2h0",
        "outputId": "2839f3b9-f13f-4c19-ee66-b089ce7e05a0"
      },
      "source": [
        "f= open('twotime.txt','r')\n",
        "f.read()"
      ],
      "execution_count": 31,
      "outputs": [
        {
          "output_type": "execute_result",
          "data": {
            "application/vnd.google.colaboratory.intrinsic+json": {
              "type": "string"
            },
            "text/plain": [
              "'2 x 1 = 2\\n2 x 2 = 4\\n2 x 3 = 6\\n2 x 4 = 8\\n2 x 5 = 10\\n'"
            ]
          },
          "metadata": {
            "tags": []
          },
          "execution_count": 31
        }
      ]
    },
    {
      "cell_type": "code",
      "metadata": {
        "id": "l886t_duYa2o"
      },
      "source": [
        "f=open('timetable.txt','w')\n",
        "for num2 in range(1,10):\n",
        "    table_2 = \"2x{0}={1}\\n\".format(num2,num2*2)\n",
        "    f.write(table_2)\n",
        "for num3 in range(1,10):\n",
        "    table_3 = \"3x{0}={1}\\n\".format(num3,num2*3)\n",
        "    f.write(table_3)\n",
        "for num4 in range(1,10):\n",
        "    table_4 = \"4x{0}={1}\\n\".format(num4,num4*4)\n",
        "    f.write(table_4)\n",
        "for num5 in range(1,10):\n",
        "    table_5 = \"5x{0}={1}\\n\".format(num5,num5*5)\n",
        "    f.write(table_5)\n",
        "for num6 in range(1,10):\n",
        "    table_6 = \"6x{0}={1}\\n\".format(num6,num6*6)\n",
        "    f.write(table_6)\n",
        "f.close()"
      ],
      "execution_count": 50,
      "outputs": []
    },
    {
      "cell_type": "code",
      "metadata": {
        "colab": {
          "base_uri": "https://localhost:8080/",
          "height": 52
        },
        "id": "GVx5vojdbhW8",
        "outputId": "d6cd48c8-a9c2-466d-d0d8-0e2d1d3dbc69"
      },
      "source": [
        "f=open('timetable.txt','r')\n",
        "f.read()"
      ],
      "execution_count": 51,
      "outputs": [
        {
          "output_type": "execute_result",
          "data": {
            "application/vnd.google.colaboratory.intrinsic+json": {
              "type": "string"
            },
            "text/plain": [
              "'2x1=2\\n2x2=4\\n2x3=6\\n2x4=8\\n2x5=10\\n2x6=12\\n2x7=14\\n2x8=16\\n2x9=18\\n3x1=27\\n3x2=27\\n3x3=27\\n3x4=27\\n3x5=27\\n3x6=27\\n3x7=27\\n3x8=27\\n3x9=27\\n4x1=4\\n4x2=8\\n4x3=12\\n4x4=16\\n4x5=20\\n4x6=24\\n4x7=28\\n4x8=32\\n4x9=36\\n5x1=5\\n5x2=10\\n5x3=15\\n5x4=20\\n5x5=25\\n5x6=30\\n5x7=35\\n5x8=40\\n5x9=45\\n6x1=6\\n6x2=12\\n6x3=18\\n6x4=24\\n6x5=30\\n6x6=36\\n6x7=42\\n6x8=48\\n6x9=54\\n'"
            ]
          },
          "metadata": {
            "tags": []
          },
          "execution_count": 51
        }
      ]
    },
    {
      "cell_type": "code",
      "metadata": {
        "colab": {
          "base_uri": "https://localhost:8080/"
        },
        "id": "sVrRp8qlbpLG",
        "outputId": "0a4e0609-fb3d-4137-b67c-19d56ceb775a"
      },
      "source": [
        "print(table_2)"
      ],
      "execution_count": 47,
      "outputs": [
        {
          "output_type": "stream",
          "text": [
            "2x9=18 \n",
            "\n"
          ],
          "name": "stdout"
        }
      ]
    },
    {
      "cell_type": "code",
      "metadata": {
        "colab": {
          "base_uri": "https://localhost:8080/"
        },
        "id": "5ym9jkW3iNAp",
        "outputId": "fea42579-cca1-4e7b-bda8-251c9c5538c6"
      },
      "source": [
        "print(\"hello world\\n ji\")"
      ],
      "execution_count": 49,
      "outputs": [
        {
          "output_type": "stream",
          "text": [
            "hello world\n",
            " ji\n"
          ],
          "name": "stdout"
        }
      ]
    },
    {
      "cell_type": "code",
      "metadata": {
        "colab": {
          "base_uri": "https://localhost:8080/"
        },
        "id": "y7SEM_zzl9Th",
        "outputId": "72313eda-98e4-4354-b13f-33e3ae6cf299"
      },
      "source": [
        "f = open(\"twotime.txt\")\n",
        "line1 = f.readline()\n",
        "line2 = f.readline()\n",
        "f.close()\n",
        "print(line1, end=\"\")\n",
        "print(line2, end=\"\")"
      ],
      "execution_count": 54,
      "outputs": [
        {
          "output_type": "stream",
          "text": [
            "2 x 1 = 2\n",
            "2 x 2 = 4\n"
          ],
          "name": "stdout"
        }
      ]
    },
    {
      "cell_type": "code",
      "metadata": {
        "colab": {
          "base_uri": "https://localhost:8080/"
        },
        "id": "QF3dXsdvoOwP",
        "outputId": "8f1c4b68-a76f-41e4-ada4-8025e73a384e"
      },
      "source": [
        "f= open(\"twotime.txt\")\n",
        "line = f.readline()\n",
        "while line:\n",
        "  print(line, end = \"\")\n",
        "  line = f.readline()\n",
        "f.close()"
      ],
      "execution_count": 55,
      "outputs": [
        {
          "output_type": "stream",
          "text": [
            "2 x 1 = 2\n",
            "2 x 2 = 4\n",
            "2 x 3 = 6\n",
            "2 x 4 = 8\n",
            "2 x 5 = 10\n"
          ],
          "name": "stdout"
        }
      ]
    },
    {
      "cell_type": "code",
      "metadata": {
        "colab": {
          "base_uri": "https://localhost:8080/"
        },
        "id": "FCSB65nToqdN",
        "outputId": "fd5a4bab-3d22-4176-df16-c2fe7206bfbe"
      },
      "source": [
        "f= open(\"twotime.txt\")\n",
        "lines = f.readlines()\n",
        "f.close()\n",
        "print(lines)"
      ],
      "execution_count": 57,
      "outputs": [
        {
          "output_type": "stream",
          "text": [
            "['2 x 1 = 2\\n', '2 x 2 = 4\\n', '2 x 3 = 6\\n', '2 x 4 = 8\\n', '2 x 5 = 10\\n']\n"
          ],
          "name": "stdout"
        }
      ]
    },
    {
      "cell_type": "code",
      "metadata": {
        "colab": {
          "base_uri": "https://localhost:8080/"
        },
        "id": "AsD3N93Bo1Cq",
        "outputId": "40313437-5c91-4908-e5e5-655b8589047d"
      },
      "source": [
        "f= open(\"twotime.txt\")\n",
        "lines = f.readlines()\n",
        "f.close()\n",
        "for line in lines:\n",
        "  print(line, end=\"\")"
      ],
      "execution_count": 60,
      "outputs": [
        {
          "output_type": "stream",
          "text": [
            "2 x 1 = 2\n",
            "2 x 2 = 4\n",
            "2 x 3 = 6\n",
            "2 x 4 = 8\n",
            "2 x 5 = 10\n"
          ],
          "name": "stdout"
        }
      ]
    },
    {
      "cell_type": "code",
      "metadata": {
        "colab": {
          "base_uri": "https://localhost:8080/"
        },
        "id": "85BCyDampMJ7",
        "outputId": "c0188308-6222-47eb-d722-8c4cf049ebf8"
      },
      "source": [
        "f = open(\"twotime.txt\")\n",
        "for line in f.readlines():\n",
        "  print(line,end=\"\")\n",
        "f.close()"
      ],
      "execution_count": 63,
      "outputs": [
        {
          "output_type": "stream",
          "text": [
            "2 x 1 = 2\n",
            "2 x 2 = 4\n",
            "2 x 3 = 6\n",
            "2 x 4 = 8\n",
            "2 x 5 = 10\n"
          ],
          "name": "stdout"
        }
      ]
    },
    {
      "cell_type": "code",
      "metadata": {
        "id": "zjdesLgV0_xB"
      },
      "source": [
        "f= open('mytextfile.txt','w')\n",
        "f.write('file write/read test.')\n",
        "f.close()"
      ],
      "execution_count": 66,
      "outputs": []
    },
    {
      "cell_type": "code",
      "metadata": {
        "colab": {
          "base_uri": "https://localhost:8080/"
        },
        "id": "Z18Hw8iy1fYy",
        "outputId": "aa9b2569-0dee-4540-c1fd-cb5889b01ab6"
      },
      "source": [
        "f = open('mytextfile.txt','r')\n",
        "test = f.read()\n",
        "f.close()\n",
        "print(test)"
      ],
      "execution_count": 68,
      "outputs": [
        {
          "output_type": "stream",
          "text": [
            "file write/read test.\n"
          ],
          "name": "stdout"
        }
      ]
    },
    {
      "cell_type": "code",
      "metadata": {
        "id": "p9_k3wc21s3w"
      },
      "source": [
        "with open('mytextfile2.txt', 'w') as f:\n",
        "  f.write('File read/write test2: line1\\n')\n",
        "  f.write('File read/write test2: line2\\n')\n",
        "  f.write('File read/write test2: line3\\n')"
      ],
      "execution_count": 69,
      "outputs": []
    },
    {
      "cell_type": "code",
      "metadata": {
        "colab": {
          "base_uri": "https://localhost:8080/"
        },
        "id": "m2Tfkqn72KLC",
        "outputId": "0491baed-1d3f-402d-c1a0-aaa62d5b35f2"
      },
      "source": [
        "with open('mytextfile2.txt') as f:\n",
        "  file_string = f.read()\n",
        "  print(file_string)"
      ],
      "execution_count": 70,
      "outputs": [
        {
          "output_type": "stream",
          "text": [
            "File read/write test2: line1\n",
            "File read/write test2: line2\n",
            "File read/write test2: line3\n",
            "\n"
          ],
          "name": "stdout"
        }
      ]
    },
    {
      "cell_type": "code",
      "metadata": {
        "id": "GUORPz-P2ZeU"
      },
      "source": [
        "with open('mytextfile3.txt', 'w') as f:\n",
        "  for num in range(1,6):\n",
        "    format_string = \"3 x {0}= {1}\\n\".format(num,3*num)\n",
        "    f.write(format_string)"
      ],
      "execution_count": 72,
      "outputs": []
    },
    {
      "cell_type": "code",
      "metadata": {
        "colab": {
          "base_uri": "https://localhost:8080/"
        },
        "id": "l7NXEzr222lo",
        "outputId": "ad50d291-1939-4e73-8ded-ac064c2b4060"
      },
      "source": [
        "with open('mytextfile3.txt', 'r') as f:\n",
        "  for line in f:\n",
        "    print(line, end=\"\")"
      ],
      "execution_count": 73,
      "outputs": [
        {
          "output_type": "stream",
          "text": [
            "3 x 1= 3\n",
            "3 x 2= 6\n",
            "3 x 3= 9\n",
            "3 x 4= 12\n",
            "3 x 5= 15\n"
          ],
          "name": "stdout"
        }
      ]
    },
    {
      "cell_type": "code",
      "metadata": {
        "id": "IdzIYJzl3HpF"
      },
      "source": [
        ""
      ],
      "execution_count": null,
      "outputs": []
    }
  ]
}