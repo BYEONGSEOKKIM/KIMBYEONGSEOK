{
  "nbformat": 4,
  "nbformat_minor": 0,
  "metadata": {
    "colab": {
      "name": "forwhile.ipynb",
      "provenance": [],
      "collapsed_sections": [],
      "authorship_tag": "ABX9TyO+p1pWnCdM7gjEsjeqTUXs",
      "include_colab_link": true
    },
    "kernelspec": {
      "name": "python3",
      "display_name": "Python 3"
    },
    "language_info": {
      "name": "python"
    }
  },
  "cells": [
    {
      "cell_type": "markdown",
      "metadata": {
        "id": "view-in-github",
        "colab_type": "text"
      },
      "source": [
        "<a href=\"https://colab.research.google.com/github/BYEONGSEOKKIM/python/blob/main/forwhile.ipynb\" target=\"_parent\"><img src=\"https://colab.research.google.com/assets/colab-badge.svg\" alt=\"Open In Colab\"/></a>"
      ]
    },
    {
      "cell_type": "code",
      "metadata": {
        "id": "53sHiwbv9WNp"
      },
      "source": [
        "set1={1,2,3}"
      ],
      "execution_count": 26,
      "outputs": []
    },
    {
      "cell_type": "code",
      "metadata": {
        "id": "wBt4ZqUnBIHO"
      },
      "source": [
        "set1a={1,2,3,3}"
      ],
      "execution_count": 3,
      "outputs": []
    },
    {
      "cell_type": "code",
      "metadata": {
        "colab": {
          "base_uri": "https://localhost:8080/"
        },
        "id": "TyTuGA73BPuj",
        "outputId": "024ff2c2-4eea-48f9-b4b4-494aa85037b9"
      },
      "source": [
        "print(set1)\n",
        "print(set1a)"
      ],
      "execution_count": 27,
      "outputs": [
        {
          "output_type": "stream",
          "text": [
            "{1, 2, 3}\n",
            "{1, 2, 3}\n"
          ],
          "name": "stdout"
        }
      ]
    },
    {
      "cell_type": "code",
      "metadata": {
        "colab": {
          "base_uri": "https://localhost:8080/"
        },
        "id": "bxISjVmZBTjb",
        "outputId": "5f60765c-5189-4fb6-83c4-fb332f4d8cc8"
      },
      "source": [
        "type(set)"
      ],
      "execution_count": 7,
      "outputs": [
        {
          "output_type": "execute_result",
          "data": {
            "text/plain": [
              "set"
            ]
          },
          "metadata": {
            "tags": []
          },
          "execution_count": 7
        }
      ]
    },
    {
      "cell_type": "code",
      "metadata": {
        "id": "23AoV_nMBZQq"
      },
      "source": [
        "A={1,2,3,4,5}"
      ],
      "execution_count": 8,
      "outputs": []
    },
    {
      "cell_type": "code",
      "metadata": {
        "id": "fG8MYTMMBgk6"
      },
      "source": [
        "B={4,5,6,7,8,9,10}"
      ],
      "execution_count": 9,
      "outputs": []
    },
    {
      "cell_type": "code",
      "metadata": {
        "colab": {
          "base_uri": "https://localhost:8080/"
        },
        "id": "ml4VGudZBj5_",
        "outputId": "e2916796-c7ad-46e3-b045-63fca4778036"
      },
      "source": [
        "A.intersection(B)"
      ],
      "execution_count": 10,
      "outputs": [
        {
          "output_type": "execute_result",
          "data": {
            "text/plain": [
              "{4, 5}"
            ]
          },
          "metadata": {
            "tags": []
          },
          "execution_count": 10
        }
      ]
    },
    {
      "cell_type": "code",
      "metadata": {
        "colab": {
          "base_uri": "https://localhost:8080/"
        },
        "id": "WaQMLS55BmqK",
        "outputId": "b5bab5af-7245-41eb-c05e-dbbbe1cc03a8"
      },
      "source": [
        "A.union(B)"
      ],
      "execution_count": 12,
      "outputs": [
        {
          "output_type": "execute_result",
          "data": {
            "text/plain": [
              "{1, 2, 3, 4, 5, 6, 7, 8, 9, 10}"
            ]
          },
          "metadata": {
            "tags": []
          },
          "execution_count": 12
        }
      ]
    },
    {
      "cell_type": "code",
      "metadata": {
        "colab": {
          "base_uri": "https://localhost:8080/"
        },
        "id": "7fm1guKjBqeF",
        "outputId": "9c723224-d0ee-41f6-fa71-a6dd8d4a73f6"
      },
      "source": [
        "A.difference(B)"
      ],
      "execution_count": 13,
      "outputs": [
        {
          "output_type": "execute_result",
          "data": {
            "text/plain": [
              "{1, 2, 3}"
            ]
          },
          "metadata": {
            "tags": []
          },
          "execution_count": 13
        }
      ]
    },
    {
      "cell_type": "code",
      "metadata": {
        "id": "-LlnbZK3Byww"
      },
      "source": [
        "A = {1,2,3,4,5}"
      ],
      "execution_count": 16,
      "outputs": []
    },
    {
      "cell_type": "code",
      "metadata": {
        "colab": {
          "base_uri": "https://localhost:8080/"
        },
        "id": "nqhNjSQEB1j5",
        "outputId": "e9ca95aa-2fa2-4efd-b29d-29d33e6823c3"
      },
      "source": [
        "A&B"
      ],
      "execution_count": 17,
      "outputs": [
        {
          "output_type": "execute_result",
          "data": {
            "text/plain": [
              "{4, 5}"
            ]
          },
          "metadata": {
            "tags": []
          },
          "execution_count": 17
        }
      ]
    },
    {
      "cell_type": "code",
      "metadata": {
        "colab": {
          "base_uri": "https://localhost:8080/"
        },
        "id": "QJtXfrp0B_5u",
        "outputId": "1cd87afd-7f6d-4e29-d919-687174ec2aa8"
      },
      "source": [
        "A|B"
      ],
      "execution_count": 18,
      "outputs": [
        {
          "output_type": "execute_result",
          "data": {
            "text/plain": [
              "{1, 2, 3, 4, 5, 6, 7, 8, 9, 10}"
            ]
          },
          "metadata": {
            "tags": []
          },
          "execution_count": 18
        }
      ]
    },
    {
      "cell_type": "code",
      "metadata": {
        "colab": {
          "base_uri": "https://localhost:8080/"
        },
        "id": "eOyLA8XcCC9h",
        "outputId": "c0c38d7d-3c5d-446f-cc49-76be4be3416a"
      },
      "source": [
        "A-B"
      ],
      "execution_count": 19,
      "outputs": [
        {
          "output_type": "execute_result",
          "data": {
            "text/plain": [
              "{1, 2, 3}"
            ]
          },
          "metadata": {
            "tags": []
          },
          "execution_count": 19
        }
      ]
    },
    {
      "cell_type": "code",
      "metadata": {
        "id": "EB4vGmcRCGza"
      },
      "source": [
        "a = [1,2,3,4,5]"
      ],
      "execution_count": 20,
      "outputs": []
    },
    {
      "cell_type": "code",
      "metadata": {
        "colab": {
          "base_uri": "https://localhost:8080/"
        },
        "id": "p74F3HjvCRYo",
        "outputId": "28ee6075-0cf2-4be2-ad0e-b327c1abfe55"
      },
      "source": [
        "type(a)"
      ],
      "execution_count": 21,
      "outputs": [
        {
          "output_type": "execute_result",
          "data": {
            "text/plain": [
              "list"
            ]
          },
          "metadata": {
            "tags": []
          },
          "execution_count": 21
        }
      ]
    },
    {
      "cell_type": "code",
      "metadata": {
        "id": "hYdvXlaCCSsQ"
      },
      "source": [
        "b=tuple(a)"
      ],
      "execution_count": 23,
      "outputs": []
    },
    {
      "cell_type": "code",
      "metadata": {
        "colab": {
          "base_uri": "https://localhost:8080/"
        },
        "id": "OEwFUuwPCVYB",
        "outputId": "6975bfa0-4adb-4ec8-9489-f1763b801158"
      },
      "source": [
        "type(b)"
      ],
      "execution_count": 34,
      "outputs": [
        {
          "output_type": "execute_result",
          "data": {
            "text/plain": [
              "tuple"
            ]
          },
          "metadata": {
            "tags": []
          },
          "execution_count": 34
        }
      ]
    },
    {
      "cell_type": "code",
      "metadata": {
        "colab": {
          "base_uri": "https://localhost:8080/"
        },
        "id": "7n0GW6OeC_Jz",
        "outputId": "eadd18fb-52a2-4a05-f4b7-3e369cf47111"
      },
      "source": [
        "list(b)"
      ],
      "execution_count": 37,
      "outputs": [
        {
          "output_type": "execute_result",
          "data": {
            "text/plain": [
              "[1, 2, 3, 4, 5]"
            ]
          },
          "metadata": {
            "tags": []
          },
          "execution_count": 37
        }
      ]
    },
    {
      "cell_type": "code",
      "metadata": {
        "colab": {
          "base_uri": "https://localhost:8080/"
        },
        "id": "Ld-paymUD_um",
        "outputId": "529cd306-83bd-4c1c-ce10-d57835185d53"
      },
      "source": [
        "x=95\n",
        "if x >= 90:\n",
        "  print(\"pass\")"
      ],
      "execution_count": 1,
      "outputs": [
        {
          "output_type": "stream",
          "text": [
            "pass\n"
          ],
          "name": "stdout"
        }
      ]
    },
    {
      "cell_type": "code",
      "metadata": {
        "colab": {
          "base_uri": "https://localhost:8080/"
        },
        "id": "sCLX8HV-o5ci",
        "outputId": "4c1e199e-2fdd-4923-f75f-48e815d5680d"
      },
      "source": [
        "x=75\n",
        "if x>=90:\n",
        "  print(\"pass\")\n",
        "else:\n",
        "  print(\"Fail\")\n"
      ],
      "execution_count": 2,
      "outputs": [
        {
          "output_type": "stream",
          "text": [
            "Fail\n"
          ],
          "name": "stdout"
        }
      ]
    },
    {
      "cell_type": "code",
      "metadata": {
        "colab": {
          "base_uri": "https://localhost:8080/"
        },
        "id": "-ZgFN7v4pHUe",
        "outputId": "ea1d6cbb-b84d-4a10-ec6c-9a38c215ed3c"
      },
      "source": [
        "x=85\n",
        "if x >= 90:\n",
        "  print(\"very good\")\n",
        "elif (x>=80) and (x<90) :\n",
        "  print(\"good\")\n",
        "else:\n",
        "  print(\"Bad\")"
      ],
      "execution_count": 4,
      "outputs": [
        {
          "output_type": "stream",
          "text": [
            "good\n"
          ],
          "name": "stdout"
        }
      ]
    },
    {
      "cell_type": "code",
      "metadata": {
        "colab": {
          "base_uri": "https://localhost:8080/"
        },
        "id": "3G-QELfH4Sip",
        "outputId": "871c1902-e866-45a0-bdd5-51e3e83e89db"
      },
      "source": [
        "x=85\n",
        "if x >= 90:\n",
        "  print(\"very good\")\n",
        "elif 80 <= x < 90 :\n",
        "  print(\"good\")\n",
        "else:\n",
        "  print(\"Bad\")"
      ],
      "execution_count": 5,
      "outputs": [
        {
          "output_type": "stream",
          "text": [
            "good\n"
          ],
          "name": "stdout"
        }
      ]
    },
    {
      "cell_type": "code",
      "metadata": {
        "colab": {
          "base_uri": "https://localhost:8080/"
        },
        "id": "HuhlRnp_4iq3",
        "outputId": "13d7ce08-48e1-4fb8-b583-2f4a84d2c094"
      },
      "source": [
        "x = 100\n",
        "if x>= 90:\n",
        "  if x==100:\n",
        "    print(\"perfect\")\n",
        "  else:\n",
        "    print(\"very good\")\n",
        "elif (80<=x<90):\n",
        "  print(\"good\")\n",
        "else:\n",
        "  print(\"bad\")"
      ],
      "execution_count": 6,
      "outputs": [
        {
          "output_type": "stream",
          "text": [
            "perfect\n"
          ],
          "name": "stdout"
        }
      ]
    },
    {
      "cell_type": "code",
      "metadata": {
        "id": "XKsQmQ4r5BsR"
      },
      "source": [
        "x = 75\n",
        "if x >= 80:\n",
        "  pass\n",
        "else:\n",
        "  pass"
      ],
      "execution_count": 7,
      "outputs": []
    },
    {
      "cell_type": "code",
      "metadata": {
        "colab": {
          "base_uri": "https://localhost:8080/"
        },
        "id": "_mS9FDFM5JHh",
        "outputId": "a47ab987-fbae-41f4-81d6-34b46ffbb87b"
      },
      "source": [
        "print(range(0,10,1))"
      ],
      "execution_count": 8,
      "outputs": [
        {
          "output_type": "stream",
          "text": [
            "range(0, 10)\n"
          ],
          "name": "stdout"
        }
      ]
    },
    {
      "cell_type": "code",
      "metadata": {
        "colab": {
          "base_uri": "https://localhost:8080/"
        },
        "id": "FXOShOi6OORl",
        "outputId": "fc3f152e-5ae2-4d10-87c9-80b5948c167a"
      },
      "source": [
        "range(0,10,1)"
      ],
      "execution_count": 9,
      "outputs": [
        {
          "output_type": "execute_result",
          "data": {
            "text/plain": [
              "range(0, 10)"
            ]
          },
          "metadata": {
            "tags": []
          },
          "execution_count": 9
        }
      ]
    },
    {
      "cell_type": "code",
      "metadata": {
        "colab": {
          "base_uri": "https://localhost:8080/"
        },
        "id": "FBA0zQvaOYfR",
        "outputId": "9c308e75-dc61-47ba-f06a-0f445139ada0"
      },
      "source": [
        "print(list(range(0,10,1)))"
      ],
      "execution_count": 10,
      "outputs": [
        {
          "output_type": "stream",
          "text": [
            "[0, 1, 2, 3, 4, 5, 6, 7, 8, 9]\n"
          ],
          "name": "stdout"
        }
      ]
    },
    {
      "cell_type": "code",
      "metadata": {
        "colab": {
          "base_uri": "https://localhost:8080/"
        },
        "id": "dIGRG3sfOorM",
        "outputId": "82467017-2059-4999-c86a-da9e73ae8f5c"
      },
      "source": [
        "for a in range(0,6,1):\n",
        "  print(a)"
      ],
      "execution_count": 11,
      "outputs": [
        {
          "output_type": "stream",
          "text": [
            "0\n",
            "1\n",
            "2\n",
            "3\n",
            "4\n",
            "5\n"
          ],
          "name": "stdout"
        }
      ]
    },
    {
      "cell_type": "code",
      "metadata": {
        "colab": {
          "base_uri": "https://localhost:8080/"
        },
        "id": "YvXrPSz7Ot5F",
        "outputId": "acdc436b-970e-4683-e117-7f5e5f8d6b03"
      },
      "source": [
        "for a in range(0,6,2):\n",
        "  print(a)"
      ],
      "execution_count": 12,
      "outputs": [
        {
          "output_type": "stream",
          "text": [
            "0\n",
            "2\n",
            "4\n"
          ],
          "name": "stdout"
        }
      ]
    },
    {
      "cell_type": "code",
      "metadata": {
        "colab": {
          "base_uri": "https://localhost:8080/"
        },
        "id": "qgd-xPe2Ox-c",
        "outputId": "f653e1ac-9d94-422c-d7e8-2141036f4c76"
      },
      "source": [
        "print(list(range(0,10,1)))\n",
        "print(list(range(0,10)))\n",
        "print(list(range(10)))"
      ],
      "execution_count": 14,
      "outputs": [
        {
          "output_type": "stream",
          "text": [
            "[0, 1, 2, 3, 4, 5, 6, 7, 8, 9]\n",
            "[0, 1, 2, 3, 4, 5, 6, 7, 8, 9]\n",
            "[0, 1, 2, 3, 4, 5, 6, 7, 8, 9]\n"
          ],
          "name": "stdout"
        }
      ]
    },
    {
      "cell_type": "code",
      "metadata": {
        "colab": {
          "base_uri": "https://localhost:8080/"
        },
        "id": "DU6zGT_zPIwO",
        "outputId": "37ac5410-6775-4261-ec80-b5cc13f4c9af"
      },
      "source": [
        "print(list(range(0,20,5)))\n",
        "print(list(range(-10,0,2)))\n",
        "print(list(range(3,-10,-3)))\n",
        "print(list(range(0,10,1)))\n",
        "print(list(range(0,10)))\n",
        "print(list(range(0,-5,1)))"
      ],
      "execution_count": 15,
      "outputs": [
        {
          "output_type": "stream",
          "text": [
            "[0, 5, 10, 15]\n",
            "[-10, -8, -6, -4, -2]\n",
            "[3, 0, -3, -6, -9]\n",
            "[0, 1, 2, 3, 4, 5, 6, 7, 8, 9]\n",
            "[0, 1, 2, 3, 4, 5, 6, 7, 8, 9]\n",
            "[]\n"
          ],
          "name": "stdout"
        }
      ]
    },
    {
      "cell_type": "code",
      "metadata": {
        "colab": {
          "base_uri": "https://localhost:8080/"
        },
        "id": "CXxmbozbPYe2",
        "outputId": "4cca9b51-f259-4f2a-d865-8921557c9929"
      },
      "source": [
        "x_list= ['x1', 'x2']\n",
        "y_list = ['y1','y2']\n",
        "\n",
        "print(\"xy\")\n",
        "for x in x_list:\n",
        "  for y in y_list:\n",
        "    print(x,y)"
      ],
      "execution_count": 16,
      "outputs": [
        {
          "output_type": "stream",
          "text": [
            "xy\n",
            "x1 y1\n",
            "x1 y2\n",
            "x2 y1\n",
            "x2 y2\n"
          ],
          "name": "stdout"
        }
      ]
    },
    {
      "cell_type": "code",
      "metadata": {
        "id": "utzrhwHmPytU"
      },
      "source": [
        "names = ['James', 'Robert', 'Lisa', 'Mary']\n",
        "scores = [95,96,97,97]"
      ],
      "execution_count": 17,
      "outputs": []
    },
    {
      "cell_type": "code",
      "metadata": {
        "colab": {
          "base_uri": "https://localhost:8080/"
        },
        "id": "U3lMUL6DgrW7",
        "outputId": "95f66293-f514-44f6-d61e-b9b0da0f1db1"
      },
      "source": [
        "for k in range(len(names)):\n",
        "  print(names[k], scores[k]) "
      ],
      "execution_count": 20,
      "outputs": [
        {
          "output_type": "stream",
          "text": [
            "James 95\n",
            "Robert 96\n",
            "Lisa 97\n",
            "Mary 97\n"
          ],
          "name": "stdout"
        }
      ]
    },
    {
      "cell_type": "code",
      "metadata": {
        "colab": {
          "base_uri": "https://localhost:8080/"
        },
        "id": "aWY8i3n7g5XI",
        "outputId": "c7abc5eb-ed84-4b07-efc5-4d40ec0d7c05"
      },
      "source": [
        "for name, score in zip(names,scores) :\n",
        "  print(name, score)"
      ],
      "execution_count": 21,
      "outputs": [
        {
          "output_type": "stream",
          "text": [
            "James 95\n",
            "Robert 96\n",
            "Lisa 97\n",
            "Mary 97\n"
          ],
          "name": "stdout"
        }
      ]
    },
    {
      "cell_type": "code",
      "metadata": {
        "colab": {
          "base_uri": "https://localhost:8080/"
        },
        "id": "m4mRzqNqhTwP",
        "outputId": "0414d91d-da08-4e3a-a1de-fcdfec76914b"
      },
      "source": [
        "i = 0\n",
        "sum = 0\n",
        "print(\"i sum\")\n",
        "while(sum < 20):\n",
        "  i = i+1\n",
        "  sum = sum+i\n",
        "  print(i, sum)"
      ],
      "execution_count": 23,
      "outputs": [
        {
          "output_type": "stream",
          "text": [
            "i sum\n",
            "1 1\n",
            "2 3\n",
            "3 6\n",
            "4 10\n",
            "5 15\n",
            "6 21\n"
          ],
          "name": "stdout"
        }
      ]
    },
    {
      "cell_type": "code",
      "metadata": {
        "id": "J3eDIUPahp-u"
      },
      "source": [
        ""
      ],
      "execution_count": null,
      "outputs": []
    }
  ]
}