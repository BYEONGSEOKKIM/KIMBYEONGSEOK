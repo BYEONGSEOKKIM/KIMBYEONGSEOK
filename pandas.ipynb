{
  "nbformat": 4,
  "nbformat_minor": 0,
  "metadata": {
    "colab": {
      "name": "pandas.ipynb",
      "provenance": [],
      "authorship_tag": "ABX9TyP7ZeD6wwE2Dlh7vv2+2fWw",
      "include_colab_link": true
    },
    "kernelspec": {
      "name": "python3",
      "display_name": "Python 3"
    },
    "language_info": {
      "name": "python"
    }
  },
  "cells": [
    {
      "cell_type": "markdown",
      "metadata": {
        "id": "view-in-github",
        "colab_type": "text"
      },
      "source": [
        "<a href=\"https://colab.research.google.com/github/BYEONGSEOKKIM/python/blob/main/pandas.ipynb\" target=\"_parent\"><img src=\"https://colab.research.google.com/assets/colab-badge.svg\" alt=\"Open In Colab\"/></a>"
      ]
    },
    {
      "cell_type": "code",
      "metadata": {
        "id": "S5x3oMdnNt3B"
      },
      "source": [
        "import pandas as pd"
      ],
      "execution_count": 1,
      "outputs": []
    },
    {
      "cell_type": "code",
      "metadata": {
        "colab": {
          "base_uri": "https://localhost:8080/"
        },
        "id": "FHuARhLqQvUt",
        "outputId": "db62e27c-adf3-44fc-803c-feebde8dd1a8"
      },
      "source": [
        "s1 = pd.Series([10,20,30,40,50])\n",
        "s1"
      ],
      "execution_count": 2,
      "outputs": [
        {
          "output_type": "execute_result",
          "data": {
            "text/plain": [
              "0    10\n",
              "1    20\n",
              "2    30\n",
              "3    40\n",
              "4    50\n",
              "dtype: int64"
            ]
          },
          "metadata": {
            "tags": []
          },
          "execution_count": 2
        }
      ]
    },
    {
      "cell_type": "code",
      "metadata": {
        "colab": {
          "base_uri": "https://localhost:8080/"
        },
        "id": "Aq20EPRnQ8JD",
        "outputId": "3e518dd3-46d6-4543-89dd-0c7e6727dba0"
      },
      "source": [
        "s1.index\n",
        "print(s1.index)"
      ],
      "execution_count": 3,
      "outputs": [
        {
          "output_type": "stream",
          "text": [
            "RangeIndex(start=0, stop=5, step=1)\n"
          ],
          "name": "stdout"
        }
      ]
    },
    {
      "cell_type": "code",
      "metadata": {
        "colab": {
          "base_uri": "https://localhost:8080/"
        },
        "id": "X3gxzFHQREni",
        "outputId": "e5c14e22-8821-426d-f525-93a9e771b16e"
      },
      "source": [
        "s1.values"
      ],
      "execution_count": 4,
      "outputs": [
        {
          "output_type": "execute_result",
          "data": {
            "text/plain": [
              "array([10, 20, 30, 40, 50])"
            ]
          },
          "metadata": {
            "tags": []
          },
          "execution_count": 4
        }
      ]
    },
    {
      "cell_type": "code",
      "metadata": {
        "colab": {
          "base_uri": "https://localhost:8080/"
        },
        "id": "oNa4YjiORKnD",
        "outputId": "7861b4c3-5e91-4385-c1d3-590b27c6a7fb"
      },
      "source": [
        "s2 = pd.Series(['a','b','c',1,2,3])\n",
        "s2"
      ],
      "execution_count": 6,
      "outputs": [
        {
          "output_type": "execute_result",
          "data": {
            "text/plain": [
              "0    a\n",
              "1    b\n",
              "2    c\n",
              "3    1\n",
              "4    2\n",
              "5    3\n",
              "dtype: object"
            ]
          },
          "metadata": {
            "tags": []
          },
          "execution_count": 6
        }
      ]
    },
    {
      "cell_type": "code",
      "metadata": {
        "colab": {
          "base_uri": "https://localhost:8080/"
        },
        "id": "FywKEV89RSmO",
        "outputId": "407d1b6b-eac0-4c0f-b085-8acabcfab276"
      },
      "source": [
        "import numpy as np\n",
        "\n",
        "s3 = pd.Series([np.nan,10,30])\n",
        "s3"
      ],
      "execution_count": 8,
      "outputs": [
        {
          "output_type": "execute_result",
          "data": {
            "text/plain": [
              "0     NaN\n",
              "1    10.0\n",
              "2    30.0\n",
              "dtype: float64"
            ]
          },
          "metadata": {
            "tags": []
          },
          "execution_count": 8
        }
      ]
    },
    {
      "cell_type": "code",
      "metadata": {
        "colab": {
          "base_uri": "https://localhost:8080/"
        },
        "id": "IqlpIQ-ARjjh",
        "outputId": "a61ab3f3-e792-468b-f3ba-52182bbb0bac"
      },
      "source": [
        "index_date = ['2018-10-07','2018-10-08','2018-10-09','2018-10-10']\n",
        "s4 = pd.Series([200,195,np.nan,205], index = index_date)\n",
        "s4"
      ],
      "execution_count": 9,
      "outputs": [
        {
          "output_type": "execute_result",
          "data": {
            "text/plain": [
              "2018-10-07    200.0\n",
              "2018-10-08    195.0\n",
              "2018-10-09      NaN\n",
              "2018-10-10    205.0\n",
              "dtype: float64"
            ]
          },
          "metadata": {
            "tags": []
          },
          "execution_count": 9
        }
      ]
    },
    {
      "cell_type": "code",
      "metadata": {
        "colab": {
          "base_uri": "https://localhost:8080/"
        },
        "id": "7xlR98aVSGWX",
        "outputId": "799a9dd7-ced0-455f-de2b-23a5cc324403"
      },
      "source": [
        "s5 = pd.Series({'국어':100, '영어':95, '수학':90})\n",
        "s5"
      ],
      "execution_count": 12,
      "outputs": [
        {
          "output_type": "execute_result",
          "data": {
            "text/plain": [
              "국어    100\n",
              "영어     95\n",
              "수학     90\n",
              "dtype: int64"
            ]
          },
          "metadata": {
            "tags": []
          },
          "execution_count": 12
        }
      ]
    },
    {
      "cell_type": "code",
      "metadata": {
        "id": "RE36wb5vSPp4"
      },
      "source": [
        "import pandas as pd"
      ],
      "execution_count": 14,
      "outputs": []
    },
    {
      "cell_type": "code",
      "metadata": {
        "colab": {
          "base_uri": "https://localhost:8080/"
        },
        "id": "U0A0uTmDSaJs",
        "outputId": "9e36bfe9-bb95-4828-c72f-7acd98b8b6bc"
      },
      "source": [
        "pd.date_range(start = '2019-01-01', end = '2019-01-07')"
      ],
      "execution_count": 15,
      "outputs": [
        {
          "output_type": "execute_result",
          "data": {
            "text/plain": [
              "DatetimeIndex(['2019-01-01', '2019-01-02', '2019-01-03', '2019-01-04',\n",
              "               '2019-01-05', '2019-01-06', '2019-01-07'],\n",
              "              dtype='datetime64[ns]', freq='D')"
            ]
          },
          "metadata": {
            "tags": []
          },
          "execution_count": 15
        }
      ]
    },
    {
      "cell_type": "code",
      "metadata": {
        "colab": {
          "base_uri": "https://localhost:8080/"
        },
        "id": "sbpRBB6xSjN8",
        "outputId": "2c4b98c5-6376-43f7-eb35-1c789d93c41d"
      },
      "source": [
        "pd.date_range(start = '2019/01/01', end = '2019.01.07')"
      ],
      "execution_count": 16,
      "outputs": [
        {
          "output_type": "execute_result",
          "data": {
            "text/plain": [
              "DatetimeIndex(['2019-01-01', '2019-01-02', '2019-01-03', '2019-01-04',\n",
              "               '2019-01-05', '2019-01-06', '2019-01-07'],\n",
              "              dtype='datetime64[ns]', freq='D')"
            ]
          },
          "metadata": {
            "tags": []
          },
          "execution_count": 16
        }
      ]
    },
    {
      "cell_type": "code",
      "metadata": {
        "colab": {
          "base_uri": "https://localhost:8080/"
        },
        "id": "3rcGo--RS9k0",
        "outputId": "d6ee4e2d-7c47-491d-db1b-0a83f0b6f76c"
      },
      "source": [
        "pd.date_range(start = '01-01-2019', end= '01/07/2019')"
      ],
      "execution_count": 17,
      "outputs": [
        {
          "output_type": "execute_result",
          "data": {
            "text/plain": [
              "DatetimeIndex(['2019-01-01', '2019-01-02', '2019-01-03', '2019-01-04',\n",
              "               '2019-01-05', '2019-01-06', '2019-01-07'],\n",
              "              dtype='datetime64[ns]', freq='D')"
            ]
          },
          "metadata": {
            "tags": []
          },
          "execution_count": 17
        }
      ]
    },
    {
      "cell_type": "code",
      "metadata": {
        "colab": {
          "base_uri": "https://localhost:8080/"
        },
        "id": "7fscMriTTHtL",
        "outputId": "09a55956-2b61-4830-923c-484d2af9663e"
      },
      "source": [
        "pd.date_range(start = '2019-01-01', end='01.07.2019')"
      ],
      "execution_count": 18,
      "outputs": [
        {
          "output_type": "execute_result",
          "data": {
            "text/plain": [
              "DatetimeIndex(['2019-01-01', '2019-01-02', '2019-01-03', '2019-01-04',\n",
              "               '2019-01-05', '2019-01-06', '2019-01-07'],\n",
              "              dtype='datetime64[ns]', freq='D')"
            ]
          },
          "metadata": {
            "tags": []
          },
          "execution_count": 18
        }
      ]
    },
    {
      "cell_type": "code",
      "metadata": {
        "colab": {
          "base_uri": "https://localhost:8080/"
        },
        "id": "0P719WwITSNd",
        "outputId": "7c43b4b5-e10f-41ec-ba4e-e095aedabb2e"
      },
      "source": [
        "pd.date_range(start='2019-01-01', periods = 7)"
      ],
      "execution_count": 19,
      "outputs": [
        {
          "output_type": "execute_result",
          "data": {
            "text/plain": [
              "DatetimeIndex(['2019-01-01', '2019-01-02', '2019-01-03', '2019-01-04',\n",
              "               '2019-01-05', '2019-01-06', '2019-01-07'],\n",
              "              dtype='datetime64[ns]', freq='D')"
            ]
          },
          "metadata": {
            "tags": []
          },
          "execution_count": 19
        }
      ]
    },
    {
      "cell_type": "code",
      "metadata": {
        "colab": {
          "base_uri": "https://localhost:8080/"
        },
        "id": "Ftq2scxpTaj8",
        "outputId": "00a7c8aa-950e-4dc4-a040-da712e2f575d"
      },
      "source": [
        "pd.date_range( start = '2019-01-01', periods = 4, freq= '2D')"
      ],
      "execution_count": 20,
      "outputs": [
        {
          "output_type": "execute_result",
          "data": {
            "text/plain": [
              "DatetimeIndex(['2019-01-01', '2019-01-03', '2019-01-05', '2019-01-07'], dtype='datetime64[ns]', freq='2D')"
            ]
          },
          "metadata": {
            "tags": []
          },
          "execution_count": 20
        }
      ]
    },
    {
      "cell_type": "code",
      "metadata": {
        "colab": {
          "base_uri": "https://localhost:8080/"
        },
        "id": "zqFmCvhJTme1",
        "outputId": "ae7e8515-0826-463b-c002-9ec83ecb9001"
      },
      "source": [
        "pd.date_range(start = '2019-01-01', periods= 4, freq='W')"
      ],
      "execution_count": 21,
      "outputs": [
        {
          "output_type": "execute_result",
          "data": {
            "text/plain": [
              "DatetimeIndex(['2019-01-06', '2019-01-13', '2019-01-20', '2019-01-27'], dtype='datetime64[ns]', freq='W-SUN')"
            ]
          },
          "metadata": {
            "tags": []
          },
          "execution_count": 21
        }
      ]
    },
    {
      "cell_type": "code",
      "metadata": {
        "colab": {
          "base_uri": "https://localhost:8080/"
        },
        "id": "FpVbsQaAT3If",
        "outputId": "ebcdcf12-4f1e-4efe-d1db-df93606e099c"
      },
      "source": [
        "pd.date_range(start = '2019-01-01', periods = 12, freq= '2BM')"
      ],
      "execution_count": 23,
      "outputs": [
        {
          "output_type": "execute_result",
          "data": {
            "text/plain": [
              "DatetimeIndex(['2019-01-31', '2019-03-29', '2019-05-31', '2019-07-31',\n",
              "               '2019-09-30', '2019-11-29', '2020-01-31', '2020-03-31',\n",
              "               '2020-05-29', '2020-07-31', '2020-09-30', '2020-11-30'],\n",
              "              dtype='datetime64[ns]', freq='2BM')"
            ]
          },
          "metadata": {
            "tags": []
          },
          "execution_count": 23
        }
      ]
    },
    {
      "cell_type": "code",
      "metadata": {
        "colab": {
          "base_uri": "https://localhost:8080/"
        },
        "id": "Wt8Dq0-7UWB2",
        "outputId": "e62c1cfd-c0cb-4f28-e5c5-b46fc4c39664"
      },
      "source": [
        "pd.date_range(start='2019-01-01', periods=3, freq= 'AS')"
      ],
      "execution_count": 24,
      "outputs": [
        {
          "output_type": "execute_result",
          "data": {
            "text/plain": [
              "DatetimeIndex(['2019-01-01', '2020-01-01', '2021-01-01'], dtype='datetime64[ns]', freq='AS-JAN')"
            ]
          },
          "metadata": {
            "tags": []
          },
          "execution_count": 24
        }
      ]
    },
    {
      "cell_type": "code",
      "metadata": {
        "colab": {
          "base_uri": "https://localhost:8080/"
        },
        "id": "1TOtuVCQUzX5",
        "outputId": "4ec93520-682e-4f5a-f5f8-b38c1f5fc550"
      },
      "source": [
        "pd.date_range(start = '2019-01-01 08:00', periods = 10, freq = 'H')"
      ],
      "execution_count": 25,
      "outputs": [
        {
          "output_type": "execute_result",
          "data": {
            "text/plain": [
              "DatetimeIndex(['2019-01-01 08:00:00', '2019-01-01 09:00:00',\n",
              "               '2019-01-01 10:00:00', '2019-01-01 11:00:00',\n",
              "               '2019-01-01 12:00:00', '2019-01-01 13:00:00',\n",
              "               '2019-01-01 14:00:00', '2019-01-01 15:00:00',\n",
              "               '2019-01-01 16:00:00', '2019-01-01 17:00:00'],\n",
              "              dtype='datetime64[ns]', freq='H')"
            ]
          },
          "metadata": {
            "tags": []
          },
          "execution_count": 25
        }
      ]
    },
    {
      "cell_type": "code",
      "metadata": {
        "colab": {
          "base_uri": "https://localhost:8080/"
        },
        "id": "jPCeNRxjVFEs",
        "outputId": "83327d68-b429-4de9-9344-4184f5b2d3c8"
      },
      "source": [
        "pd.date_range(start = '2019-01-01 08:00', periods = 10, freq = 'BH')"
      ],
      "execution_count": 26,
      "outputs": [
        {
          "output_type": "execute_result",
          "data": {
            "text/plain": [
              "DatetimeIndex(['2019-01-01 09:00:00', '2019-01-01 10:00:00',\n",
              "               '2019-01-01 11:00:00', '2019-01-01 12:00:00',\n",
              "               '2019-01-01 13:00:00', '2019-01-01 14:00:00',\n",
              "               '2019-01-01 15:00:00', '2019-01-01 16:00:00',\n",
              "               '2019-01-02 09:00:00', '2019-01-02 10:00:00'],\n",
              "              dtype='datetime64[ns]', freq='BH')"
            ]
          },
          "metadata": {
            "tags": []
          },
          "execution_count": 26
        }
      ]
    },
    {
      "cell_type": "code",
      "metadata": {
        "colab": {
          "base_uri": "https://localhost:8080/"
        },
        "id": "AgzxN5QRVMZz",
        "outputId": "e35f67f0-935a-4df3-fe72-e1393ea0064e"
      },
      "source": [
        "pd.date_range(start = '2019-01-01 10:00', periods = 4, freq = '30min')"
      ],
      "execution_count": 27,
      "outputs": [
        {
          "output_type": "execute_result",
          "data": {
            "text/plain": [
              "DatetimeIndex(['2019-01-01 10:00:00', '2019-01-01 10:30:00',\n",
              "               '2019-01-01 11:00:00', '2019-01-01 11:30:00'],\n",
              "              dtype='datetime64[ns]', freq='30T')"
            ]
          },
          "metadata": {
            "tags": []
          },
          "execution_count": 27
        }
      ]
    },
    {
      "cell_type": "code",
      "metadata": {
        "colab": {
          "base_uri": "https://localhost:8080/"
        },
        "id": "ZE1mG6Q2Vv5l",
        "outputId": "f717042c-770f-48e1-b412-13d32ae81d9d"
      },
      "source": [
        "pd.date_range(start = '2019-01-01 10:00', periods = 4, freq = '30T')"
      ],
      "execution_count": 28,
      "outputs": [
        {
          "output_type": "execute_result",
          "data": {
            "text/plain": [
              "DatetimeIndex(['2019-01-01 10:00:00', '2019-01-01 10:30:00',\n",
              "               '2019-01-01 11:00:00', '2019-01-01 11:30:00'],\n",
              "              dtype='datetime64[ns]', freq='30T')"
            ]
          },
          "metadata": {
            "tags": []
          },
          "execution_count": 28
        }
      ]
    },
    {
      "cell_type": "code",
      "metadata": {
        "colab": {
          "base_uri": "https://localhost:8080/"
        },
        "id": "wlygkmZIV5p0",
        "outputId": "44846658-089a-4a91-a039-648a28f66711"
      },
      "source": [
        "pd.date_range(start = '2019-01-01 10:00', periods = 4, freq = '10S')"
      ],
      "execution_count": 29,
      "outputs": [
        {
          "output_type": "execute_result",
          "data": {
            "text/plain": [
              "DatetimeIndex(['2019-01-01 10:00:00', '2019-01-01 10:00:10',\n",
              "               '2019-01-01 10:00:20', '2019-01-01 10:00:30'],\n",
              "              dtype='datetime64[ns]', freq='10S')"
            ]
          },
          "metadata": {
            "tags": []
          },
          "execution_count": 29
        }
      ]
    },
    {
      "cell_type": "code",
      "metadata": {
        "colab": {
          "base_uri": "https://localhost:8080/"
        },
        "id": "7u23o9TnWAtx",
        "outputId": "c684c831-354d-4c67-bfac-24fc4ebc7183"
      },
      "source": [
        "index_date = pd.date_range(start = '2019-03-01',periods = 5, freq = 'D')\n",
        "pd.Series([51,62,55,49,58], index = index_date)"
      ],
      "execution_count": 30,
      "outputs": [
        {
          "output_type": "execute_result",
          "data": {
            "text/plain": [
              "2019-03-01    51\n",
              "2019-03-02    62\n",
              "2019-03-03    55\n",
              "2019-03-04    49\n",
              "2019-03-05    58\n",
              "Freq: D, dtype: int64"
            ]
          },
          "metadata": {
            "tags": []
          },
          "execution_count": 30
        }
      ]
    },
    {
      "cell_type": "code",
      "metadata": {
        "colab": {
          "base_uri": "https://localhost:8080/",
          "height": 141
        },
        "id": "Xua0diumWeMd",
        "outputId": "1a2722af-3f89-4eec-b6ae-48d3fdd6a1e5"
      },
      "source": [
        "import pandas as pd\n",
        "\n",
        "pd.DataFrame([[1,2,3], [4,5,6], [7,8,9]])"
      ],
      "execution_count": 2,
      "outputs": [
        {
          "output_type": "execute_result",
          "data": {
            "text/html": [
              "<div>\n",
              "<style scoped>\n",
              "    .dataframe tbody tr th:only-of-type {\n",
              "        vertical-align: middle;\n",
              "    }\n",
              "\n",
              "    .dataframe tbody tr th {\n",
              "        vertical-align: top;\n",
              "    }\n",
              "\n",
              "    .dataframe thead th {\n",
              "        text-align: right;\n",
              "    }\n",
              "</style>\n",
              "<table border=\"1\" class=\"dataframe\">\n",
              "  <thead>\n",
              "    <tr style=\"text-align: right;\">\n",
              "      <th></th>\n",
              "      <th>0</th>\n",
              "      <th>1</th>\n",
              "      <th>2</th>\n",
              "    </tr>\n",
              "  </thead>\n",
              "  <tbody>\n",
              "    <tr>\n",
              "      <th>0</th>\n",
              "      <td>1</td>\n",
              "      <td>2</td>\n",
              "      <td>3</td>\n",
              "    </tr>\n",
              "    <tr>\n",
              "      <th>1</th>\n",
              "      <td>4</td>\n",
              "      <td>5</td>\n",
              "      <td>6</td>\n",
              "    </tr>\n",
              "    <tr>\n",
              "      <th>2</th>\n",
              "      <td>7</td>\n",
              "      <td>8</td>\n",
              "      <td>9</td>\n",
              "    </tr>\n",
              "  </tbody>\n",
              "</table>\n",
              "</div>"
            ],
            "text/plain": [
              "   0  1  2\n",
              "0  1  2  3\n",
              "1  4  5  6\n",
              "2  7  8  9"
            ]
          },
          "metadata": {
            "tags": []
          },
          "execution_count": 2
        }
      ]
    },
    {
      "cell_type": "code",
      "metadata": {
        "colab": {
          "base_uri": "https://localhost:8080/",
          "height": 141
        },
        "id": "i_Iavyv23sq7",
        "outputId": "ba691536-261f-48e5-f46d-5815f5732c80"
      },
      "source": [
        "import numpy as np\n",
        "import pandas as pd\n",
        "\n",
        "data_list = np.array([[10,20,30,], [40,50,60], [70,80,90]])\n",
        "pd.DataFrame(data_list)"
      ],
      "execution_count": 3,
      "outputs": [
        {
          "output_type": "execute_result",
          "data": {
            "text/html": [
              "<div>\n",
              "<style scoped>\n",
              "    .dataframe tbody tr th:only-of-type {\n",
              "        vertical-align: middle;\n",
              "    }\n",
              "\n",
              "    .dataframe tbody tr th {\n",
              "        vertical-align: top;\n",
              "    }\n",
              "\n",
              "    .dataframe thead th {\n",
              "        text-align: right;\n",
              "    }\n",
              "</style>\n",
              "<table border=\"1\" class=\"dataframe\">\n",
              "  <thead>\n",
              "    <tr style=\"text-align: right;\">\n",
              "      <th></th>\n",
              "      <th>0</th>\n",
              "      <th>1</th>\n",
              "      <th>2</th>\n",
              "    </tr>\n",
              "  </thead>\n",
              "  <tbody>\n",
              "    <tr>\n",
              "      <th>0</th>\n",
              "      <td>10</td>\n",
              "      <td>20</td>\n",
              "      <td>30</td>\n",
              "    </tr>\n",
              "    <tr>\n",
              "      <th>1</th>\n",
              "      <td>40</td>\n",
              "      <td>50</td>\n",
              "      <td>60</td>\n",
              "    </tr>\n",
              "    <tr>\n",
              "      <th>2</th>\n",
              "      <td>70</td>\n",
              "      <td>80</td>\n",
              "      <td>90</td>\n",
              "    </tr>\n",
              "  </tbody>\n",
              "</table>\n",
              "</div>"
            ],
            "text/plain": [
              "    0   1   2\n",
              "0  10  20  30\n",
              "1  40  50  60\n",
              "2  70  80  90"
            ]
          },
          "metadata": {
            "tags": []
          },
          "execution_count": 3
        }
      ]
    },
    {
      "cell_type": "code",
      "metadata": {
        "colab": {
          "base_uri": "https://localhost:8080/",
          "height": 171
        },
        "id": "T9xF_we04G6S",
        "outputId": "69a2bd5a-55aa-4132-8eb7-01ae7af7accb"
      },
      "source": [
        "import numpy as np\n",
        "import pandas as pd\n",
        "\n",
        "data = np.array([[1,2,3],[4,5,6],[7,8,9],[10,11,12]])\n",
        "index_date = pd.date_range('2019-09-01', periods = 4)\n",
        "columns_list = ['A','B','C']\n",
        "pd.DataFrame(data, index=index_date, columns = columns_list)"
      ],
      "execution_count": 5,
      "outputs": [
        {
          "output_type": "execute_result",
          "data": {
            "text/html": [
              "<div>\n",
              "<style scoped>\n",
              "    .dataframe tbody tr th:only-of-type {\n",
              "        vertical-align: middle;\n",
              "    }\n",
              "\n",
              "    .dataframe tbody tr th {\n",
              "        vertical-align: top;\n",
              "    }\n",
              "\n",
              "    .dataframe thead th {\n",
              "        text-align: right;\n",
              "    }\n",
              "</style>\n",
              "<table border=\"1\" class=\"dataframe\">\n",
              "  <thead>\n",
              "    <tr style=\"text-align: right;\">\n",
              "      <th></th>\n",
              "      <th>A</th>\n",
              "      <th>B</th>\n",
              "      <th>C</th>\n",
              "    </tr>\n",
              "  </thead>\n",
              "  <tbody>\n",
              "    <tr>\n",
              "      <th>2019-09-01</th>\n",
              "      <td>1</td>\n",
              "      <td>2</td>\n",
              "      <td>3</td>\n",
              "    </tr>\n",
              "    <tr>\n",
              "      <th>2019-09-02</th>\n",
              "      <td>4</td>\n",
              "      <td>5</td>\n",
              "      <td>6</td>\n",
              "    </tr>\n",
              "    <tr>\n",
              "      <th>2019-09-03</th>\n",
              "      <td>7</td>\n",
              "      <td>8</td>\n",
              "      <td>9</td>\n",
              "    </tr>\n",
              "    <tr>\n",
              "      <th>2019-09-04</th>\n",
              "      <td>10</td>\n",
              "      <td>11</td>\n",
              "      <td>12</td>\n",
              "    </tr>\n",
              "  </tbody>\n",
              "</table>\n",
              "</div>"
            ],
            "text/plain": [
              "             A   B   C\n",
              "2019-09-01   1   2   3\n",
              "2019-09-02   4   5   6\n",
              "2019-09-03   7   8   9\n",
              "2019-09-04  10  11  12"
            ]
          },
          "metadata": {
            "tags": []
          },
          "execution_count": 5
        }
      ]
    },
    {
      "cell_type": "code",
      "metadata": {
        "colab": {
          "base_uri": "https://localhost:8080/"
        },
        "id": "j6Wlv8MD47xv",
        "outputId": "3051da9b-28b2-4186-b174-8640b7e48ff5"
      },
      "source": [
        "table_data = {'연도': [2015,2016,2016,2017,2017], '지사':['한국', '한국', '미국', '한국', '미국'], \n",
        "              '고객수':[200,250,450,300,500]}\n",
        "\n",
        "table_data "
      ],
      "execution_count": 6,
      "outputs": [
        {
          "output_type": "execute_result",
          "data": {
            "text/plain": [
              "{'고객수': [200, 250, 450, 300, 500],\n",
              " '연도': [2015, 2016, 2016, 2017, 2017],\n",
              " '지사': ['한국', '한국', '미국', '한국', '미국']}"
            ]
          },
          "metadata": {
            "tags": []
          },
          "execution_count": 6
        }
      ]
    },
    {
      "cell_type": "code",
      "metadata": {
        "colab": {
          "base_uri": "https://localhost:8080/",
          "height": 202
        },
        "id": "QBS7NONj5trY",
        "outputId": "4cdd6e99-3fd6-4c75-d13b-30ef109dddbe"
      },
      "source": [
        "pd.DataFrame(table_data)"
      ],
      "execution_count": 7,
      "outputs": [
        {
          "output_type": "execute_result",
          "data": {
            "text/html": [
              "<div>\n",
              "<style scoped>\n",
              "    .dataframe tbody tr th:only-of-type {\n",
              "        vertical-align: middle;\n",
              "    }\n",
              "\n",
              "    .dataframe tbody tr th {\n",
              "        vertical-align: top;\n",
              "    }\n",
              "\n",
              "    .dataframe thead th {\n",
              "        text-align: right;\n",
              "    }\n",
              "</style>\n",
              "<table border=\"1\" class=\"dataframe\">\n",
              "  <thead>\n",
              "    <tr style=\"text-align: right;\">\n",
              "      <th></th>\n",
              "      <th>연도</th>\n",
              "      <th>지사</th>\n",
              "      <th>고객수</th>\n",
              "    </tr>\n",
              "  </thead>\n",
              "  <tbody>\n",
              "    <tr>\n",
              "      <th>0</th>\n",
              "      <td>2015</td>\n",
              "      <td>한국</td>\n",
              "      <td>200</td>\n",
              "    </tr>\n",
              "    <tr>\n",
              "      <th>1</th>\n",
              "      <td>2016</td>\n",
              "      <td>한국</td>\n",
              "      <td>250</td>\n",
              "    </tr>\n",
              "    <tr>\n",
              "      <th>2</th>\n",
              "      <td>2016</td>\n",
              "      <td>미국</td>\n",
              "      <td>450</td>\n",
              "    </tr>\n",
              "    <tr>\n",
              "      <th>3</th>\n",
              "      <td>2017</td>\n",
              "      <td>한국</td>\n",
              "      <td>300</td>\n",
              "    </tr>\n",
              "    <tr>\n",
              "      <th>4</th>\n",
              "      <td>2017</td>\n",
              "      <td>미국</td>\n",
              "      <td>500</td>\n",
              "    </tr>\n",
              "  </tbody>\n",
              "</table>\n",
              "</div>"
            ],
            "text/plain": [
              "     연도  지사  고객수\n",
              "0  2015  한국  200\n",
              "1  2016  한국  250\n",
              "2  2016  미국  450\n",
              "3  2017  한국  300\n",
              "4  2017  미국  500"
            ]
          },
          "metadata": {
            "tags": []
          },
          "execution_count": 7
        }
      ]
    },
    {
      "cell_type": "code",
      "metadata": {
        "colab": {
          "base_uri": "https://localhost:8080/",
          "height": 202
        },
        "id": "a-MK7sY152ld",
        "outputId": "90e00c5e-6e1d-41e3-dc0f-15e9d1e078cb"
      },
      "source": [
        "df = pd.DataFrame(table_data, columns = ['연도', '지사', '고객수'])\n",
        "df"
      ],
      "execution_count": 9,
      "outputs": [
        {
          "output_type": "execute_result",
          "data": {
            "text/html": [
              "<div>\n",
              "<style scoped>\n",
              "    .dataframe tbody tr th:only-of-type {\n",
              "        vertical-align: middle;\n",
              "    }\n",
              "\n",
              "    .dataframe tbody tr th {\n",
              "        vertical-align: top;\n",
              "    }\n",
              "\n",
              "    .dataframe thead th {\n",
              "        text-align: right;\n",
              "    }\n",
              "</style>\n",
              "<table border=\"1\" class=\"dataframe\">\n",
              "  <thead>\n",
              "    <tr style=\"text-align: right;\">\n",
              "      <th></th>\n",
              "      <th>연도</th>\n",
              "      <th>지사</th>\n",
              "      <th>고객수</th>\n",
              "    </tr>\n",
              "  </thead>\n",
              "  <tbody>\n",
              "    <tr>\n",
              "      <th>0</th>\n",
              "      <td>2015</td>\n",
              "      <td>한국</td>\n",
              "      <td>200</td>\n",
              "    </tr>\n",
              "    <tr>\n",
              "      <th>1</th>\n",
              "      <td>2016</td>\n",
              "      <td>한국</td>\n",
              "      <td>250</td>\n",
              "    </tr>\n",
              "    <tr>\n",
              "      <th>2</th>\n",
              "      <td>2016</td>\n",
              "      <td>미국</td>\n",
              "      <td>450</td>\n",
              "    </tr>\n",
              "    <tr>\n",
              "      <th>3</th>\n",
              "      <td>2017</td>\n",
              "      <td>한국</td>\n",
              "      <td>300</td>\n",
              "    </tr>\n",
              "    <tr>\n",
              "      <th>4</th>\n",
              "      <td>2017</td>\n",
              "      <td>미국</td>\n",
              "      <td>500</td>\n",
              "    </tr>\n",
              "  </tbody>\n",
              "</table>\n",
              "</div>"
            ],
            "text/plain": [
              "     연도  지사  고객수\n",
              "0  2015  한국  200\n",
              "1  2016  한국  250\n",
              "2  2016  미국  450\n",
              "3  2017  한국  300\n",
              "4  2017  미국  500"
            ]
          },
          "metadata": {
            "tags": []
          },
          "execution_count": 9
        }
      ]
    },
    {
      "cell_type": "code",
      "metadata": {
        "colab": {
          "base_uri": "https://localhost:8080/"
        },
        "id": "w0zISw_X6iYD",
        "outputId": "b003657c-8085-4329-b635-51ff3f465ab6"
      },
      "source": [
        "df.index"
      ],
      "execution_count": 10,
      "outputs": [
        {
          "output_type": "execute_result",
          "data": {
            "text/plain": [
              "RangeIndex(start=0, stop=5, step=1)"
            ]
          },
          "metadata": {
            "tags": []
          },
          "execution_count": 10
        }
      ]
    },
    {
      "cell_type": "code",
      "metadata": {
        "colab": {
          "base_uri": "https://localhost:8080/"
        },
        "id": "iyShUE4f6ud4",
        "outputId": "a17a3d0f-97b0-405b-ee12-6e117626ca62"
      },
      "source": [
        "df.columns"
      ],
      "execution_count": 11,
      "outputs": [
        {
          "output_type": "execute_result",
          "data": {
            "text/plain": [
              "Index(['연도', '지사', '고객수'], dtype='object')"
            ]
          },
          "metadata": {
            "tags": []
          },
          "execution_count": 11
        }
      ]
    },
    {
      "cell_type": "code",
      "metadata": {
        "colab": {
          "base_uri": "https://localhost:8080/"
        },
        "id": "6k2bAB-c6weg",
        "outputId": "f9ba766c-2ae3-4594-d8fd-d5741eba0b32"
      },
      "source": [
        "df.values"
      ],
      "execution_count": 12,
      "outputs": [
        {
          "output_type": "execute_result",
          "data": {
            "text/plain": [
              "array([[2015, '한국', 200],\n",
              "       [2016, '한국', 250],\n",
              "       [2016, '미국', 450],\n",
              "       [2017, '한국', 300],\n",
              "       [2017, '미국', 500]], dtype=object)"
            ]
          },
          "metadata": {
            "tags": []
          },
          "execution_count": 12
        }
      ]
    },
    {
      "cell_type": "code",
      "metadata": {
        "colab": {
          "base_uri": "https://localhost:8080/"
        },
        "id": "YaxpWRY16zJw",
        "outputId": "fa0663bb-91f2-44de-b882-bb3ea9f329b8"
      },
      "source": [
        "s1 = pd.Series([1,2,3,4,5])\n",
        "s2 = pd.Series([10,20,30,40,50])\n",
        "s1+s2"
      ],
      "execution_count": 13,
      "outputs": [
        {
          "output_type": "execute_result",
          "data": {
            "text/plain": [
              "0    11\n",
              "1    22\n",
              "2    33\n",
              "3    44\n",
              "4    55\n",
              "dtype: int64"
            ]
          },
          "metadata": {
            "tags": []
          },
          "execution_count": 13
        }
      ]
    },
    {
      "cell_type": "code",
      "metadata": {
        "colab": {
          "base_uri": "https://localhost:8080/"
        },
        "id": "-frXWp866_Uj",
        "outputId": "0795fe1b-8971-4c0f-c093-cd08fd813964"
      },
      "source": [
        "s2-s1"
      ],
      "execution_count": 14,
      "outputs": [
        {
          "output_type": "execute_result",
          "data": {
            "text/plain": [
              "0     9\n",
              "1    18\n",
              "2    27\n",
              "3    36\n",
              "4    45\n",
              "dtype: int64"
            ]
          },
          "metadata": {
            "tags": []
          },
          "execution_count": 14
        }
      ]
    },
    {
      "cell_type": "code",
      "metadata": {
        "colab": {
          "base_uri": "https://localhost:8080/"
        },
        "id": "mnvIlM6A7Dda",
        "outputId": "6f451abe-c71d-4795-9d89-39cceaf56954"
      },
      "source": [
        "s1*s2"
      ],
      "execution_count": 15,
      "outputs": [
        {
          "output_type": "execute_result",
          "data": {
            "text/plain": [
              "0     10\n",
              "1     40\n",
              "2     90\n",
              "3    160\n",
              "4    250\n",
              "dtype: int64"
            ]
          },
          "metadata": {
            "tags": []
          },
          "execution_count": 15
        }
      ]
    },
    {
      "cell_type": "code",
      "metadata": {
        "colab": {
          "base_uri": "https://localhost:8080/"
        },
        "id": "OQ87b30k7Fhs",
        "outputId": "e3b2ab20-f726-4bba-9998-576c3554d0ed"
      },
      "source": [
        "s2/s1"
      ],
      "execution_count": 16,
      "outputs": [
        {
          "output_type": "execute_result",
          "data": {
            "text/plain": [
              "0    10.0\n",
              "1    10.0\n",
              "2    10.0\n",
              "3    10.0\n",
              "4    10.0\n",
              "dtype: float64"
            ]
          },
          "metadata": {
            "tags": []
          },
          "execution_count": 16
        }
      ]
    },
    {
      "cell_type": "code",
      "metadata": {
        "colab": {
          "base_uri": "https://localhost:8080/"
        },
        "id": "zVwbi6Eu7G9P",
        "outputId": "c125c155-bffe-492b-b54c-2e48532f5ba0"
      },
      "source": [
        "s3 = pd.Series([1,2,3,4])\n",
        "s4 = pd.Series([10,20,30,40,50])\n",
        "s3 +s4"
      ],
      "execution_count": 17,
      "outputs": [
        {
          "output_type": "execute_result",
          "data": {
            "text/plain": [
              "0    11.0\n",
              "1    22.0\n",
              "2    33.0\n",
              "3    44.0\n",
              "4     NaN\n",
              "dtype: float64"
            ]
          },
          "metadata": {
            "tags": []
          },
          "execution_count": 17
        }
      ]
    },
    {
      "cell_type": "code",
      "metadata": {
        "colab": {
          "base_uri": "https://localhost:8080/"
        },
        "id": "BAtn_ZCt7St9",
        "outputId": "e53da177-d815-4a70-9b94-7cc1c74ea9d5"
      },
      "source": [
        "s4-s3"
      ],
      "execution_count": 18,
      "outputs": [
        {
          "output_type": "execute_result",
          "data": {
            "text/plain": [
              "0     9.0\n",
              "1    18.0\n",
              "2    27.0\n",
              "3    36.0\n",
              "4     NaN\n",
              "dtype: float64"
            ]
          },
          "metadata": {
            "tags": []
          },
          "execution_count": 18
        }
      ]
    },
    {
      "cell_type": "code",
      "metadata": {
        "colab": {
          "base_uri": "https://localhost:8080/"
        },
        "id": "hFXsq-Uy7U7-",
        "outputId": "040624b3-50f7-4da8-9ca0-2abf7e8b7efd"
      },
      "source": [
        "s3*s4"
      ],
      "execution_count": 19,
      "outputs": [
        {
          "output_type": "execute_result",
          "data": {
            "text/plain": [
              "0     10.0\n",
              "1     40.0\n",
              "2     90.0\n",
              "3    160.0\n",
              "4      NaN\n",
              "dtype: float64"
            ]
          },
          "metadata": {
            "tags": []
          },
          "execution_count": 19
        }
      ]
    },
    {
      "cell_type": "code",
      "metadata": {
        "colab": {
          "base_uri": "https://localhost:8080/"
        },
        "id": "qlKzSue87Wt1",
        "outputId": "39a13e1b-3643-4a44-99b9-2b238ba1176d"
      },
      "source": [
        "s4/s3"
      ],
      "execution_count": 20,
      "outputs": [
        {
          "output_type": "execute_result",
          "data": {
            "text/plain": [
              "0    10.0\n",
              "1    10.0\n",
              "2    10.0\n",
              "3    10.0\n",
              "4     NaN\n",
              "dtype: float64"
            ]
          },
          "metadata": {
            "tags": []
          },
          "execution_count": 20
        }
      ]
    },
    {
      "cell_type": "code",
      "metadata": {
        "colab": {
          "base_uri": "https://localhost:8080/",
          "height": 202
        },
        "id": "yE9tvZnR7aXW",
        "outputId": "95d4f6f7-2467-409e-b7d0-8dbea20a2456"
      },
      "source": [
        "table_data1 = {'A':[1,2,3,4,5], 'B':[10,20,30,40,50], 'C':[100,200,300,400,500]}\n",
        "df1 = pd.DataFrame(table_data1)\n",
        "df1"
      ],
      "execution_count": 21,
      "outputs": [
        {
          "output_type": "execute_result",
          "data": {
            "text/html": [
              "<div>\n",
              "<style scoped>\n",
              "    .dataframe tbody tr th:only-of-type {\n",
              "        vertical-align: middle;\n",
              "    }\n",
              "\n",
              "    .dataframe tbody tr th {\n",
              "        vertical-align: top;\n",
              "    }\n",
              "\n",
              "    .dataframe thead th {\n",
              "        text-align: right;\n",
              "    }\n",
              "</style>\n",
              "<table border=\"1\" class=\"dataframe\">\n",
              "  <thead>\n",
              "    <tr style=\"text-align: right;\">\n",
              "      <th></th>\n",
              "      <th>A</th>\n",
              "      <th>B</th>\n",
              "      <th>C</th>\n",
              "    </tr>\n",
              "  </thead>\n",
              "  <tbody>\n",
              "    <tr>\n",
              "      <th>0</th>\n",
              "      <td>1</td>\n",
              "      <td>10</td>\n",
              "      <td>100</td>\n",
              "    </tr>\n",
              "    <tr>\n",
              "      <th>1</th>\n",
              "      <td>2</td>\n",
              "      <td>20</td>\n",
              "      <td>200</td>\n",
              "    </tr>\n",
              "    <tr>\n",
              "      <th>2</th>\n",
              "      <td>3</td>\n",
              "      <td>30</td>\n",
              "      <td>300</td>\n",
              "    </tr>\n",
              "    <tr>\n",
              "      <th>3</th>\n",
              "      <td>4</td>\n",
              "      <td>40</td>\n",
              "      <td>400</td>\n",
              "    </tr>\n",
              "    <tr>\n",
              "      <th>4</th>\n",
              "      <td>5</td>\n",
              "      <td>50</td>\n",
              "      <td>500</td>\n",
              "    </tr>\n",
              "  </tbody>\n",
              "</table>\n",
              "</div>"
            ],
            "text/plain": [
              "   A   B    C\n",
              "0  1  10  100\n",
              "1  2  20  200\n",
              "2  3  30  300\n",
              "3  4  40  400\n",
              "4  5  50  500"
            ]
          },
          "metadata": {
            "tags": []
          },
          "execution_count": 21
        }
      ]
    },
    {
      "cell_type": "code",
      "metadata": {
        "colab": {
          "base_uri": "https://localhost:8080/",
          "height": 141
        },
        "id": "UgWnrbpE72rN",
        "outputId": "11843ac4-23df-4074-b1eb-935dbd57b1b5"
      },
      "source": [
        "table_data2 = {'A':[6,7,8], 'B':[60,70,80], 'C':[600,700,800]}\n",
        "df2 =  pd.DataFrame(table_data2)\n",
        "df2"
      ],
      "execution_count": 24,
      "outputs": [
        {
          "output_type": "execute_result",
          "data": {
            "text/html": [
              "<div>\n",
              "<style scoped>\n",
              "    .dataframe tbody tr th:only-of-type {\n",
              "        vertical-align: middle;\n",
              "    }\n",
              "\n",
              "    .dataframe tbody tr th {\n",
              "        vertical-align: top;\n",
              "    }\n",
              "\n",
              "    .dataframe thead th {\n",
              "        text-align: right;\n",
              "    }\n",
              "</style>\n",
              "<table border=\"1\" class=\"dataframe\">\n",
              "  <thead>\n",
              "    <tr style=\"text-align: right;\">\n",
              "      <th></th>\n",
              "      <th>A</th>\n",
              "      <th>B</th>\n",
              "      <th>C</th>\n",
              "    </tr>\n",
              "  </thead>\n",
              "  <tbody>\n",
              "    <tr>\n",
              "      <th>0</th>\n",
              "      <td>6</td>\n",
              "      <td>60</td>\n",
              "      <td>600</td>\n",
              "    </tr>\n",
              "    <tr>\n",
              "      <th>1</th>\n",
              "      <td>7</td>\n",
              "      <td>70</td>\n",
              "      <td>700</td>\n",
              "    </tr>\n",
              "    <tr>\n",
              "      <th>2</th>\n",
              "      <td>8</td>\n",
              "      <td>80</td>\n",
              "      <td>800</td>\n",
              "    </tr>\n",
              "  </tbody>\n",
              "</table>\n",
              "</div>"
            ],
            "text/plain": [
              "   A   B    C\n",
              "0  6  60  600\n",
              "1  7  70  700\n",
              "2  8  80  800"
            ]
          },
          "metadata": {
            "tags": []
          },
          "execution_count": 24
        }
      ]
    },
    {
      "cell_type": "code",
      "metadata": {
        "colab": {
          "base_uri": "https://localhost:8080/",
          "height": 202
        },
        "id": "1AprAtbE8J2L",
        "outputId": "ce48c980-dbc6-41e3-b793-3349ede3e1f3"
      },
      "source": [
        "df1 + df2"
      ],
      "execution_count": 25,
      "outputs": [
        {
          "output_type": "execute_result",
          "data": {
            "text/html": [
              "<div>\n",
              "<style scoped>\n",
              "    .dataframe tbody tr th:only-of-type {\n",
              "        vertical-align: middle;\n",
              "    }\n",
              "\n",
              "    .dataframe tbody tr th {\n",
              "        vertical-align: top;\n",
              "    }\n",
              "\n",
              "    .dataframe thead th {\n",
              "        text-align: right;\n",
              "    }\n",
              "</style>\n",
              "<table border=\"1\" class=\"dataframe\">\n",
              "  <thead>\n",
              "    <tr style=\"text-align: right;\">\n",
              "      <th></th>\n",
              "      <th>A</th>\n",
              "      <th>B</th>\n",
              "      <th>C</th>\n",
              "    </tr>\n",
              "  </thead>\n",
              "  <tbody>\n",
              "    <tr>\n",
              "      <th>0</th>\n",
              "      <td>7.0</td>\n",
              "      <td>70.0</td>\n",
              "      <td>700.0</td>\n",
              "    </tr>\n",
              "    <tr>\n",
              "      <th>1</th>\n",
              "      <td>9.0</td>\n",
              "      <td>90.0</td>\n",
              "      <td>900.0</td>\n",
              "    </tr>\n",
              "    <tr>\n",
              "      <th>2</th>\n",
              "      <td>11.0</td>\n",
              "      <td>110.0</td>\n",
              "      <td>1100.0</td>\n",
              "    </tr>\n",
              "    <tr>\n",
              "      <th>3</th>\n",
              "      <td>NaN</td>\n",
              "      <td>NaN</td>\n",
              "      <td>NaN</td>\n",
              "    </tr>\n",
              "    <tr>\n",
              "      <th>4</th>\n",
              "      <td>NaN</td>\n",
              "      <td>NaN</td>\n",
              "      <td>NaN</td>\n",
              "    </tr>\n",
              "  </tbody>\n",
              "</table>\n",
              "</div>"
            ],
            "text/plain": [
              "      A      B       C\n",
              "0   7.0   70.0   700.0\n",
              "1   9.0   90.0   900.0\n",
              "2  11.0  110.0  1100.0\n",
              "3   NaN    NaN     NaN\n",
              "4   NaN    NaN     NaN"
            ]
          },
          "metadata": {
            "tags": []
          },
          "execution_count": 25
        }
      ]
    },
    {
      "cell_type": "code",
      "metadata": {
        "colab": {
          "base_uri": "https://localhost:8080/",
          "height": 202
        },
        "id": "jJhV1hP68R4X",
        "outputId": "b0785d73-796c-46f8-9e6c-6a791adf6800"
      },
      "source": [
        "table_data3 = {'봄': [256.5, 264.3, 215.9, 223.2, 312.8], '여름':[770.6,567.5,599.8,387.1,446.2],\n",
        "               '가을':[363.5,231.2,293.1,247.7,381.6], '겨울':[139.3,59.9,76.9,109.1,108.1]}\n",
        "\n",
        "columns_list = ['봄', '여름', '가을', '겨울']\n",
        "index_list = ['2012','2013','2014','2015','2016']\n",
        "\n",
        "df3 = pd.DataFrame(table_data3, columns = columns_list, index= index_list)\n",
        "df3"
      ],
      "execution_count": 26,
      "outputs": [
        {
          "output_type": "execute_result",
          "data": {
            "text/html": [
              "<div>\n",
              "<style scoped>\n",
              "    .dataframe tbody tr th:only-of-type {\n",
              "        vertical-align: middle;\n",
              "    }\n",
              "\n",
              "    .dataframe tbody tr th {\n",
              "        vertical-align: top;\n",
              "    }\n",
              "\n",
              "    .dataframe thead th {\n",
              "        text-align: right;\n",
              "    }\n",
              "</style>\n",
              "<table border=\"1\" class=\"dataframe\">\n",
              "  <thead>\n",
              "    <tr style=\"text-align: right;\">\n",
              "      <th></th>\n",
              "      <th>봄</th>\n",
              "      <th>여름</th>\n",
              "      <th>가을</th>\n",
              "      <th>겨울</th>\n",
              "    </tr>\n",
              "  </thead>\n",
              "  <tbody>\n",
              "    <tr>\n",
              "      <th>2012</th>\n",
              "      <td>256.5</td>\n",
              "      <td>770.6</td>\n",
              "      <td>363.5</td>\n",
              "      <td>139.3</td>\n",
              "    </tr>\n",
              "    <tr>\n",
              "      <th>2013</th>\n",
              "      <td>264.3</td>\n",
              "      <td>567.5</td>\n",
              "      <td>231.2</td>\n",
              "      <td>59.9</td>\n",
              "    </tr>\n",
              "    <tr>\n",
              "      <th>2014</th>\n",
              "      <td>215.9</td>\n",
              "      <td>599.8</td>\n",
              "      <td>293.1</td>\n",
              "      <td>76.9</td>\n",
              "    </tr>\n",
              "    <tr>\n",
              "      <th>2015</th>\n",
              "      <td>223.2</td>\n",
              "      <td>387.1</td>\n",
              "      <td>247.7</td>\n",
              "      <td>109.1</td>\n",
              "    </tr>\n",
              "    <tr>\n",
              "      <th>2016</th>\n",
              "      <td>312.8</td>\n",
              "      <td>446.2</td>\n",
              "      <td>381.6</td>\n",
              "      <td>108.1</td>\n",
              "    </tr>\n",
              "  </tbody>\n",
              "</table>\n",
              "</div>"
            ],
            "text/plain": [
              "          봄     여름     가을     겨울\n",
              "2012  256.5  770.6  363.5  139.3\n",
              "2013  264.3  567.5  231.2   59.9\n",
              "2014  215.9  599.8  293.1   76.9\n",
              "2015  223.2  387.1  247.7  109.1\n",
              "2016  312.8  446.2  381.6  108.1"
            ]
          },
          "metadata": {
            "tags": []
          },
          "execution_count": 26
        }
      ]
    },
    {
      "cell_type": "code",
      "metadata": {
        "colab": {
          "base_uri": "https://localhost:8080/"
        },
        "id": "AESgQOzF9ik9",
        "outputId": "6afd139b-9076-45e2-9edc-86127711fb37"
      },
      "source": [
        "df3.mean()"
      ],
      "execution_count": 27,
      "outputs": [
        {
          "output_type": "execute_result",
          "data": {
            "text/plain": [
              "봄     254.54\n",
              "여름    554.24\n",
              "가을    303.42\n",
              "겨울     98.66\n",
              "dtype: float64"
            ]
          },
          "metadata": {
            "tags": []
          },
          "execution_count": 27
        }
      ]
    },
    {
      "cell_type": "code",
      "metadata": {
        "colab": {
          "base_uri": "https://localhost:8080/"
        },
        "id": "EHoPEtEI9lK_",
        "outputId": "77a43d9f-82ea-450a-88bb-d2813deccc2b"
      },
      "source": [
        "df3.std()"
      ],
      "execution_count": 28,
      "outputs": [
        {
          "output_type": "execute_result",
          "data": {
            "text/plain": [
              "봄      38.628267\n",
              "여름    148.888895\n",
              "가을     67.358496\n",
              "겨울     30.925523\n",
              "dtype: float64"
            ]
          },
          "metadata": {
            "tags": []
          },
          "execution_count": 28
        }
      ]
    },
    {
      "cell_type": "code",
      "metadata": {
        "colab": {
          "base_uri": "https://localhost:8080/"
        },
        "id": "IBy63vdA9nPU",
        "outputId": "e6992915-0a5f-46a4-9ebf-6fe2eb2ae041"
      },
      "source": [
        "df3.mean(axis=1)"
      ],
      "execution_count": 29,
      "outputs": [
        {
          "output_type": "execute_result",
          "data": {
            "text/plain": [
              "2012    382.475\n",
              "2013    280.725\n",
              "2014    296.425\n",
              "2015    241.775\n",
              "2016    312.175\n",
              "dtype: float64"
            ]
          },
          "metadata": {
            "tags": []
          },
          "execution_count": 29
        }
      ]
    },
    {
      "cell_type": "code",
      "metadata": {
        "colab": {
          "base_uri": "https://localhost:8080/"
        },
        "id": "tZCZahaT9qMG",
        "outputId": "2ed14313-e829-401b-9a13-74973d4dbbf3"
      },
      "source": [
        "df3.std(axis =1)"
      ],
      "execution_count": 30,
      "outputs": [
        {
          "output_type": "execute_result",
          "data": {
            "text/plain": [
              "2012    274.472128\n",
              "2013    211.128782\n",
              "2014    221.150739\n",
              "2015    114.166760\n",
              "2016    146.548658\n",
              "dtype: float64"
            ]
          },
          "metadata": {
            "tags": []
          },
          "execution_count": 30
        }
      ]
    },
    {
      "cell_type": "code",
      "metadata": {
        "colab": {
          "base_uri": "https://localhost:8080/",
          "height": 294
        },
        "id": "cb5Iz52m9uBZ",
        "outputId": "b5b52a74-f584-44f5-ca30-a34067d5ce5b"
      },
      "source": [
        "df3.describe()"
      ],
      "execution_count": 31,
      "outputs": [
        {
          "output_type": "execute_result",
          "data": {
            "text/html": [
              "<div>\n",
              "<style scoped>\n",
              "    .dataframe tbody tr th:only-of-type {\n",
              "        vertical-align: middle;\n",
              "    }\n",
              "\n",
              "    .dataframe tbody tr th {\n",
              "        vertical-align: top;\n",
              "    }\n",
              "\n",
              "    .dataframe thead th {\n",
              "        text-align: right;\n",
              "    }\n",
              "</style>\n",
              "<table border=\"1\" class=\"dataframe\">\n",
              "  <thead>\n",
              "    <tr style=\"text-align: right;\">\n",
              "      <th></th>\n",
              "      <th>봄</th>\n",
              "      <th>여름</th>\n",
              "      <th>가을</th>\n",
              "      <th>겨울</th>\n",
              "    </tr>\n",
              "  </thead>\n",
              "  <tbody>\n",
              "    <tr>\n",
              "      <th>count</th>\n",
              "      <td>5.000000</td>\n",
              "      <td>5.000000</td>\n",
              "      <td>5.000000</td>\n",
              "      <td>5.000000</td>\n",
              "    </tr>\n",
              "    <tr>\n",
              "      <th>mean</th>\n",
              "      <td>254.540000</td>\n",
              "      <td>554.240000</td>\n",
              "      <td>303.420000</td>\n",
              "      <td>98.660000</td>\n",
              "    </tr>\n",
              "    <tr>\n",
              "      <th>std</th>\n",
              "      <td>38.628267</td>\n",
              "      <td>148.888895</td>\n",
              "      <td>67.358496</td>\n",
              "      <td>30.925523</td>\n",
              "    </tr>\n",
              "    <tr>\n",
              "      <th>min</th>\n",
              "      <td>215.900000</td>\n",
              "      <td>387.100000</td>\n",
              "      <td>231.200000</td>\n",
              "      <td>59.900000</td>\n",
              "    </tr>\n",
              "    <tr>\n",
              "      <th>25%</th>\n",
              "      <td>223.200000</td>\n",
              "      <td>446.200000</td>\n",
              "      <td>247.700000</td>\n",
              "      <td>76.900000</td>\n",
              "    </tr>\n",
              "    <tr>\n",
              "      <th>50%</th>\n",
              "      <td>256.500000</td>\n",
              "      <td>567.500000</td>\n",
              "      <td>293.100000</td>\n",
              "      <td>108.100000</td>\n",
              "    </tr>\n",
              "    <tr>\n",
              "      <th>75%</th>\n",
              "      <td>264.300000</td>\n",
              "      <td>599.800000</td>\n",
              "      <td>363.500000</td>\n",
              "      <td>109.100000</td>\n",
              "    </tr>\n",
              "    <tr>\n",
              "      <th>max</th>\n",
              "      <td>312.800000</td>\n",
              "      <td>770.600000</td>\n",
              "      <td>381.600000</td>\n",
              "      <td>139.300000</td>\n",
              "    </tr>\n",
              "  </tbody>\n",
              "</table>\n",
              "</div>"
            ],
            "text/plain": [
              "                봄          여름          가을          겨울\n",
              "count    5.000000    5.000000    5.000000    5.000000\n",
              "mean   254.540000  554.240000  303.420000   98.660000\n",
              "std     38.628267  148.888895   67.358496   30.925523\n",
              "min    215.900000  387.100000  231.200000   59.900000\n",
              "25%    223.200000  446.200000  247.700000   76.900000\n",
              "50%    256.500000  567.500000  293.100000  108.100000\n",
              "75%    264.300000  599.800000  363.500000  109.100000\n",
              "max    312.800000  770.600000  381.600000  139.300000"
            ]
          },
          "metadata": {
            "tags": []
          },
          "execution_count": 31
        }
      ]
    },
    {
      "cell_type": "code",
      "metadata": {
        "colab": {
          "base_uri": "https://localhost:8080/",
          "height": 263
        },
        "id": "UeV6fW0fNsGj",
        "outputId": "84fb6bd0-81f0-4b3f-b570-ca32a07b95c8"
      },
      "source": [
        "import pandas as pd\n",
        "import numpy as np\n",
        "\n",
        "KTX_data = {'경부선 KTX': [39060, 39896, 42005, 43621, 41702, 41266, 32427],\n",
        "            '호남선 KTX': [7313, 6967, 6873, 6626, 8675, 10622, 9228],\n",
        "            '경전선 KTX': [3627, 4168, 4088, 4424, 4606, 4984, 5570],\n",
        "            '전라선 KTX': [309,1771,1954,2244,3146,3945,5766],\n",
        "            '동해선 KTX': [np.nan,np.nan,np.nan,np.nan,2395,3786,6667]}\n",
        "\n",
        "col_list = ['경부선 KTX', '호남선 KTX', '경전선 KTX', '전라선 KTX', '동해선 KTX']\n",
        "index_list = ['2011', '2012', '2013', '2014', '2015', '2016', '2017']\n",
        "\n",
        "df_KTX = pd.DataFrame(KTX_data, columns= col_list, index=index_list)\n",
        "df_KTX"
      ],
      "execution_count": 39,
      "outputs": [
        {
          "output_type": "execute_result",
          "data": {
            "text/html": [
              "<div>\n",
              "<style scoped>\n",
              "    .dataframe tbody tr th:only-of-type {\n",
              "        vertical-align: middle;\n",
              "    }\n",
              "\n",
              "    .dataframe tbody tr th {\n",
              "        vertical-align: top;\n",
              "    }\n",
              "\n",
              "    .dataframe thead th {\n",
              "        text-align: right;\n",
              "    }\n",
              "</style>\n",
              "<table border=\"1\" class=\"dataframe\">\n",
              "  <thead>\n",
              "    <tr style=\"text-align: right;\">\n",
              "      <th></th>\n",
              "      <th>경부선 KTX</th>\n",
              "      <th>호남선 KTX</th>\n",
              "      <th>경전선 KTX</th>\n",
              "      <th>전라선 KTX</th>\n",
              "      <th>동해선 KTX</th>\n",
              "    </tr>\n",
              "  </thead>\n",
              "  <tbody>\n",
              "    <tr>\n",
              "      <th>2011</th>\n",
              "      <td>39060</td>\n",
              "      <td>7313</td>\n",
              "      <td>3627</td>\n",
              "      <td>309</td>\n",
              "      <td>NaN</td>\n",
              "    </tr>\n",
              "    <tr>\n",
              "      <th>2012</th>\n",
              "      <td>39896</td>\n",
              "      <td>6967</td>\n",
              "      <td>4168</td>\n",
              "      <td>1771</td>\n",
              "      <td>NaN</td>\n",
              "    </tr>\n",
              "    <tr>\n",
              "      <th>2013</th>\n",
              "      <td>42005</td>\n",
              "      <td>6873</td>\n",
              "      <td>4088</td>\n",
              "      <td>1954</td>\n",
              "      <td>NaN</td>\n",
              "    </tr>\n",
              "    <tr>\n",
              "      <th>2014</th>\n",
              "      <td>43621</td>\n",
              "      <td>6626</td>\n",
              "      <td>4424</td>\n",
              "      <td>2244</td>\n",
              "      <td>NaN</td>\n",
              "    </tr>\n",
              "    <tr>\n",
              "      <th>2015</th>\n",
              "      <td>41702</td>\n",
              "      <td>8675</td>\n",
              "      <td>4606</td>\n",
              "      <td>3146</td>\n",
              "      <td>2395.0</td>\n",
              "    </tr>\n",
              "    <tr>\n",
              "      <th>2016</th>\n",
              "      <td>41266</td>\n",
              "      <td>10622</td>\n",
              "      <td>4984</td>\n",
              "      <td>3945</td>\n",
              "      <td>3786.0</td>\n",
              "    </tr>\n",
              "    <tr>\n",
              "      <th>2017</th>\n",
              "      <td>32427</td>\n",
              "      <td>9228</td>\n",
              "      <td>5570</td>\n",
              "      <td>5766</td>\n",
              "      <td>6667.0</td>\n",
              "    </tr>\n",
              "  </tbody>\n",
              "</table>\n",
              "</div>"
            ],
            "text/plain": [
              "      경부선 KTX  호남선 KTX  경전선 KTX  전라선 KTX  동해선 KTX\n",
              "2011    39060     7313     3627      309      NaN\n",
              "2012    39896     6967     4168     1771      NaN\n",
              "2013    42005     6873     4088     1954      NaN\n",
              "2014    43621     6626     4424     2244      NaN\n",
              "2015    41702     8675     4606     3146   2395.0\n",
              "2016    41266    10622     4984     3945   3786.0\n",
              "2017    32427     9228     5570     5766   6667.0"
            ]
          },
          "metadata": {
            "tags": []
          },
          "execution_count": 39
        }
      ]
    },
    {
      "cell_type": "code",
      "metadata": {
        "colab": {
          "base_uri": "https://localhost:8080/"
        },
        "id": "CGXqQh35PMtc",
        "outputId": "b722bb53-542d-4057-ddc5-8c3227792a0c"
      },
      "source": [
        "df_KTX.index"
      ],
      "execution_count": 40,
      "outputs": [
        {
          "output_type": "execute_result",
          "data": {
            "text/plain": [
              "Index(['2011', '2012', '2013', '2014', '2015', '2016', '2017'], dtype='object')"
            ]
          },
          "metadata": {
            "tags": []
          },
          "execution_count": 40
        }
      ]
    },
    {
      "cell_type": "code",
      "metadata": {
        "colab": {
          "base_uri": "https://localhost:8080/"
        },
        "id": "AsLCg9AJP6St",
        "outputId": "6b88e5d1-ed3f-4fe0-ca57-54339c236969"
      },
      "source": [
        "df_KTX.columns"
      ],
      "execution_count": 41,
      "outputs": [
        {
          "output_type": "execute_result",
          "data": {
            "text/plain": [
              "Index(['경부선 KTX', '호남선 KTX', '경전선 KTX', '전라선 KTX', '동해선 KTX'], dtype='object')"
            ]
          },
          "metadata": {
            "tags": []
          },
          "execution_count": 41
        }
      ]
    },
    {
      "cell_type": "code",
      "metadata": {
        "colab": {
          "base_uri": "https://localhost:8080/"
        },
        "id": "MZnJnbiOP9Sv",
        "outputId": "fbf35c15-fb02-4cf2-cf98-0d699036e76f"
      },
      "source": [
        "df_KTX.values"
      ],
      "execution_count": 42,
      "outputs": [
        {
          "output_type": "execute_result",
          "data": {
            "text/plain": [
              "array([[39060.,  7313.,  3627.,   309.,    nan],\n",
              "       [39896.,  6967.,  4168.,  1771.,    nan],\n",
              "       [42005.,  6873.,  4088.,  1954.,    nan],\n",
              "       [43621.,  6626.,  4424.,  2244.,    nan],\n",
              "       [41702.,  8675.,  4606.,  3146.,  2395.],\n",
              "       [41266., 10622.,  4984.,  3945.,  3786.],\n",
              "       [32427.,  9228.,  5570.,  5766.,  6667.]])"
            ]
          },
          "metadata": {
            "tags": []
          },
          "execution_count": 42
        }
      ]
    },
    {
      "cell_type": "code",
      "metadata": {
        "colab": {
          "base_uri": "https://localhost:8080/",
          "height": 202
        },
        "id": "MWKR3PDKQAhJ",
        "outputId": "a4431600-f6b2-487a-966d-72dd86202fff"
      },
      "source": [
        "df_KTX.head()"
      ],
      "execution_count": 43,
      "outputs": [
        {
          "output_type": "execute_result",
          "data": {
            "text/html": [
              "<div>\n",
              "<style scoped>\n",
              "    .dataframe tbody tr th:only-of-type {\n",
              "        vertical-align: middle;\n",
              "    }\n",
              "\n",
              "    .dataframe tbody tr th {\n",
              "        vertical-align: top;\n",
              "    }\n",
              "\n",
              "    .dataframe thead th {\n",
              "        text-align: right;\n",
              "    }\n",
              "</style>\n",
              "<table border=\"1\" class=\"dataframe\">\n",
              "  <thead>\n",
              "    <tr style=\"text-align: right;\">\n",
              "      <th></th>\n",
              "      <th>경부선 KTX</th>\n",
              "      <th>호남선 KTX</th>\n",
              "      <th>경전선 KTX</th>\n",
              "      <th>전라선 KTX</th>\n",
              "      <th>동해선 KTX</th>\n",
              "    </tr>\n",
              "  </thead>\n",
              "  <tbody>\n",
              "    <tr>\n",
              "      <th>2011</th>\n",
              "      <td>39060</td>\n",
              "      <td>7313</td>\n",
              "      <td>3627</td>\n",
              "      <td>309</td>\n",
              "      <td>NaN</td>\n",
              "    </tr>\n",
              "    <tr>\n",
              "      <th>2012</th>\n",
              "      <td>39896</td>\n",
              "      <td>6967</td>\n",
              "      <td>4168</td>\n",
              "      <td>1771</td>\n",
              "      <td>NaN</td>\n",
              "    </tr>\n",
              "    <tr>\n",
              "      <th>2013</th>\n",
              "      <td>42005</td>\n",
              "      <td>6873</td>\n",
              "      <td>4088</td>\n",
              "      <td>1954</td>\n",
              "      <td>NaN</td>\n",
              "    </tr>\n",
              "    <tr>\n",
              "      <th>2014</th>\n",
              "      <td>43621</td>\n",
              "      <td>6626</td>\n",
              "      <td>4424</td>\n",
              "      <td>2244</td>\n",
              "      <td>NaN</td>\n",
              "    </tr>\n",
              "    <tr>\n",
              "      <th>2015</th>\n",
              "      <td>41702</td>\n",
              "      <td>8675</td>\n",
              "      <td>4606</td>\n",
              "      <td>3146</td>\n",
              "      <td>2395.0</td>\n",
              "    </tr>\n",
              "  </tbody>\n",
              "</table>\n",
              "</div>"
            ],
            "text/plain": [
              "      경부선 KTX  호남선 KTX  경전선 KTX  전라선 KTX  동해선 KTX\n",
              "2011    39060     7313     3627      309      NaN\n",
              "2012    39896     6967     4168     1771      NaN\n",
              "2013    42005     6873     4088     1954      NaN\n",
              "2014    43621     6626     4424     2244      NaN\n",
              "2015    41702     8675     4606     3146   2395.0"
            ]
          },
          "metadata": {
            "tags": []
          },
          "execution_count": 43
        }
      ]
    },
    {
      "cell_type": "code",
      "metadata": {
        "colab": {
          "base_uri": "https://localhost:8080/",
          "height": 202
        },
        "id": "-SwH0hBxQF-d",
        "outputId": "7dea428d-7b5c-4681-d8c7-8c273b6b11a6"
      },
      "source": [
        "df_KTX.tail()"
      ],
      "execution_count": 44,
      "outputs": [
        {
          "output_type": "execute_result",
          "data": {
            "text/html": [
              "<div>\n",
              "<style scoped>\n",
              "    .dataframe tbody tr th:only-of-type {\n",
              "        vertical-align: middle;\n",
              "    }\n",
              "\n",
              "    .dataframe tbody tr th {\n",
              "        vertical-align: top;\n",
              "    }\n",
              "\n",
              "    .dataframe thead th {\n",
              "        text-align: right;\n",
              "    }\n",
              "</style>\n",
              "<table border=\"1\" class=\"dataframe\">\n",
              "  <thead>\n",
              "    <tr style=\"text-align: right;\">\n",
              "      <th></th>\n",
              "      <th>경부선 KTX</th>\n",
              "      <th>호남선 KTX</th>\n",
              "      <th>경전선 KTX</th>\n",
              "      <th>전라선 KTX</th>\n",
              "      <th>동해선 KTX</th>\n",
              "    </tr>\n",
              "  </thead>\n",
              "  <tbody>\n",
              "    <tr>\n",
              "      <th>2013</th>\n",
              "      <td>42005</td>\n",
              "      <td>6873</td>\n",
              "      <td>4088</td>\n",
              "      <td>1954</td>\n",
              "      <td>NaN</td>\n",
              "    </tr>\n",
              "    <tr>\n",
              "      <th>2014</th>\n",
              "      <td>43621</td>\n",
              "      <td>6626</td>\n",
              "      <td>4424</td>\n",
              "      <td>2244</td>\n",
              "      <td>NaN</td>\n",
              "    </tr>\n",
              "    <tr>\n",
              "      <th>2015</th>\n",
              "      <td>41702</td>\n",
              "      <td>8675</td>\n",
              "      <td>4606</td>\n",
              "      <td>3146</td>\n",
              "      <td>2395.0</td>\n",
              "    </tr>\n",
              "    <tr>\n",
              "      <th>2016</th>\n",
              "      <td>41266</td>\n",
              "      <td>10622</td>\n",
              "      <td>4984</td>\n",
              "      <td>3945</td>\n",
              "      <td>3786.0</td>\n",
              "    </tr>\n",
              "    <tr>\n",
              "      <th>2017</th>\n",
              "      <td>32427</td>\n",
              "      <td>9228</td>\n",
              "      <td>5570</td>\n",
              "      <td>5766</td>\n",
              "      <td>6667.0</td>\n",
              "    </tr>\n",
              "  </tbody>\n",
              "</table>\n",
              "</div>"
            ],
            "text/plain": [
              "      경부선 KTX  호남선 KTX  경전선 KTX  전라선 KTX  동해선 KTX\n",
              "2013    42005     6873     4088     1954      NaN\n",
              "2014    43621     6626     4424     2244      NaN\n",
              "2015    41702     8675     4606     3146   2395.0\n",
              "2016    41266    10622     4984     3945   3786.0\n",
              "2017    32427     9228     5570     5766   6667.0"
            ]
          },
          "metadata": {
            "tags": []
          },
          "execution_count": 44
        }
      ]
    },
    {
      "cell_type": "code",
      "metadata": {
        "colab": {
          "base_uri": "https://localhost:8080/",
          "height": 141
        },
        "id": "T8uxOv1fQSkt",
        "outputId": "47f66c80-bbb9-4c75-fcb5-36dc55d3e785"
      },
      "source": [
        "df_KTX.head(3)"
      ],
      "execution_count": 45,
      "outputs": [
        {
          "output_type": "execute_result",
          "data": {
            "text/html": [
              "<div>\n",
              "<style scoped>\n",
              "    .dataframe tbody tr th:only-of-type {\n",
              "        vertical-align: middle;\n",
              "    }\n",
              "\n",
              "    .dataframe tbody tr th {\n",
              "        vertical-align: top;\n",
              "    }\n",
              "\n",
              "    .dataframe thead th {\n",
              "        text-align: right;\n",
              "    }\n",
              "</style>\n",
              "<table border=\"1\" class=\"dataframe\">\n",
              "  <thead>\n",
              "    <tr style=\"text-align: right;\">\n",
              "      <th></th>\n",
              "      <th>경부선 KTX</th>\n",
              "      <th>호남선 KTX</th>\n",
              "      <th>경전선 KTX</th>\n",
              "      <th>전라선 KTX</th>\n",
              "      <th>동해선 KTX</th>\n",
              "    </tr>\n",
              "  </thead>\n",
              "  <tbody>\n",
              "    <tr>\n",
              "      <th>2011</th>\n",
              "      <td>39060</td>\n",
              "      <td>7313</td>\n",
              "      <td>3627</td>\n",
              "      <td>309</td>\n",
              "      <td>NaN</td>\n",
              "    </tr>\n",
              "    <tr>\n",
              "      <th>2012</th>\n",
              "      <td>39896</td>\n",
              "      <td>6967</td>\n",
              "      <td>4168</td>\n",
              "      <td>1771</td>\n",
              "      <td>NaN</td>\n",
              "    </tr>\n",
              "    <tr>\n",
              "      <th>2013</th>\n",
              "      <td>42005</td>\n",
              "      <td>6873</td>\n",
              "      <td>4088</td>\n",
              "      <td>1954</td>\n",
              "      <td>NaN</td>\n",
              "    </tr>\n",
              "  </tbody>\n",
              "</table>\n",
              "</div>"
            ],
            "text/plain": [
              "      경부선 KTX  호남선 KTX  경전선 KTX  전라선 KTX  동해선 KTX\n",
              "2011    39060     7313     3627      309      NaN\n",
              "2012    39896     6967     4168     1771      NaN\n",
              "2013    42005     6873     4088     1954      NaN"
            ]
          },
          "metadata": {
            "tags": []
          },
          "execution_count": 45
        }
      ]
    },
    {
      "cell_type": "code",
      "metadata": {
        "colab": {
          "base_uri": "https://localhost:8080/",
          "height": 110
        },
        "id": "UkFIcmUqQe6u",
        "outputId": "833027d6-a265-4ea4-a97c-a1146a8eb5e5"
      },
      "source": [
        "df_KTX.tail(2)"
      ],
      "execution_count": 46,
      "outputs": [
        {
          "output_type": "execute_result",
          "data": {
            "text/html": [
              "<div>\n",
              "<style scoped>\n",
              "    .dataframe tbody tr th:only-of-type {\n",
              "        vertical-align: middle;\n",
              "    }\n",
              "\n",
              "    .dataframe tbody tr th {\n",
              "        vertical-align: top;\n",
              "    }\n",
              "\n",
              "    .dataframe thead th {\n",
              "        text-align: right;\n",
              "    }\n",
              "</style>\n",
              "<table border=\"1\" class=\"dataframe\">\n",
              "  <thead>\n",
              "    <tr style=\"text-align: right;\">\n",
              "      <th></th>\n",
              "      <th>경부선 KTX</th>\n",
              "      <th>호남선 KTX</th>\n",
              "      <th>경전선 KTX</th>\n",
              "      <th>전라선 KTX</th>\n",
              "      <th>동해선 KTX</th>\n",
              "    </tr>\n",
              "  </thead>\n",
              "  <tbody>\n",
              "    <tr>\n",
              "      <th>2016</th>\n",
              "      <td>41266</td>\n",
              "      <td>10622</td>\n",
              "      <td>4984</td>\n",
              "      <td>3945</td>\n",
              "      <td>3786.0</td>\n",
              "    </tr>\n",
              "    <tr>\n",
              "      <th>2017</th>\n",
              "      <td>32427</td>\n",
              "      <td>9228</td>\n",
              "      <td>5570</td>\n",
              "      <td>5766</td>\n",
              "      <td>6667.0</td>\n",
              "    </tr>\n",
              "  </tbody>\n",
              "</table>\n",
              "</div>"
            ],
            "text/plain": [
              "      경부선 KTX  호남선 KTX  경전선 KTX  전라선 KTX  동해선 KTX\n",
              "2016    41266    10622     4984     3945   3786.0\n",
              "2017    32427     9228     5570     5766   6667.0"
            ]
          },
          "metadata": {
            "tags": []
          },
          "execution_count": 46
        }
      ]
    },
    {
      "cell_type": "code",
      "metadata": {
        "colab": {
          "base_uri": "https://localhost:8080/",
          "height": 78
        },
        "id": "gb_x3RMnQg2E",
        "outputId": "a858531e-9565-4c48-c897-2de674a6ebc6"
      },
      "source": [
        "df_KTX[1:2]"
      ],
      "execution_count": 47,
      "outputs": [
        {
          "output_type": "execute_result",
          "data": {
            "text/html": [
              "<div>\n",
              "<style scoped>\n",
              "    .dataframe tbody tr th:only-of-type {\n",
              "        vertical-align: middle;\n",
              "    }\n",
              "\n",
              "    .dataframe tbody tr th {\n",
              "        vertical-align: top;\n",
              "    }\n",
              "\n",
              "    .dataframe thead th {\n",
              "        text-align: right;\n",
              "    }\n",
              "</style>\n",
              "<table border=\"1\" class=\"dataframe\">\n",
              "  <thead>\n",
              "    <tr style=\"text-align: right;\">\n",
              "      <th></th>\n",
              "      <th>경부선 KTX</th>\n",
              "      <th>호남선 KTX</th>\n",
              "      <th>경전선 KTX</th>\n",
              "      <th>전라선 KTX</th>\n",
              "      <th>동해선 KTX</th>\n",
              "    </tr>\n",
              "  </thead>\n",
              "  <tbody>\n",
              "    <tr>\n",
              "      <th>2012</th>\n",
              "      <td>39896</td>\n",
              "      <td>6967</td>\n",
              "      <td>4168</td>\n",
              "      <td>1771</td>\n",
              "      <td>NaN</td>\n",
              "    </tr>\n",
              "  </tbody>\n",
              "</table>\n",
              "</div>"
            ],
            "text/plain": [
              "      경부선 KTX  호남선 KTX  경전선 KTX  전라선 KTX  동해선 KTX\n",
              "2012    39896     6967     4168     1771      NaN"
            ]
          },
          "metadata": {
            "tags": []
          },
          "execution_count": 47
        }
      ]
    },
    {
      "cell_type": "code",
      "metadata": {
        "colab": {
          "base_uri": "https://localhost:8080/",
          "height": 141
        },
        "id": "7vJa7Nx5Qj0I",
        "outputId": "b937c172-bb03-4ecf-bcbb-a83c2aa28ce7"
      },
      "source": [
        "df_KTX[2:5]"
      ],
      "execution_count": 49,
      "outputs": [
        {
          "output_type": "execute_result",
          "data": {
            "text/html": [
              "<div>\n",
              "<style scoped>\n",
              "    .dataframe tbody tr th:only-of-type {\n",
              "        vertical-align: middle;\n",
              "    }\n",
              "\n",
              "    .dataframe tbody tr th {\n",
              "        vertical-align: top;\n",
              "    }\n",
              "\n",
              "    .dataframe thead th {\n",
              "        text-align: right;\n",
              "    }\n",
              "</style>\n",
              "<table border=\"1\" class=\"dataframe\">\n",
              "  <thead>\n",
              "    <tr style=\"text-align: right;\">\n",
              "      <th></th>\n",
              "      <th>경부선 KTX</th>\n",
              "      <th>호남선 KTX</th>\n",
              "      <th>경전선 KTX</th>\n",
              "      <th>전라선 KTX</th>\n",
              "      <th>동해선 KTX</th>\n",
              "    </tr>\n",
              "  </thead>\n",
              "  <tbody>\n",
              "    <tr>\n",
              "      <th>2013</th>\n",
              "      <td>42005</td>\n",
              "      <td>6873</td>\n",
              "      <td>4088</td>\n",
              "      <td>1954</td>\n",
              "      <td>NaN</td>\n",
              "    </tr>\n",
              "    <tr>\n",
              "      <th>2014</th>\n",
              "      <td>43621</td>\n",
              "      <td>6626</td>\n",
              "      <td>4424</td>\n",
              "      <td>2244</td>\n",
              "      <td>NaN</td>\n",
              "    </tr>\n",
              "    <tr>\n",
              "      <th>2015</th>\n",
              "      <td>41702</td>\n",
              "      <td>8675</td>\n",
              "      <td>4606</td>\n",
              "      <td>3146</td>\n",
              "      <td>2395.0</td>\n",
              "    </tr>\n",
              "  </tbody>\n",
              "</table>\n",
              "</div>"
            ],
            "text/plain": [
              "      경부선 KTX  호남선 KTX  경전선 KTX  전라선 KTX  동해선 KTX\n",
              "2013    42005     6873     4088     1954      NaN\n",
              "2014    43621     6626     4424     2244      NaN\n",
              "2015    41702     8675     4606     3146   2395.0"
            ]
          },
          "metadata": {
            "tags": []
          },
          "execution_count": 49
        }
      ]
    },
    {
      "cell_type": "code",
      "metadata": {
        "colab": {
          "base_uri": "https://localhost:8080/"
        },
        "id": "5jnAhDvbQtau",
        "outputId": "6f9b097d-82b0-470a-a56d-a6c448a5e492"
      },
      "source": [
        "df_KTX.loc['2011']"
      ],
      "execution_count": 50,
      "outputs": [
        {
          "output_type": "execute_result",
          "data": {
            "text/plain": [
              "경부선 KTX    39060.0\n",
              "호남선 KTX     7313.0\n",
              "경전선 KTX     3627.0\n",
              "전라선 KTX      309.0\n",
              "동해선 KTX        NaN\n",
              "Name: 2011, dtype: float64"
            ]
          },
          "metadata": {
            "tags": []
          },
          "execution_count": 50
        }
      ]
    },
    {
      "cell_type": "code",
      "metadata": {
        "colab": {
          "base_uri": "https://localhost:8080/",
          "height": 171
        },
        "id": "U_7YyLmUQ9QS",
        "outputId": "6c53f161-96ed-43b6-8033-ff159622275b"
      },
      "source": [
        "df_KTX.loc['2013':'2016']"
      ],
      "execution_count": 51,
      "outputs": [
        {
          "output_type": "execute_result",
          "data": {
            "text/html": [
              "<div>\n",
              "<style scoped>\n",
              "    .dataframe tbody tr th:only-of-type {\n",
              "        vertical-align: middle;\n",
              "    }\n",
              "\n",
              "    .dataframe tbody tr th {\n",
              "        vertical-align: top;\n",
              "    }\n",
              "\n",
              "    .dataframe thead th {\n",
              "        text-align: right;\n",
              "    }\n",
              "</style>\n",
              "<table border=\"1\" class=\"dataframe\">\n",
              "  <thead>\n",
              "    <tr style=\"text-align: right;\">\n",
              "      <th></th>\n",
              "      <th>경부선 KTX</th>\n",
              "      <th>호남선 KTX</th>\n",
              "      <th>경전선 KTX</th>\n",
              "      <th>전라선 KTX</th>\n",
              "      <th>동해선 KTX</th>\n",
              "    </tr>\n",
              "  </thead>\n",
              "  <tbody>\n",
              "    <tr>\n",
              "      <th>2013</th>\n",
              "      <td>42005</td>\n",
              "      <td>6873</td>\n",
              "      <td>4088</td>\n",
              "      <td>1954</td>\n",
              "      <td>NaN</td>\n",
              "    </tr>\n",
              "    <tr>\n",
              "      <th>2014</th>\n",
              "      <td>43621</td>\n",
              "      <td>6626</td>\n",
              "      <td>4424</td>\n",
              "      <td>2244</td>\n",
              "      <td>NaN</td>\n",
              "    </tr>\n",
              "    <tr>\n",
              "      <th>2015</th>\n",
              "      <td>41702</td>\n",
              "      <td>8675</td>\n",
              "      <td>4606</td>\n",
              "      <td>3146</td>\n",
              "      <td>2395.0</td>\n",
              "    </tr>\n",
              "    <tr>\n",
              "      <th>2016</th>\n",
              "      <td>41266</td>\n",
              "      <td>10622</td>\n",
              "      <td>4984</td>\n",
              "      <td>3945</td>\n",
              "      <td>3786.0</td>\n",
              "    </tr>\n",
              "  </tbody>\n",
              "</table>\n",
              "</div>"
            ],
            "text/plain": [
              "      경부선 KTX  호남선 KTX  경전선 KTX  전라선 KTX  동해선 KTX\n",
              "2013    42005     6873     4088     1954      NaN\n",
              "2014    43621     6626     4424     2244      NaN\n",
              "2015    41702     8675     4606     3146   2395.0\n",
              "2016    41266    10622     4984     3945   3786.0"
            ]
          },
          "metadata": {
            "tags": []
          },
          "execution_count": 51
        }
      ]
    },
    {
      "cell_type": "code",
      "metadata": {
        "colab": {
          "base_uri": "https://localhost:8080/"
        },
        "id": "6IbN4S1tRDk8",
        "outputId": "6ef0eb32-64bb-4f6f-8fc1-007eb9760a0f"
      },
      "source": [
        "df_KTX['경부선 KTX']"
      ],
      "execution_count": 52,
      "outputs": [
        {
          "output_type": "execute_result",
          "data": {
            "text/plain": [
              "2011    39060\n",
              "2012    39896\n",
              "2013    42005\n",
              "2014    43621\n",
              "2015    41702\n",
              "2016    41266\n",
              "2017    32427\n",
              "Name: 경부선 KTX, dtype: int64"
            ]
          },
          "metadata": {
            "tags": []
          },
          "execution_count": 52
        }
      ]
    },
    {
      "cell_type": "code",
      "metadata": {
        "colab": {
          "base_uri": "https://localhost:8080/"
        },
        "id": "VpleFEDwRQYR",
        "outputId": "923a260f-7c0f-4fc9-8bf8-24265f479107"
      },
      "source": [
        "df_KTX['경부선 KTX']['2012':'2014']"
      ],
      "execution_count": 53,
      "outputs": [
        {
          "output_type": "execute_result",
          "data": {
            "text/plain": [
              "2012    39896\n",
              "2013    42005\n",
              "2014    43621\n",
              "Name: 경부선 KTX, dtype: int64"
            ]
          },
          "metadata": {
            "tags": []
          },
          "execution_count": 53
        }
      ]
    },
    {
      "cell_type": "code",
      "metadata": {
        "colab": {
          "base_uri": "https://localhost:8080/"
        },
        "id": "XyggoK9ORZIS",
        "outputId": "bbc23ff8-9248-4a9f-f6fd-77fe5fbb6f84"
      },
      "source": [
        "df_KTX['경부선 KTX'][2:5]"
      ],
      "execution_count": 54,
      "outputs": [
        {
          "output_type": "execute_result",
          "data": {
            "text/plain": [
              "2013    42005\n",
              "2014    43621\n",
              "2015    41702\n",
              "Name: 경부선 KTX, dtype: int64"
            ]
          },
          "metadata": {
            "tags": []
          },
          "execution_count": 54
        }
      ]
    },
    {
      "cell_type": "code",
      "metadata": {
        "colab": {
          "base_uri": "https://localhost:8080/"
        },
        "id": "8z2o5Y7kRk0n",
        "outputId": "f96fa56e-d09c-4037-9314-afa8f81920bd"
      },
      "source": [
        "df_KTX.loc['2016']['호남선 KTX']"
      ],
      "execution_count": 55,
      "outputs": [
        {
          "output_type": "execute_result",
          "data": {
            "text/plain": [
              "10622.0"
            ]
          },
          "metadata": {
            "tags": []
          },
          "execution_count": 55
        }
      ]
    },
    {
      "cell_type": "code",
      "metadata": {
        "colab": {
          "base_uri": "https://localhost:8080/"
        },
        "id": "fOybdVuBRvph",
        "outputId": "37fc9f91-975e-486e-de04-0c99e35dd22d"
      },
      "source": [
        "df_KTX.loc['2016', '호남선 KTX']"
      ],
      "execution_count": 56,
      "outputs": [
        {
          "output_type": "execute_result",
          "data": {
            "text/plain": [
              "10622"
            ]
          },
          "metadata": {
            "tags": []
          },
          "execution_count": 56
        }
      ]
    },
    {
      "cell_type": "code",
      "metadata": {
        "colab": {
          "base_uri": "https://localhost:8080/"
        },
        "id": "Ba1-Dv6dR3f6",
        "outputId": "f1d3a9a7-8d68-4e6a-c9a0-bf62af1e0ec5"
      },
      "source": [
        "df_KTX['호남선 KTX']['2016']"
      ],
      "execution_count": 57,
      "outputs": [
        {
          "output_type": "execute_result",
          "data": {
            "text/plain": [
              "10622"
            ]
          },
          "metadata": {
            "tags": []
          },
          "execution_count": 57
        }
      ]
    },
    {
      "cell_type": "code",
      "metadata": {
        "colab": {
          "base_uri": "https://localhost:8080/"
        },
        "id": "3IIPNTu2R97B",
        "outputId": "1b3d4d78-fdfd-4d91-d39b-20ae7cd2d7a9"
      },
      "source": [
        "df_KTX['호남선 KTX'][5]"
      ],
      "execution_count": 58,
      "outputs": [
        {
          "output_type": "execute_result",
          "data": {
            "text/plain": [
              "10622"
            ]
          },
          "metadata": {
            "tags": []
          },
          "execution_count": 58
        }
      ]
    },
    {
      "cell_type": "code",
      "metadata": {
        "colab": {
          "base_uri": "https://localhost:8080/"
        },
        "id": "aASuMF30SCkQ",
        "outputId": "d136ab92-9b59-4d61-d98e-5bf350da3462"
      },
      "source": [
        "df_KTX['호남선 KTX'].loc['2016']"
      ],
      "execution_count": 59,
      "outputs": [
        {
          "output_type": "execute_result",
          "data": {
            "text/plain": [
              "10622"
            ]
          },
          "metadata": {
            "tags": []
          },
          "execution_count": 59
        }
      ]
    },
    {
      "cell_type": "code",
      "metadata": {
        "colab": {
          "base_uri": "https://localhost:8080/",
          "height": 202
        },
        "id": "v840gq6FSJhv",
        "outputId": "8241875c-148a-4bdb-ba39-9ea7182dcd68"
      },
      "source": [
        "df_KTX.T"
      ],
      "execution_count": 60,
      "outputs": [
        {
          "output_type": "execute_result",
          "data": {
            "text/html": [
              "<div>\n",
              "<style scoped>\n",
              "    .dataframe tbody tr th:only-of-type {\n",
              "        vertical-align: middle;\n",
              "    }\n",
              "\n",
              "    .dataframe tbody tr th {\n",
              "        vertical-align: top;\n",
              "    }\n",
              "\n",
              "    .dataframe thead th {\n",
              "        text-align: right;\n",
              "    }\n",
              "</style>\n",
              "<table border=\"1\" class=\"dataframe\">\n",
              "  <thead>\n",
              "    <tr style=\"text-align: right;\">\n",
              "      <th></th>\n",
              "      <th>2011</th>\n",
              "      <th>2012</th>\n",
              "      <th>2013</th>\n",
              "      <th>2014</th>\n",
              "      <th>2015</th>\n",
              "      <th>2016</th>\n",
              "      <th>2017</th>\n",
              "    </tr>\n",
              "  </thead>\n",
              "  <tbody>\n",
              "    <tr>\n",
              "      <th>경부선 KTX</th>\n",
              "      <td>39060.0</td>\n",
              "      <td>39896.0</td>\n",
              "      <td>42005.0</td>\n",
              "      <td>43621.0</td>\n",
              "      <td>41702.0</td>\n",
              "      <td>41266.0</td>\n",
              "      <td>32427.0</td>\n",
              "    </tr>\n",
              "    <tr>\n",
              "      <th>호남선 KTX</th>\n",
              "      <td>7313.0</td>\n",
              "      <td>6967.0</td>\n",
              "      <td>6873.0</td>\n",
              "      <td>6626.0</td>\n",
              "      <td>8675.0</td>\n",
              "      <td>10622.0</td>\n",
              "      <td>9228.0</td>\n",
              "    </tr>\n",
              "    <tr>\n",
              "      <th>경전선 KTX</th>\n",
              "      <td>3627.0</td>\n",
              "      <td>4168.0</td>\n",
              "      <td>4088.0</td>\n",
              "      <td>4424.0</td>\n",
              "      <td>4606.0</td>\n",
              "      <td>4984.0</td>\n",
              "      <td>5570.0</td>\n",
              "    </tr>\n",
              "    <tr>\n",
              "      <th>전라선 KTX</th>\n",
              "      <td>309.0</td>\n",
              "      <td>1771.0</td>\n",
              "      <td>1954.0</td>\n",
              "      <td>2244.0</td>\n",
              "      <td>3146.0</td>\n",
              "      <td>3945.0</td>\n",
              "      <td>5766.0</td>\n",
              "    </tr>\n",
              "    <tr>\n",
              "      <th>동해선 KTX</th>\n",
              "      <td>NaN</td>\n",
              "      <td>NaN</td>\n",
              "      <td>NaN</td>\n",
              "      <td>NaN</td>\n",
              "      <td>2395.0</td>\n",
              "      <td>3786.0</td>\n",
              "      <td>6667.0</td>\n",
              "    </tr>\n",
              "  </tbody>\n",
              "</table>\n",
              "</div>"
            ],
            "text/plain": [
              "            2011     2012     2013     2014     2015     2016     2017\n",
              "경부선 KTX  39060.0  39896.0  42005.0  43621.0  41702.0  41266.0  32427.0\n",
              "호남선 KTX   7313.0   6967.0   6873.0   6626.0   8675.0  10622.0   9228.0\n",
              "경전선 KTX   3627.0   4168.0   4088.0   4424.0   4606.0   4984.0   5570.0\n",
              "전라선 KTX    309.0   1771.0   1954.0   2244.0   3146.0   3945.0   5766.0\n",
              "동해선 KTX      NaN      NaN      NaN      NaN   2395.0   3786.0   6667.0"
            ]
          },
          "metadata": {
            "tags": []
          },
          "execution_count": 60
        }
      ]
    },
    {
      "cell_type": "code",
      "metadata": {
        "colab": {
          "base_uri": "https://localhost:8080/",
          "height": 263
        },
        "id": "IFcNdu7USMiA",
        "outputId": "91e65623-06ed-4484-987d-ad286cc41206"
      },
      "source": [
        "df_KTX"
      ],
      "execution_count": 61,
      "outputs": [
        {
          "output_type": "execute_result",
          "data": {
            "text/html": [
              "<div>\n",
              "<style scoped>\n",
              "    .dataframe tbody tr th:only-of-type {\n",
              "        vertical-align: middle;\n",
              "    }\n",
              "\n",
              "    .dataframe tbody tr th {\n",
              "        vertical-align: top;\n",
              "    }\n",
              "\n",
              "    .dataframe thead th {\n",
              "        text-align: right;\n",
              "    }\n",
              "</style>\n",
              "<table border=\"1\" class=\"dataframe\">\n",
              "  <thead>\n",
              "    <tr style=\"text-align: right;\">\n",
              "      <th></th>\n",
              "      <th>경부선 KTX</th>\n",
              "      <th>호남선 KTX</th>\n",
              "      <th>경전선 KTX</th>\n",
              "      <th>전라선 KTX</th>\n",
              "      <th>동해선 KTX</th>\n",
              "    </tr>\n",
              "  </thead>\n",
              "  <tbody>\n",
              "    <tr>\n",
              "      <th>2011</th>\n",
              "      <td>39060</td>\n",
              "      <td>7313</td>\n",
              "      <td>3627</td>\n",
              "      <td>309</td>\n",
              "      <td>NaN</td>\n",
              "    </tr>\n",
              "    <tr>\n",
              "      <th>2012</th>\n",
              "      <td>39896</td>\n",
              "      <td>6967</td>\n",
              "      <td>4168</td>\n",
              "      <td>1771</td>\n",
              "      <td>NaN</td>\n",
              "    </tr>\n",
              "    <tr>\n",
              "      <th>2013</th>\n",
              "      <td>42005</td>\n",
              "      <td>6873</td>\n",
              "      <td>4088</td>\n",
              "      <td>1954</td>\n",
              "      <td>NaN</td>\n",
              "    </tr>\n",
              "    <tr>\n",
              "      <th>2014</th>\n",
              "      <td>43621</td>\n",
              "      <td>6626</td>\n",
              "      <td>4424</td>\n",
              "      <td>2244</td>\n",
              "      <td>NaN</td>\n",
              "    </tr>\n",
              "    <tr>\n",
              "      <th>2015</th>\n",
              "      <td>41702</td>\n",
              "      <td>8675</td>\n",
              "      <td>4606</td>\n",
              "      <td>3146</td>\n",
              "      <td>2395.0</td>\n",
              "    </tr>\n",
              "    <tr>\n",
              "      <th>2016</th>\n",
              "      <td>41266</td>\n",
              "      <td>10622</td>\n",
              "      <td>4984</td>\n",
              "      <td>3945</td>\n",
              "      <td>3786.0</td>\n",
              "    </tr>\n",
              "    <tr>\n",
              "      <th>2017</th>\n",
              "      <td>32427</td>\n",
              "      <td>9228</td>\n",
              "      <td>5570</td>\n",
              "      <td>5766</td>\n",
              "      <td>6667.0</td>\n",
              "    </tr>\n",
              "  </tbody>\n",
              "</table>\n",
              "</div>"
            ],
            "text/plain": [
              "      경부선 KTX  호남선 KTX  경전선 KTX  전라선 KTX  동해선 KTX\n",
              "2011    39060     7313     3627      309      NaN\n",
              "2012    39896     6967     4168     1771      NaN\n",
              "2013    42005     6873     4088     1954      NaN\n",
              "2014    43621     6626     4424     2244      NaN\n",
              "2015    41702     8675     4606     3146   2395.0\n",
              "2016    41266    10622     4984     3945   3786.0\n",
              "2017    32427     9228     5570     5766   6667.0"
            ]
          },
          "metadata": {
            "tags": []
          },
          "execution_count": 61
        }
      ]
    },
    {
      "cell_type": "code",
      "metadata": {
        "colab": {
          "base_uri": "https://localhost:8080/",
          "height": 263
        },
        "id": "p-aPdxxOSQJI",
        "outputId": "4465a62c-b377-4b13-df40-6971dda926c2"
      },
      "source": [
        "df_KTX[['동해선 KTX', '전라선 KTX', '경전선 KTX', '호남선 KTX', '경부선 KTX']]"
      ],
      "execution_count": 63,
      "outputs": [
        {
          "output_type": "execute_result",
          "data": {
            "text/html": [
              "<div>\n",
              "<style scoped>\n",
              "    .dataframe tbody tr th:only-of-type {\n",
              "        vertical-align: middle;\n",
              "    }\n",
              "\n",
              "    .dataframe tbody tr th {\n",
              "        vertical-align: top;\n",
              "    }\n",
              "\n",
              "    .dataframe thead th {\n",
              "        text-align: right;\n",
              "    }\n",
              "</style>\n",
              "<table border=\"1\" class=\"dataframe\">\n",
              "  <thead>\n",
              "    <tr style=\"text-align: right;\">\n",
              "      <th></th>\n",
              "      <th>동해선 KTX</th>\n",
              "      <th>전라선 KTX</th>\n",
              "      <th>경전선 KTX</th>\n",
              "      <th>호남선 KTX</th>\n",
              "      <th>경부선 KTX</th>\n",
              "    </tr>\n",
              "  </thead>\n",
              "  <tbody>\n",
              "    <tr>\n",
              "      <th>2011</th>\n",
              "      <td>NaN</td>\n",
              "      <td>309</td>\n",
              "      <td>3627</td>\n",
              "      <td>7313</td>\n",
              "      <td>39060</td>\n",
              "    </tr>\n",
              "    <tr>\n",
              "      <th>2012</th>\n",
              "      <td>NaN</td>\n",
              "      <td>1771</td>\n",
              "      <td>4168</td>\n",
              "      <td>6967</td>\n",
              "      <td>39896</td>\n",
              "    </tr>\n",
              "    <tr>\n",
              "      <th>2013</th>\n",
              "      <td>NaN</td>\n",
              "      <td>1954</td>\n",
              "      <td>4088</td>\n",
              "      <td>6873</td>\n",
              "      <td>42005</td>\n",
              "    </tr>\n",
              "    <tr>\n",
              "      <th>2014</th>\n",
              "      <td>NaN</td>\n",
              "      <td>2244</td>\n",
              "      <td>4424</td>\n",
              "      <td>6626</td>\n",
              "      <td>43621</td>\n",
              "    </tr>\n",
              "    <tr>\n",
              "      <th>2015</th>\n",
              "      <td>2395.0</td>\n",
              "      <td>3146</td>\n",
              "      <td>4606</td>\n",
              "      <td>8675</td>\n",
              "      <td>41702</td>\n",
              "    </tr>\n",
              "    <tr>\n",
              "      <th>2016</th>\n",
              "      <td>3786.0</td>\n",
              "      <td>3945</td>\n",
              "      <td>4984</td>\n",
              "      <td>10622</td>\n",
              "      <td>41266</td>\n",
              "    </tr>\n",
              "    <tr>\n",
              "      <th>2017</th>\n",
              "      <td>6667.0</td>\n",
              "      <td>5766</td>\n",
              "      <td>5570</td>\n",
              "      <td>9228</td>\n",
              "      <td>32427</td>\n",
              "    </tr>\n",
              "  </tbody>\n",
              "</table>\n",
              "</div>"
            ],
            "text/plain": [
              "      동해선 KTX  전라선 KTX  경전선 KTX  호남선 KTX  경부선 KTX\n",
              "2011      NaN      309     3627     7313    39060\n",
              "2012      NaN     1771     4168     6967    39896\n",
              "2013      NaN     1954     4088     6873    42005\n",
              "2014      NaN     2244     4424     6626    43621\n",
              "2015   2395.0     3146     4606     8675    41702\n",
              "2016   3786.0     3945     4984    10622    41266\n",
              "2017   6667.0     5766     5570     9228    32427"
            ]
          },
          "metadata": {
            "tags": []
          },
          "execution_count": 63
        }
      ]
    },
    {
      "cell_type": "code",
      "metadata": {
        "colab": {
          "base_uri": "https://localhost:8080/",
          "height": 171
        },
        "id": "26GRB42oSerN",
        "outputId": "a7e4bad4-1d8b-4a7f-a298-67e4f20bf5b6"
      },
      "source": [
        "import pandas as pd\n",
        "import numpy as np\n",
        "df1 = pd.DataFrame({'Class1': [95,92,98,100],\n",
        "                    'Class2': [91,93,97,99]})\n",
        "df1"
      ],
      "execution_count": 64,
      "outputs": [
        {
          "output_type": "execute_result",
          "data": {
            "text/html": [
              "<div>\n",
              "<style scoped>\n",
              "    .dataframe tbody tr th:only-of-type {\n",
              "        vertical-align: middle;\n",
              "    }\n",
              "\n",
              "    .dataframe tbody tr th {\n",
              "        vertical-align: top;\n",
              "    }\n",
              "\n",
              "    .dataframe thead th {\n",
              "        text-align: right;\n",
              "    }\n",
              "</style>\n",
              "<table border=\"1\" class=\"dataframe\">\n",
              "  <thead>\n",
              "    <tr style=\"text-align: right;\">\n",
              "      <th></th>\n",
              "      <th>Class1</th>\n",
              "      <th>Class2</th>\n",
              "    </tr>\n",
              "  </thead>\n",
              "  <tbody>\n",
              "    <tr>\n",
              "      <th>0</th>\n",
              "      <td>95</td>\n",
              "      <td>91</td>\n",
              "    </tr>\n",
              "    <tr>\n",
              "      <th>1</th>\n",
              "      <td>92</td>\n",
              "      <td>93</td>\n",
              "    </tr>\n",
              "    <tr>\n",
              "      <th>2</th>\n",
              "      <td>98</td>\n",
              "      <td>97</td>\n",
              "    </tr>\n",
              "    <tr>\n",
              "      <th>3</th>\n",
              "      <td>100</td>\n",
              "      <td>99</td>\n",
              "    </tr>\n",
              "  </tbody>\n",
              "</table>\n",
              "</div>"
            ],
            "text/plain": [
              "   Class1  Class2\n",
              "0      95      91\n",
              "1      92      93\n",
              "2      98      97\n",
              "3     100      99"
            ]
          },
          "metadata": {
            "tags": []
          },
          "execution_count": 64
        }
      ]
    },
    {
      "cell_type": "code",
      "metadata": {
        "colab": {
          "base_uri": "https://localhost:8080/",
          "height": 110
        },
        "id": "Jj7KtDECS1Vz",
        "outputId": "a75e448b-13c9-4909-8326-f0902c357ed2"
      },
      "source": [
        "df2 = pd.DataFrame({'Class1':[85,89],\n",
        "                    'Class2': [85,90]})\n",
        "\n",
        "df2"
      ],
      "execution_count": 65,
      "outputs": [
        {
          "output_type": "execute_result",
          "data": {
            "text/html": [
              "<div>\n",
              "<style scoped>\n",
              "    .dataframe tbody tr th:only-of-type {\n",
              "        vertical-align: middle;\n",
              "    }\n",
              "\n",
              "    .dataframe tbody tr th {\n",
              "        vertical-align: top;\n",
              "    }\n",
              "\n",
              "    .dataframe thead th {\n",
              "        text-align: right;\n",
              "    }\n",
              "</style>\n",
              "<table border=\"1\" class=\"dataframe\">\n",
              "  <thead>\n",
              "    <tr style=\"text-align: right;\">\n",
              "      <th></th>\n",
              "      <th>Class1</th>\n",
              "      <th>Class2</th>\n",
              "    </tr>\n",
              "  </thead>\n",
              "  <tbody>\n",
              "    <tr>\n",
              "      <th>0</th>\n",
              "      <td>85</td>\n",
              "      <td>85</td>\n",
              "    </tr>\n",
              "    <tr>\n",
              "      <th>1</th>\n",
              "      <td>89</td>\n",
              "      <td>90</td>\n",
              "    </tr>\n",
              "  </tbody>\n",
              "</table>\n",
              "</div>"
            ],
            "text/plain": [
              "   Class1  Class2\n",
              "0      85      85\n",
              "1      89      90"
            ]
          },
          "metadata": {
            "tags": []
          },
          "execution_count": 65
        }
      ]
    },
    {
      "cell_type": "code",
      "metadata": {
        "colab": {
          "base_uri": "https://localhost:8080/",
          "height": 232
        },
        "id": "Ygm0NE1dTCq7",
        "outputId": "3071a602-8838-4e2d-9135-37a4f0c76ce4"
      },
      "source": [
        "df1.append(df2)"
      ],
      "execution_count": 66,
      "outputs": [
        {
          "output_type": "execute_result",
          "data": {
            "text/html": [
              "<div>\n",
              "<style scoped>\n",
              "    .dataframe tbody tr th:only-of-type {\n",
              "        vertical-align: middle;\n",
              "    }\n",
              "\n",
              "    .dataframe tbody tr th {\n",
              "        vertical-align: top;\n",
              "    }\n",
              "\n",
              "    .dataframe thead th {\n",
              "        text-align: right;\n",
              "    }\n",
              "</style>\n",
              "<table border=\"1\" class=\"dataframe\">\n",
              "  <thead>\n",
              "    <tr style=\"text-align: right;\">\n",
              "      <th></th>\n",
              "      <th>Class1</th>\n",
              "      <th>Class2</th>\n",
              "    </tr>\n",
              "  </thead>\n",
              "  <tbody>\n",
              "    <tr>\n",
              "      <th>0</th>\n",
              "      <td>95</td>\n",
              "      <td>91</td>\n",
              "    </tr>\n",
              "    <tr>\n",
              "      <th>1</th>\n",
              "      <td>92</td>\n",
              "      <td>93</td>\n",
              "    </tr>\n",
              "    <tr>\n",
              "      <th>2</th>\n",
              "      <td>98</td>\n",
              "      <td>97</td>\n",
              "    </tr>\n",
              "    <tr>\n",
              "      <th>3</th>\n",
              "      <td>100</td>\n",
              "      <td>99</td>\n",
              "    </tr>\n",
              "    <tr>\n",
              "      <th>0</th>\n",
              "      <td>85</td>\n",
              "      <td>85</td>\n",
              "    </tr>\n",
              "    <tr>\n",
              "      <th>1</th>\n",
              "      <td>89</td>\n",
              "      <td>90</td>\n",
              "    </tr>\n",
              "  </tbody>\n",
              "</table>\n",
              "</div>"
            ],
            "text/plain": [
              "   Class1  Class2\n",
              "0      95      91\n",
              "1      92      93\n",
              "2      98      97\n",
              "3     100      99\n",
              "0      85      85\n",
              "1      89      90"
            ]
          },
          "metadata": {
            "tags": []
          },
          "execution_count": 66
        }
      ]
    },
    {
      "cell_type": "code",
      "metadata": {
        "colab": {
          "base_uri": "https://localhost:8080/",
          "height": 232
        },
        "id": "je0Mv6NPTHX5",
        "outputId": "d167bbe9-9ebf-4965-8f18-e5cd6c7fdf3b"
      },
      "source": [
        "df1.append(df2, ignore_index=True)"
      ],
      "execution_count": 67,
      "outputs": [
        {
          "output_type": "execute_result",
          "data": {
            "text/html": [
              "<div>\n",
              "<style scoped>\n",
              "    .dataframe tbody tr th:only-of-type {\n",
              "        vertical-align: middle;\n",
              "    }\n",
              "\n",
              "    .dataframe tbody tr th {\n",
              "        vertical-align: top;\n",
              "    }\n",
              "\n",
              "    .dataframe thead th {\n",
              "        text-align: right;\n",
              "    }\n",
              "</style>\n",
              "<table border=\"1\" class=\"dataframe\">\n",
              "  <thead>\n",
              "    <tr style=\"text-align: right;\">\n",
              "      <th></th>\n",
              "      <th>Class1</th>\n",
              "      <th>Class2</th>\n",
              "    </tr>\n",
              "  </thead>\n",
              "  <tbody>\n",
              "    <tr>\n",
              "      <th>0</th>\n",
              "      <td>95</td>\n",
              "      <td>91</td>\n",
              "    </tr>\n",
              "    <tr>\n",
              "      <th>1</th>\n",
              "      <td>92</td>\n",
              "      <td>93</td>\n",
              "    </tr>\n",
              "    <tr>\n",
              "      <th>2</th>\n",
              "      <td>98</td>\n",
              "      <td>97</td>\n",
              "    </tr>\n",
              "    <tr>\n",
              "      <th>3</th>\n",
              "      <td>100</td>\n",
              "      <td>99</td>\n",
              "    </tr>\n",
              "    <tr>\n",
              "      <th>4</th>\n",
              "      <td>85</td>\n",
              "      <td>85</td>\n",
              "    </tr>\n",
              "    <tr>\n",
              "      <th>5</th>\n",
              "      <td>89</td>\n",
              "      <td>90</td>\n",
              "    </tr>\n",
              "  </tbody>\n",
              "</table>\n",
              "</div>"
            ],
            "text/plain": [
              "   Class1  Class2\n",
              "0      95      91\n",
              "1      92      93\n",
              "2      98      97\n",
              "3     100      99\n",
              "4      85      85\n",
              "5      89      90"
            ]
          },
          "metadata": {
            "tags": []
          },
          "execution_count": 67
        }
      ]
    },
    {
      "cell_type": "code",
      "metadata": {
        "colab": {
          "base_uri": "https://localhost:8080/",
          "height": 110
        },
        "id": "rYqKidnBTRt5",
        "outputId": "9def1e32-1d8d-41c3-c712-7600f6c3dfca"
      },
      "source": [
        "df3 = pd.DataFrame({'Class1': [96,83]})\n",
        "df3"
      ],
      "execution_count": 69,
      "outputs": [
        {
          "output_type": "execute_result",
          "data": {
            "text/html": [
              "<div>\n",
              "<style scoped>\n",
              "    .dataframe tbody tr th:only-of-type {\n",
              "        vertical-align: middle;\n",
              "    }\n",
              "\n",
              "    .dataframe tbody tr th {\n",
              "        vertical-align: top;\n",
              "    }\n",
              "\n",
              "    .dataframe thead th {\n",
              "        text-align: right;\n",
              "    }\n",
              "</style>\n",
              "<table border=\"1\" class=\"dataframe\">\n",
              "  <thead>\n",
              "    <tr style=\"text-align: right;\">\n",
              "      <th></th>\n",
              "      <th>Class1</th>\n",
              "    </tr>\n",
              "  </thead>\n",
              "  <tbody>\n",
              "    <tr>\n",
              "      <th>0</th>\n",
              "      <td>96</td>\n",
              "    </tr>\n",
              "    <tr>\n",
              "      <th>1</th>\n",
              "      <td>83</td>\n",
              "    </tr>\n",
              "  </tbody>\n",
              "</table>\n",
              "</div>"
            ],
            "text/plain": [
              "   Class1\n",
              "0      96\n",
              "1      83"
            ]
          },
          "metadata": {
            "tags": []
          },
          "execution_count": 69
        }
      ]
    },
    {
      "cell_type": "code",
      "metadata": {
        "colab": {
          "base_uri": "https://localhost:8080/",
          "height": 171
        },
        "id": "RPqMQounTbWc",
        "outputId": "ec20a3c2-94e8-4411-a228-2ead41fd1e79"
      },
      "source": [
        "df2.append(df3, ignore_index=True)"
      ],
      "execution_count": 70,
      "outputs": [
        {
          "output_type": "execute_result",
          "data": {
            "text/html": [
              "<div>\n",
              "<style scoped>\n",
              "    .dataframe tbody tr th:only-of-type {\n",
              "        vertical-align: middle;\n",
              "    }\n",
              "\n",
              "    .dataframe tbody tr th {\n",
              "        vertical-align: top;\n",
              "    }\n",
              "\n",
              "    .dataframe thead th {\n",
              "        text-align: right;\n",
              "    }\n",
              "</style>\n",
              "<table border=\"1\" class=\"dataframe\">\n",
              "  <thead>\n",
              "    <tr style=\"text-align: right;\">\n",
              "      <th></th>\n",
              "      <th>Class1</th>\n",
              "      <th>Class2</th>\n",
              "    </tr>\n",
              "  </thead>\n",
              "  <tbody>\n",
              "    <tr>\n",
              "      <th>0</th>\n",
              "      <td>85</td>\n",
              "      <td>85.0</td>\n",
              "    </tr>\n",
              "    <tr>\n",
              "      <th>1</th>\n",
              "      <td>89</td>\n",
              "      <td>90.0</td>\n",
              "    </tr>\n",
              "    <tr>\n",
              "      <th>2</th>\n",
              "      <td>96</td>\n",
              "      <td>NaN</td>\n",
              "    </tr>\n",
              "    <tr>\n",
              "      <th>3</th>\n",
              "      <td>83</td>\n",
              "      <td>NaN</td>\n",
              "    </tr>\n",
              "  </tbody>\n",
              "</table>\n",
              "</div>"
            ],
            "text/plain": [
              "   Class1  Class2\n",
              "0      85    85.0\n",
              "1      89    90.0\n",
              "2      96     NaN\n",
              "3      83     NaN"
            ]
          },
          "metadata": {
            "tags": []
          },
          "execution_count": 70
        }
      ]
    },
    {
      "cell_type": "code",
      "metadata": {
        "colab": {
          "base_uri": "https://localhost:8080/",
          "height": 171
        },
        "id": "oF-WNSkwTjaZ",
        "outputId": "1c52c949-712a-4026-fda9-a665f330de48"
      },
      "source": [
        "df4 = pd.DataFrame({'Class3': [93,91,95,98]})\n",
        "df4"
      ],
      "execution_count": 71,
      "outputs": [
        {
          "output_type": "execute_result",
          "data": {
            "text/html": [
              "<div>\n",
              "<style scoped>\n",
              "    .dataframe tbody tr th:only-of-type {\n",
              "        vertical-align: middle;\n",
              "    }\n",
              "\n",
              "    .dataframe tbody tr th {\n",
              "        vertical-align: top;\n",
              "    }\n",
              "\n",
              "    .dataframe thead th {\n",
              "        text-align: right;\n",
              "    }\n",
              "</style>\n",
              "<table border=\"1\" class=\"dataframe\">\n",
              "  <thead>\n",
              "    <tr style=\"text-align: right;\">\n",
              "      <th></th>\n",
              "      <th>Class3</th>\n",
              "    </tr>\n",
              "  </thead>\n",
              "  <tbody>\n",
              "    <tr>\n",
              "      <th>0</th>\n",
              "      <td>93</td>\n",
              "    </tr>\n",
              "    <tr>\n",
              "      <th>1</th>\n",
              "      <td>91</td>\n",
              "    </tr>\n",
              "    <tr>\n",
              "      <th>2</th>\n",
              "      <td>95</td>\n",
              "    </tr>\n",
              "    <tr>\n",
              "      <th>3</th>\n",
              "      <td>98</td>\n",
              "    </tr>\n",
              "  </tbody>\n",
              "</table>\n",
              "</div>"
            ],
            "text/plain": [
              "   Class3\n",
              "0      93\n",
              "1      91\n",
              "2      95\n",
              "3      98"
            ]
          },
          "metadata": {
            "tags": []
          },
          "execution_count": 71
        }
      ]
    },
    {
      "cell_type": "code",
      "metadata": {
        "colab": {
          "base_uri": "https://localhost:8080/",
          "height": 171
        },
        "id": "zRyAt7KSTy7j",
        "outputId": "e30a8486-a019-4b97-9af8-095496fa6747"
      },
      "source": [
        "df1.join(df4)"
      ],
      "execution_count": 72,
      "outputs": [
        {
          "output_type": "execute_result",
          "data": {
            "text/html": [
              "<div>\n",
              "<style scoped>\n",
              "    .dataframe tbody tr th:only-of-type {\n",
              "        vertical-align: middle;\n",
              "    }\n",
              "\n",
              "    .dataframe tbody tr th {\n",
              "        vertical-align: top;\n",
              "    }\n",
              "\n",
              "    .dataframe thead th {\n",
              "        text-align: right;\n",
              "    }\n",
              "</style>\n",
              "<table border=\"1\" class=\"dataframe\">\n",
              "  <thead>\n",
              "    <tr style=\"text-align: right;\">\n",
              "      <th></th>\n",
              "      <th>Class1</th>\n",
              "      <th>Class2</th>\n",
              "      <th>Class3</th>\n",
              "    </tr>\n",
              "  </thead>\n",
              "  <tbody>\n",
              "    <tr>\n",
              "      <th>0</th>\n",
              "      <td>95</td>\n",
              "      <td>91</td>\n",
              "      <td>93</td>\n",
              "    </tr>\n",
              "    <tr>\n",
              "      <th>1</th>\n",
              "      <td>92</td>\n",
              "      <td>93</td>\n",
              "      <td>91</td>\n",
              "    </tr>\n",
              "    <tr>\n",
              "      <th>2</th>\n",
              "      <td>98</td>\n",
              "      <td>97</td>\n",
              "      <td>95</td>\n",
              "    </tr>\n",
              "    <tr>\n",
              "      <th>3</th>\n",
              "      <td>100</td>\n",
              "      <td>99</td>\n",
              "      <td>98</td>\n",
              "    </tr>\n",
              "  </tbody>\n",
              "</table>\n",
              "</div>"
            ],
            "text/plain": [
              "   Class1  Class2  Class3\n",
              "0      95      91      93\n",
              "1      92      93      91\n",
              "2      98      97      95\n",
              "3     100      99      98"
            ]
          },
          "metadata": {
            "tags": []
          },
          "execution_count": 72
        }
      ]
    },
    {
      "cell_type": "code",
      "metadata": {
        "colab": {
          "base_uri": "https://localhost:8080/",
          "height": 171
        },
        "id": "jbSQ-blDT7Pa",
        "outputId": "a4d881ac-d989-464a-fddd-6f95b52ddde4"
      },
      "source": [
        "index_label = ['a','b','c','d']\n",
        "df1a =  pd.DataFrame({'Class1': [95,92,98,100],\n",
        "                      'Class2': [91,93,97,99]}, index = index_label)\n",
        "df4a = pd.DataFrame({'Class3':[93,91,95,98]}, index=index_label)\n",
        "\n",
        "df1a.join(df4a)"
      ],
      "execution_count": 74,
      "outputs": [
        {
          "output_type": "execute_result",
          "data": {
            "text/html": [
              "<div>\n",
              "<style scoped>\n",
              "    .dataframe tbody tr th:only-of-type {\n",
              "        vertical-align: middle;\n",
              "    }\n",
              "\n",
              "    .dataframe tbody tr th {\n",
              "        vertical-align: top;\n",
              "    }\n",
              "\n",
              "    .dataframe thead th {\n",
              "        text-align: right;\n",
              "    }\n",
              "</style>\n",
              "<table border=\"1\" class=\"dataframe\">\n",
              "  <thead>\n",
              "    <tr style=\"text-align: right;\">\n",
              "      <th></th>\n",
              "      <th>Class1</th>\n",
              "      <th>Class2</th>\n",
              "      <th>Class3</th>\n",
              "    </tr>\n",
              "  </thead>\n",
              "  <tbody>\n",
              "    <tr>\n",
              "      <th>a</th>\n",
              "      <td>95</td>\n",
              "      <td>91</td>\n",
              "      <td>93</td>\n",
              "    </tr>\n",
              "    <tr>\n",
              "      <th>b</th>\n",
              "      <td>92</td>\n",
              "      <td>93</td>\n",
              "      <td>91</td>\n",
              "    </tr>\n",
              "    <tr>\n",
              "      <th>c</th>\n",
              "      <td>98</td>\n",
              "      <td>97</td>\n",
              "      <td>95</td>\n",
              "    </tr>\n",
              "    <tr>\n",
              "      <th>d</th>\n",
              "      <td>100</td>\n",
              "      <td>99</td>\n",
              "      <td>98</td>\n",
              "    </tr>\n",
              "  </tbody>\n",
              "</table>\n",
              "</div>"
            ],
            "text/plain": [
              "   Class1  Class2  Class3\n",
              "a      95      91      93\n",
              "b      92      93      91\n",
              "c      98      97      95\n",
              "d     100      99      98"
            ]
          },
          "metadata": {
            "tags": []
          },
          "execution_count": 74
        }
      ]
    },
    {
      "cell_type": "code",
      "metadata": {
        "colab": {
          "base_uri": "https://localhost:8080/",
          "height": 110
        },
        "id": "J2phI479UumU",
        "outputId": "86e986c4-0d64-4a51-dc30-0a32a6f31664"
      },
      "source": [
        "df5 = pd.DataFrame({'Class4': [82,92]})\n",
        "df5"
      ],
      "execution_count": 75,
      "outputs": [
        {
          "output_type": "execute_result",
          "data": {
            "text/html": [
              "<div>\n",
              "<style scoped>\n",
              "    .dataframe tbody tr th:only-of-type {\n",
              "        vertical-align: middle;\n",
              "    }\n",
              "\n",
              "    .dataframe tbody tr th {\n",
              "        vertical-align: top;\n",
              "    }\n",
              "\n",
              "    .dataframe thead th {\n",
              "        text-align: right;\n",
              "    }\n",
              "</style>\n",
              "<table border=\"1\" class=\"dataframe\">\n",
              "  <thead>\n",
              "    <tr style=\"text-align: right;\">\n",
              "      <th></th>\n",
              "      <th>Class4</th>\n",
              "    </tr>\n",
              "  </thead>\n",
              "  <tbody>\n",
              "    <tr>\n",
              "      <th>0</th>\n",
              "      <td>82</td>\n",
              "    </tr>\n",
              "    <tr>\n",
              "      <th>1</th>\n",
              "      <td>92</td>\n",
              "    </tr>\n",
              "  </tbody>\n",
              "</table>\n",
              "</div>"
            ],
            "text/plain": [
              "   Class4\n",
              "0      82\n",
              "1      92"
            ]
          },
          "metadata": {
            "tags": []
          },
          "execution_count": 75
        }
      ]
    },
    {
      "cell_type": "code",
      "metadata": {
        "colab": {
          "base_uri": "https://localhost:8080/",
          "height": 171
        },
        "id": "i-Vucs8uU5Va",
        "outputId": "d66dce08-ac8f-4b70-b839-fcb2fa6a780f"
      },
      "source": [
        "df1.join(df5)"
      ],
      "execution_count": 76,
      "outputs": [
        {
          "output_type": "execute_result",
          "data": {
            "text/html": [
              "<div>\n",
              "<style scoped>\n",
              "    .dataframe tbody tr th:only-of-type {\n",
              "        vertical-align: middle;\n",
              "    }\n",
              "\n",
              "    .dataframe tbody tr th {\n",
              "        vertical-align: top;\n",
              "    }\n",
              "\n",
              "    .dataframe thead th {\n",
              "        text-align: right;\n",
              "    }\n",
              "</style>\n",
              "<table border=\"1\" class=\"dataframe\">\n",
              "  <thead>\n",
              "    <tr style=\"text-align: right;\">\n",
              "      <th></th>\n",
              "      <th>Class1</th>\n",
              "      <th>Class2</th>\n",
              "      <th>Class4</th>\n",
              "    </tr>\n",
              "  </thead>\n",
              "  <tbody>\n",
              "    <tr>\n",
              "      <th>0</th>\n",
              "      <td>95</td>\n",
              "      <td>91</td>\n",
              "      <td>82.0</td>\n",
              "    </tr>\n",
              "    <tr>\n",
              "      <th>1</th>\n",
              "      <td>92</td>\n",
              "      <td>93</td>\n",
              "      <td>92.0</td>\n",
              "    </tr>\n",
              "    <tr>\n",
              "      <th>2</th>\n",
              "      <td>98</td>\n",
              "      <td>97</td>\n",
              "      <td>NaN</td>\n",
              "    </tr>\n",
              "    <tr>\n",
              "      <th>3</th>\n",
              "      <td>100</td>\n",
              "      <td>99</td>\n",
              "      <td>NaN</td>\n",
              "    </tr>\n",
              "  </tbody>\n",
              "</table>\n",
              "</div>"
            ],
            "text/plain": [
              "   Class1  Class2  Class4\n",
              "0      95      91    82.0\n",
              "1      92      93    92.0\n",
              "2      98      97     NaN\n",
              "3     100      99     NaN"
            ]
          },
          "metadata": {
            "tags": []
          },
          "execution_count": 76
        }
      ]
    },
    {
      "cell_type": "code",
      "metadata": {
        "colab": {
          "base_uri": "https://localhost:8080/",
          "height": 171
        },
        "id": "QEge4usvU8Kg",
        "outputId": "a7d0d1d8-f6cc-48fc-b2f3-f058872860b1"
      },
      "source": [
        "df_A_B = pd.DataFrame({'판매월': ['1월','2월','3월','4월'],\n",
        "                       '제품A': [100,150,200,130],\n",
        "                       '제품B': [90,110,140,170]})\n",
        "\n",
        "df_A_B"
      ],
      "execution_count": 89,
      "outputs": [
        {
          "output_type": "execute_result",
          "data": {
            "text/html": [
              "<div>\n",
              "<style scoped>\n",
              "    .dataframe tbody tr th:only-of-type {\n",
              "        vertical-align: middle;\n",
              "    }\n",
              "\n",
              "    .dataframe tbody tr th {\n",
              "        vertical-align: top;\n",
              "    }\n",
              "\n",
              "    .dataframe thead th {\n",
              "        text-align: right;\n",
              "    }\n",
              "</style>\n",
              "<table border=\"1\" class=\"dataframe\">\n",
              "  <thead>\n",
              "    <tr style=\"text-align: right;\">\n",
              "      <th></th>\n",
              "      <th>판매월</th>\n",
              "      <th>제품A</th>\n",
              "      <th>제품B</th>\n",
              "    </tr>\n",
              "  </thead>\n",
              "  <tbody>\n",
              "    <tr>\n",
              "      <th>0</th>\n",
              "      <td>1월</td>\n",
              "      <td>100</td>\n",
              "      <td>90</td>\n",
              "    </tr>\n",
              "    <tr>\n",
              "      <th>1</th>\n",
              "      <td>2월</td>\n",
              "      <td>150</td>\n",
              "      <td>110</td>\n",
              "    </tr>\n",
              "    <tr>\n",
              "      <th>2</th>\n",
              "      <td>3월</td>\n",
              "      <td>200</td>\n",
              "      <td>140</td>\n",
              "    </tr>\n",
              "    <tr>\n",
              "      <th>3</th>\n",
              "      <td>4월</td>\n",
              "      <td>130</td>\n",
              "      <td>170</td>\n",
              "    </tr>\n",
              "  </tbody>\n",
              "</table>\n",
              "</div>"
            ],
            "text/plain": [
              "  판매월  제품A  제품B\n",
              "0  1월  100   90\n",
              "1  2월  150  110\n",
              "2  3월  200  140\n",
              "3  4월  130  170"
            ]
          },
          "metadata": {
            "tags": []
          },
          "execution_count": 89
        }
      ]
    },
    {
      "cell_type": "code",
      "metadata": {
        "colab": {
          "base_uri": "https://localhost:8080/",
          "height": 171
        },
        "id": "XNWnwrWHVcNJ",
        "outputId": "69c20723-5e2a-4142-ea20-ce3e4e1f79d9"
      },
      "source": [
        "df_C_D = pd.DataFrame({'판매월': ['1월','2월','3월','4월'],\n",
        "                       '제품C': [112,141,203,134],\n",
        "                       '제품D': [90,110,140,170]})\n",
        "\n",
        "df_C_D"
      ],
      "execution_count": 87,
      "outputs": [
        {
          "output_type": "execute_result",
          "data": {
            "text/html": [
              "<div>\n",
              "<style scoped>\n",
              "    .dataframe tbody tr th:only-of-type {\n",
              "        vertical-align: middle;\n",
              "    }\n",
              "\n",
              "    .dataframe tbody tr th {\n",
              "        vertical-align: top;\n",
              "    }\n",
              "\n",
              "    .dataframe thead th {\n",
              "        text-align: right;\n",
              "    }\n",
              "</style>\n",
              "<table border=\"1\" class=\"dataframe\">\n",
              "  <thead>\n",
              "    <tr style=\"text-align: right;\">\n",
              "      <th></th>\n",
              "      <th>판매월</th>\n",
              "      <th>제품C</th>\n",
              "      <th>제품D</th>\n",
              "    </tr>\n",
              "  </thead>\n",
              "  <tbody>\n",
              "    <tr>\n",
              "      <th>0</th>\n",
              "      <td>1월</td>\n",
              "      <td>112</td>\n",
              "      <td>90</td>\n",
              "    </tr>\n",
              "    <tr>\n",
              "      <th>1</th>\n",
              "      <td>2월</td>\n",
              "      <td>141</td>\n",
              "      <td>110</td>\n",
              "    </tr>\n",
              "    <tr>\n",
              "      <th>2</th>\n",
              "      <td>3월</td>\n",
              "      <td>203</td>\n",
              "      <td>140</td>\n",
              "    </tr>\n",
              "    <tr>\n",
              "      <th>3</th>\n",
              "      <td>4월</td>\n",
              "      <td>134</td>\n",
              "      <td>170</td>\n",
              "    </tr>\n",
              "  </tbody>\n",
              "</table>\n",
              "</div>"
            ],
            "text/plain": [
              "  판매월  제품C  제품D\n",
              "0  1월  112   90\n",
              "1  2월  141  110\n",
              "2  3월  203  140\n",
              "3  4월  134  170"
            ]
          },
          "metadata": {
            "tags": []
          },
          "execution_count": 87
        }
      ]
    },
    {
      "cell_type": "code",
      "metadata": {
        "colab": {
          "base_uri": "https://localhost:8080/",
          "height": 171
        },
        "id": "Ej7jKFGCVwyx",
        "outputId": "780758ff-ea45-4e62-d660-578ed7048960"
      },
      "source": [
        "df_A_B.merge(df_C_D)"
      ],
      "execution_count": 90,
      "outputs": [
        {
          "output_type": "execute_result",
          "data": {
            "text/html": [
              "<div>\n",
              "<style scoped>\n",
              "    .dataframe tbody tr th:only-of-type {\n",
              "        vertical-align: middle;\n",
              "    }\n",
              "\n",
              "    .dataframe tbody tr th {\n",
              "        vertical-align: top;\n",
              "    }\n",
              "\n",
              "    .dataframe thead th {\n",
              "        text-align: right;\n",
              "    }\n",
              "</style>\n",
              "<table border=\"1\" class=\"dataframe\">\n",
              "  <thead>\n",
              "    <tr style=\"text-align: right;\">\n",
              "      <th></th>\n",
              "      <th>판매월</th>\n",
              "      <th>제품A</th>\n",
              "      <th>제품B</th>\n",
              "      <th>제품C</th>\n",
              "      <th>제품D</th>\n",
              "    </tr>\n",
              "  </thead>\n",
              "  <tbody>\n",
              "    <tr>\n",
              "      <th>0</th>\n",
              "      <td>1월</td>\n",
              "      <td>100</td>\n",
              "      <td>90</td>\n",
              "      <td>112</td>\n",
              "      <td>90</td>\n",
              "    </tr>\n",
              "    <tr>\n",
              "      <th>1</th>\n",
              "      <td>2월</td>\n",
              "      <td>150</td>\n",
              "      <td>110</td>\n",
              "      <td>141</td>\n",
              "      <td>110</td>\n",
              "    </tr>\n",
              "    <tr>\n",
              "      <th>2</th>\n",
              "      <td>3월</td>\n",
              "      <td>200</td>\n",
              "      <td>140</td>\n",
              "      <td>203</td>\n",
              "      <td>140</td>\n",
              "    </tr>\n",
              "    <tr>\n",
              "      <th>3</th>\n",
              "      <td>4월</td>\n",
              "      <td>130</td>\n",
              "      <td>170</td>\n",
              "      <td>134</td>\n",
              "      <td>170</td>\n",
              "    </tr>\n",
              "  </tbody>\n",
              "</table>\n",
              "</div>"
            ],
            "text/plain": [
              "  판매월  제품A  제품B  제품C  제품D\n",
              "0  1월  100   90  112   90\n",
              "1  2월  150  110  141  110\n",
              "2  3월  200  140  203  140\n",
              "3  4월  130  170  134  170"
            ]
          },
          "metadata": {
            "tags": []
          },
          "execution_count": 90
        }
      ]
    },
    {
      "cell_type": "code",
      "metadata": {
        "colab": {
          "base_uri": "https://localhost:8080/",
          "height": 141
        },
        "id": "meZo9qdNV_hg",
        "outputId": "d5105be9-7f02-4409-8d19-4152c6f308e1"
      },
      "source": [
        "df_left = pd.DataFrame({'key':['A','B','C'], 'left':[1,2,3]})\n",
        "df_left"
      ],
      "execution_count": 91,
      "outputs": [
        {
          "output_type": "execute_result",
          "data": {
            "text/html": [
              "<div>\n",
              "<style scoped>\n",
              "    .dataframe tbody tr th:only-of-type {\n",
              "        vertical-align: middle;\n",
              "    }\n",
              "\n",
              "    .dataframe tbody tr th {\n",
              "        vertical-align: top;\n",
              "    }\n",
              "\n",
              "    .dataframe thead th {\n",
              "        text-align: right;\n",
              "    }\n",
              "</style>\n",
              "<table border=\"1\" class=\"dataframe\">\n",
              "  <thead>\n",
              "    <tr style=\"text-align: right;\">\n",
              "      <th></th>\n",
              "      <th>key</th>\n",
              "      <th>left</th>\n",
              "    </tr>\n",
              "  </thead>\n",
              "  <tbody>\n",
              "    <tr>\n",
              "      <th>0</th>\n",
              "      <td>A</td>\n",
              "      <td>1</td>\n",
              "    </tr>\n",
              "    <tr>\n",
              "      <th>1</th>\n",
              "      <td>B</td>\n",
              "      <td>2</td>\n",
              "    </tr>\n",
              "    <tr>\n",
              "      <th>2</th>\n",
              "      <td>C</td>\n",
              "      <td>3</td>\n",
              "    </tr>\n",
              "  </tbody>\n",
              "</table>\n",
              "</div>"
            ],
            "text/plain": [
              "  key  left\n",
              "0   A     1\n",
              "1   B     2\n",
              "2   C     3"
            ]
          },
          "metadata": {
            "tags": []
          },
          "execution_count": 91
        }
      ]
    },
    {
      "cell_type": "code",
      "metadata": {
        "colab": {
          "base_uri": "https://localhost:8080/",
          "height": 142
        },
        "id": "eskVpupOW0nr",
        "outputId": "65333d5f-7fa1-4f26-a77c-05bbd06fb266"
      },
      "source": [
        "df_right = pd.DataFrame({'key':['A','B','D'], 'right':[4,5,6]})\n",
        "df_right"
      ],
      "execution_count": 94,
      "outputs": [
        {
          "output_type": "execute_result",
          "data": {
            "text/html": [
              "<div>\n",
              "<style scoped>\n",
              "    .dataframe tbody tr th:only-of-type {\n",
              "        vertical-align: middle;\n",
              "    }\n",
              "\n",
              "    .dataframe tbody tr th {\n",
              "        vertical-align: top;\n",
              "    }\n",
              "\n",
              "    .dataframe thead th {\n",
              "        text-align: right;\n",
              "    }\n",
              "</style>\n",
              "<table border=\"1\" class=\"dataframe\">\n",
              "  <thead>\n",
              "    <tr style=\"text-align: right;\">\n",
              "      <th></th>\n",
              "      <th>key</th>\n",
              "      <th>right</th>\n",
              "    </tr>\n",
              "  </thead>\n",
              "  <tbody>\n",
              "    <tr>\n",
              "      <th>0</th>\n",
              "      <td>A</td>\n",
              "      <td>4</td>\n",
              "    </tr>\n",
              "    <tr>\n",
              "      <th>1</th>\n",
              "      <td>B</td>\n",
              "      <td>5</td>\n",
              "    </tr>\n",
              "    <tr>\n",
              "      <th>2</th>\n",
              "      <td>D</td>\n",
              "      <td>6</td>\n",
              "    </tr>\n",
              "  </tbody>\n",
              "</table>\n",
              "</div>"
            ],
            "text/plain": [
              "  key  right\n",
              "0   A      4\n",
              "1   B      5\n",
              "2   D      6"
            ]
          },
          "metadata": {
            "tags": []
          },
          "execution_count": 94
        }
      ]
    },
    {
      "cell_type": "code",
      "metadata": {
        "colab": {
          "base_uri": "https://localhost:8080/",
          "height": 142
        },
        "id": "eVXfJAFYW8el",
        "outputId": "4164c647-e66c-4209-a669-851d96430bba"
      },
      "source": [
        "df_left.merge(df_right, how='left', on='key')"
      ],
      "execution_count": 95,
      "outputs": [
        {
          "output_type": "execute_result",
          "data": {
            "text/html": [
              "<div>\n",
              "<style scoped>\n",
              "    .dataframe tbody tr th:only-of-type {\n",
              "        vertical-align: middle;\n",
              "    }\n",
              "\n",
              "    .dataframe tbody tr th {\n",
              "        vertical-align: top;\n",
              "    }\n",
              "\n",
              "    .dataframe thead th {\n",
              "        text-align: right;\n",
              "    }\n",
              "</style>\n",
              "<table border=\"1\" class=\"dataframe\">\n",
              "  <thead>\n",
              "    <tr style=\"text-align: right;\">\n",
              "      <th></th>\n",
              "      <th>key</th>\n",
              "      <th>left</th>\n",
              "      <th>right</th>\n",
              "    </tr>\n",
              "  </thead>\n",
              "  <tbody>\n",
              "    <tr>\n",
              "      <th>0</th>\n",
              "      <td>A</td>\n",
              "      <td>1</td>\n",
              "      <td>4.0</td>\n",
              "    </tr>\n",
              "    <tr>\n",
              "      <th>1</th>\n",
              "      <td>B</td>\n",
              "      <td>2</td>\n",
              "      <td>5.0</td>\n",
              "    </tr>\n",
              "    <tr>\n",
              "      <th>2</th>\n",
              "      <td>C</td>\n",
              "      <td>3</td>\n",
              "      <td>NaN</td>\n",
              "    </tr>\n",
              "  </tbody>\n",
              "</table>\n",
              "</div>"
            ],
            "text/plain": [
              "  key  left  right\n",
              "0   A     1    4.0\n",
              "1   B     2    5.0\n",
              "2   C     3    NaN"
            ]
          },
          "metadata": {
            "tags": []
          },
          "execution_count": 95
        }
      ]
    },
    {
      "cell_type": "code",
      "metadata": {
        "colab": {
          "base_uri": "https://localhost:8080/",
          "height": 142
        },
        "id": "Lo_-YREQXIJH",
        "outputId": "4df9f23b-b70b-499a-fcc2-3dfffcade5a5"
      },
      "source": [
        "df_left.merge(df_right, how='right', on='key')"
      ],
      "execution_count": 96,
      "outputs": [
        {
          "output_type": "execute_result",
          "data": {
            "text/html": [
              "<div>\n",
              "<style scoped>\n",
              "    .dataframe tbody tr th:only-of-type {\n",
              "        vertical-align: middle;\n",
              "    }\n",
              "\n",
              "    .dataframe tbody tr th {\n",
              "        vertical-align: top;\n",
              "    }\n",
              "\n",
              "    .dataframe thead th {\n",
              "        text-align: right;\n",
              "    }\n",
              "</style>\n",
              "<table border=\"1\" class=\"dataframe\">\n",
              "  <thead>\n",
              "    <tr style=\"text-align: right;\">\n",
              "      <th></th>\n",
              "      <th>key</th>\n",
              "      <th>left</th>\n",
              "      <th>right</th>\n",
              "    </tr>\n",
              "  </thead>\n",
              "  <tbody>\n",
              "    <tr>\n",
              "      <th>0</th>\n",
              "      <td>A</td>\n",
              "      <td>1.0</td>\n",
              "      <td>4</td>\n",
              "    </tr>\n",
              "    <tr>\n",
              "      <th>1</th>\n",
              "      <td>B</td>\n",
              "      <td>2.0</td>\n",
              "      <td>5</td>\n",
              "    </tr>\n",
              "    <tr>\n",
              "      <th>2</th>\n",
              "      <td>D</td>\n",
              "      <td>NaN</td>\n",
              "      <td>6</td>\n",
              "    </tr>\n",
              "  </tbody>\n",
              "</table>\n",
              "</div>"
            ],
            "text/plain": [
              "  key  left  right\n",
              "0   A   1.0      4\n",
              "1   B   2.0      5\n",
              "2   D   NaN      6"
            ]
          },
          "metadata": {
            "tags": []
          },
          "execution_count": 96
        }
      ]
    },
    {
      "cell_type": "code",
      "metadata": {
        "colab": {
          "base_uri": "https://localhost:8080/",
          "height": 173
        },
        "id": "P70BSx0FXoCV",
        "outputId": "aa0e1ec8-e93a-42da-f6c6-0e983dffefcc"
      },
      "source": [
        "df_left.merge(df_right, how='outer', on='key')"
      ],
      "execution_count": 97,
      "outputs": [
        {
          "output_type": "execute_result",
          "data": {
            "text/html": [
              "<div>\n",
              "<style scoped>\n",
              "    .dataframe tbody tr th:only-of-type {\n",
              "        vertical-align: middle;\n",
              "    }\n",
              "\n",
              "    .dataframe tbody tr th {\n",
              "        vertical-align: top;\n",
              "    }\n",
              "\n",
              "    .dataframe thead th {\n",
              "        text-align: right;\n",
              "    }\n",
              "</style>\n",
              "<table border=\"1\" class=\"dataframe\">\n",
              "  <thead>\n",
              "    <tr style=\"text-align: right;\">\n",
              "      <th></th>\n",
              "      <th>key</th>\n",
              "      <th>left</th>\n",
              "      <th>right</th>\n",
              "    </tr>\n",
              "  </thead>\n",
              "  <tbody>\n",
              "    <tr>\n",
              "      <th>0</th>\n",
              "      <td>A</td>\n",
              "      <td>1.0</td>\n",
              "      <td>4.0</td>\n",
              "    </tr>\n",
              "    <tr>\n",
              "      <th>1</th>\n",
              "      <td>B</td>\n",
              "      <td>2.0</td>\n",
              "      <td>5.0</td>\n",
              "    </tr>\n",
              "    <tr>\n",
              "      <th>2</th>\n",
              "      <td>C</td>\n",
              "      <td>3.0</td>\n",
              "      <td>NaN</td>\n",
              "    </tr>\n",
              "    <tr>\n",
              "      <th>3</th>\n",
              "      <td>D</td>\n",
              "      <td>NaN</td>\n",
              "      <td>6.0</td>\n",
              "    </tr>\n",
              "  </tbody>\n",
              "</table>\n",
              "</div>"
            ],
            "text/plain": [
              "  key  left  right\n",
              "0   A   1.0    4.0\n",
              "1   B   2.0    5.0\n",
              "2   C   3.0    NaN\n",
              "3   D   NaN    6.0"
            ]
          },
          "metadata": {
            "tags": []
          },
          "execution_count": 97
        }
      ]
    },
    {
      "cell_type": "code",
      "metadata": {
        "colab": {
          "base_uri": "https://localhost:8080/",
          "height": 111
        },
        "id": "HGZCTTV9XwDb",
        "outputId": "46d7e4fd-be18-4026-8d8f-4792100d022e"
      },
      "source": [
        "df_left.merge(df_right, how='inner', on='key')"
      ],
      "execution_count": 98,
      "outputs": [
        {
          "output_type": "execute_result",
          "data": {
            "text/html": [
              "<div>\n",
              "<style scoped>\n",
              "    .dataframe tbody tr th:only-of-type {\n",
              "        vertical-align: middle;\n",
              "    }\n",
              "\n",
              "    .dataframe tbody tr th {\n",
              "        vertical-align: top;\n",
              "    }\n",
              "\n",
              "    .dataframe thead th {\n",
              "        text-align: right;\n",
              "    }\n",
              "</style>\n",
              "<table border=\"1\" class=\"dataframe\">\n",
              "  <thead>\n",
              "    <tr style=\"text-align: right;\">\n",
              "      <th></th>\n",
              "      <th>key</th>\n",
              "      <th>left</th>\n",
              "      <th>right</th>\n",
              "    </tr>\n",
              "  </thead>\n",
              "  <tbody>\n",
              "    <tr>\n",
              "      <th>0</th>\n",
              "      <td>A</td>\n",
              "      <td>1</td>\n",
              "      <td>4</td>\n",
              "    </tr>\n",
              "    <tr>\n",
              "      <th>1</th>\n",
              "      <td>B</td>\n",
              "      <td>2</td>\n",
              "      <td>5</td>\n",
              "    </tr>\n",
              "  </tbody>\n",
              "</table>\n",
              "</div>"
            ],
            "text/plain": [
              "  key  left  right\n",
              "0   A     1      4\n",
              "1   B     2      5"
            ]
          },
          "metadata": {
            "tags": []
          },
          "execution_count": 98
        }
      ]
    },
    {
      "cell_type": "code",
      "metadata": {
        "colab": {
          "base_uri": "https://localhost:8080/"
        },
        "id": "lUOTCa73X17d",
        "outputId": "5a183c7f-a415-40f7-ac78-f0df638e4fde"
      },
      "source": [
        "%%writefile sea_rain1.csv\n",
        "연도,동해,남해,서해,전체\n",
        "1996,17.4629,17.2288,14.436,15.9067\n",
        "1997,17.4116,17.4092,14.8248,16.1526\n",
        "1998,17.5944,18.011,15.2512,16.6044\n",
        "1999,18.1495,18.3175,14.8979,16.6284\n",
        "2000,17.9288,18.1766,15.0504,16.6178"
      ],
      "execution_count": 99,
      "outputs": [
        {
          "output_type": "stream",
          "text": [
            "Writing sea_rain1.csv\n"
          ],
          "name": "stdout"
        }
      ]
    },
    {
      "cell_type": "code",
      "metadata": {
        "colab": {
          "base_uri": "https://localhost:8080/",
          "height": 204
        },
        "id": "8Y0R-5l7YSk2",
        "outputId": "3d0859ba-863c-45a4-f591-6155eedf090d"
      },
      "source": [
        "import pandas as pd\n",
        "pd.read_csv('sea_rain1.csv')"
      ],
      "execution_count": 100,
      "outputs": [
        {
          "output_type": "execute_result",
          "data": {
            "text/html": [
              "<div>\n",
              "<style scoped>\n",
              "    .dataframe tbody tr th:only-of-type {\n",
              "        vertical-align: middle;\n",
              "    }\n",
              "\n",
              "    .dataframe tbody tr th {\n",
              "        vertical-align: top;\n",
              "    }\n",
              "\n",
              "    .dataframe thead th {\n",
              "        text-align: right;\n",
              "    }\n",
              "</style>\n",
              "<table border=\"1\" class=\"dataframe\">\n",
              "  <thead>\n",
              "    <tr style=\"text-align: right;\">\n",
              "      <th></th>\n",
              "      <th>연도</th>\n",
              "      <th>동해</th>\n",
              "      <th>남해</th>\n",
              "      <th>서해</th>\n",
              "      <th>전체</th>\n",
              "    </tr>\n",
              "  </thead>\n",
              "  <tbody>\n",
              "    <tr>\n",
              "      <th>0</th>\n",
              "      <td>1996</td>\n",
              "      <td>17.4629</td>\n",
              "      <td>17.2288</td>\n",
              "      <td>14.4360</td>\n",
              "      <td>15.9067</td>\n",
              "    </tr>\n",
              "    <tr>\n",
              "      <th>1</th>\n",
              "      <td>1997</td>\n",
              "      <td>17.4116</td>\n",
              "      <td>17.4092</td>\n",
              "      <td>14.8248</td>\n",
              "      <td>16.1526</td>\n",
              "    </tr>\n",
              "    <tr>\n",
              "      <th>2</th>\n",
              "      <td>1998</td>\n",
              "      <td>17.5944</td>\n",
              "      <td>18.0110</td>\n",
              "      <td>15.2512</td>\n",
              "      <td>16.6044</td>\n",
              "    </tr>\n",
              "    <tr>\n",
              "      <th>3</th>\n",
              "      <td>1999</td>\n",
              "      <td>18.1495</td>\n",
              "      <td>18.3175</td>\n",
              "      <td>14.8979</td>\n",
              "      <td>16.6284</td>\n",
              "    </tr>\n",
              "    <tr>\n",
              "      <th>4</th>\n",
              "      <td>2000</td>\n",
              "      <td>17.9288</td>\n",
              "      <td>18.1766</td>\n",
              "      <td>15.0504</td>\n",
              "      <td>16.6178</td>\n",
              "    </tr>\n",
              "  </tbody>\n",
              "</table>\n",
              "</div>"
            ],
            "text/plain": [
              "     연도       동해       남해       서해       전체\n",
              "0  1996  17.4629  17.2288  14.4360  15.9067\n",
              "1  1997  17.4116  17.4092  14.8248  16.1526\n",
              "2  1998  17.5944  18.0110  15.2512  16.6044\n",
              "3  1999  18.1495  18.3175  14.8979  16.6284\n",
              "4  2000  17.9288  18.1766  15.0504  16.6178"
            ]
          },
          "metadata": {
            "tags": []
          },
          "execution_count": 100
        }
      ]
    },
    {
      "cell_type": "code",
      "metadata": {
        "colab": {
          "base_uri": "https://localhost:8080/"
        },
        "id": "hQt86Y1mZGFX",
        "outputId": "35cd9c99-ce88-4e6e-f8cb-2d512e8094db"
      },
      "source": [
        "%%writefile sea_rain1_space.txt\n",
        "연도 동해 남해 서해 전체\n",
        "1996 17.4629 17.2288 14.436 15.9067\n",
        "1997 17.4116 17.4092 14.8248 16.1526\n",
        "1998 17.5944 18.011 15.2512 16.6044\n",
        "1999 18.1495 18.3175 14.8979 16.6284\n",
        "2000 17.9288 18.1766 15.0504 16.617"
      ],
      "execution_count": 104,
      "outputs": [
        {
          "output_type": "stream",
          "text": [
            "Writing sea_rain1_space.txt\n"
          ],
          "name": "stdout"
        }
      ]
    },
    {
      "cell_type": "code",
      "metadata": {
        "colab": {
          "base_uri": "https://localhost:8080/",
          "height": 204
        },
        "id": "Lw5AEIp9ZR2K",
        "outputId": "5ccab374-dfc7-424c-b0c2-d7ebcaebefcf"
      },
      "source": [
        "pd.read_csv('sea_rain1_space.txt', sep =\" \")"
      ],
      "execution_count": 106,
      "outputs": [
        {
          "output_type": "execute_result",
          "data": {
            "text/html": [
              "<div>\n",
              "<style scoped>\n",
              "    .dataframe tbody tr th:only-of-type {\n",
              "        vertical-align: middle;\n",
              "    }\n",
              "\n",
              "    .dataframe tbody tr th {\n",
              "        vertical-align: top;\n",
              "    }\n",
              "\n",
              "    .dataframe thead th {\n",
              "        text-align: right;\n",
              "    }\n",
              "</style>\n",
              "<table border=\"1\" class=\"dataframe\">\n",
              "  <thead>\n",
              "    <tr style=\"text-align: right;\">\n",
              "      <th></th>\n",
              "      <th>연도</th>\n",
              "      <th>동해</th>\n",
              "      <th>남해</th>\n",
              "      <th>서해</th>\n",
              "      <th>전체</th>\n",
              "    </tr>\n",
              "  </thead>\n",
              "  <tbody>\n",
              "    <tr>\n",
              "      <th>0</th>\n",
              "      <td>1996</td>\n",
              "      <td>17.4629</td>\n",
              "      <td>17.2288</td>\n",
              "      <td>14.4360</td>\n",
              "      <td>15.9067</td>\n",
              "    </tr>\n",
              "    <tr>\n",
              "      <th>1</th>\n",
              "      <td>1997</td>\n",
              "      <td>17.4116</td>\n",
              "      <td>17.4092</td>\n",
              "      <td>14.8248</td>\n",
              "      <td>16.1526</td>\n",
              "    </tr>\n",
              "    <tr>\n",
              "      <th>2</th>\n",
              "      <td>1998</td>\n",
              "      <td>17.5944</td>\n",
              "      <td>18.0110</td>\n",
              "      <td>15.2512</td>\n",
              "      <td>16.6044</td>\n",
              "    </tr>\n",
              "    <tr>\n",
              "      <th>3</th>\n",
              "      <td>1999</td>\n",
              "      <td>18.1495</td>\n",
              "      <td>18.3175</td>\n",
              "      <td>14.8979</td>\n",
              "      <td>16.6284</td>\n",
              "    </tr>\n",
              "    <tr>\n",
              "      <th>4</th>\n",
              "      <td>2000</td>\n",
              "      <td>17.9288</td>\n",
              "      <td>18.1766</td>\n",
              "      <td>15.0504</td>\n",
              "      <td>16.6170</td>\n",
              "    </tr>\n",
              "  </tbody>\n",
              "</table>\n",
              "</div>"
            ],
            "text/plain": [
              "     연도       동해       남해       서해       전체\n",
              "0  1996  17.4629  17.2288  14.4360  15.9067\n",
              "1  1997  17.4116  17.4092  14.8248  16.1526\n",
              "2  1998  17.5944  18.0110  15.2512  16.6044\n",
              "3  1999  18.1495  18.3175  14.8979  16.6284\n",
              "4  2000  17.9288  18.1766  15.0504  16.6170"
            ]
          },
          "metadata": {
            "tags": []
          },
          "execution_count": 106
        }
      ]
    },
    {
      "cell_type": "code",
      "metadata": {
        "colab": {
          "base_uri": "https://localhost:8080/",
          "height": 235
        },
        "id": "1xfEm1s_Zbnq",
        "outputId": "cf33dd77-2144-49e6-e5f4-c159fa231460"
      },
      "source": [
        "pd.read_csv('sea_rain1.csv', index_col=\"연도\")"
      ],
      "execution_count": 110,
      "outputs": [
        {
          "output_type": "execute_result",
          "data": {
            "text/html": [
              "<div>\n",
              "<style scoped>\n",
              "    .dataframe tbody tr th:only-of-type {\n",
              "        vertical-align: middle;\n",
              "    }\n",
              "\n",
              "    .dataframe tbody tr th {\n",
              "        vertical-align: top;\n",
              "    }\n",
              "\n",
              "    .dataframe thead th {\n",
              "        text-align: right;\n",
              "    }\n",
              "</style>\n",
              "<table border=\"1\" class=\"dataframe\">\n",
              "  <thead>\n",
              "    <tr style=\"text-align: right;\">\n",
              "      <th></th>\n",
              "      <th>동해</th>\n",
              "      <th>남해</th>\n",
              "      <th>서해</th>\n",
              "      <th>전체</th>\n",
              "    </tr>\n",
              "    <tr>\n",
              "      <th>연도</th>\n",
              "      <th></th>\n",
              "      <th></th>\n",
              "      <th></th>\n",
              "      <th></th>\n",
              "    </tr>\n",
              "  </thead>\n",
              "  <tbody>\n",
              "    <tr>\n",
              "      <th>1996</th>\n",
              "      <td>17.4629</td>\n",
              "      <td>17.2288</td>\n",
              "      <td>14.4360</td>\n",
              "      <td>15.9067</td>\n",
              "    </tr>\n",
              "    <tr>\n",
              "      <th>1997</th>\n",
              "      <td>17.4116</td>\n",
              "      <td>17.4092</td>\n",
              "      <td>14.8248</td>\n",
              "      <td>16.1526</td>\n",
              "    </tr>\n",
              "    <tr>\n",
              "      <th>1998</th>\n",
              "      <td>17.5944</td>\n",
              "      <td>18.0110</td>\n",
              "      <td>15.2512</td>\n",
              "      <td>16.6044</td>\n",
              "    </tr>\n",
              "    <tr>\n",
              "      <th>1999</th>\n",
              "      <td>18.1495</td>\n",
              "      <td>18.3175</td>\n",
              "      <td>14.8979</td>\n",
              "      <td>16.6284</td>\n",
              "    </tr>\n",
              "    <tr>\n",
              "      <th>2000</th>\n",
              "      <td>17.9288</td>\n",
              "      <td>18.1766</td>\n",
              "      <td>15.0504</td>\n",
              "      <td>16.6178</td>\n",
              "    </tr>\n",
              "  </tbody>\n",
              "</table>\n",
              "</div>"
            ],
            "text/plain": [
              "           동해       남해       서해       전체\n",
              "연도                                      \n",
              "1996  17.4629  17.2288  14.4360  15.9067\n",
              "1997  17.4116  17.4092  14.8248  16.1526\n",
              "1998  17.5944  18.0110  15.2512  16.6044\n",
              "1999  18.1495  18.3175  14.8979  16.6284\n",
              "2000  17.9288  18.1766  15.0504  16.6178"
            ]
          },
          "metadata": {
            "tags": []
          },
          "execution_count": 110
        }
      ]
    },
    {
      "cell_type": "code",
      "metadata": {
        "colab": {
          "base_uri": "https://localhost:8080/",
          "height": 204
        },
        "id": "CWYt91xYZpNw",
        "outputId": "a5044f8d-fa34-464b-a44c-2d150a542d5e"
      },
      "source": [
        "pd.read_csv('sea_rain1_from_notepad.csv', encoding = \"cp949\")"
      ],
      "execution_count": 111,
      "outputs": [
        {
          "output_type": "execute_result",
          "data": {
            "text/html": [
              "<div>\n",
              "<style scoped>\n",
              "    .dataframe tbody tr th:only-of-type {\n",
              "        vertical-align: middle;\n",
              "    }\n",
              "\n",
              "    .dataframe tbody tr th {\n",
              "        vertical-align: top;\n",
              "    }\n",
              "\n",
              "    .dataframe thead th {\n",
              "        text-align: right;\n",
              "    }\n",
              "</style>\n",
              "<table border=\"1\" class=\"dataframe\">\n",
              "  <thead>\n",
              "    <tr style=\"text-align: right;\">\n",
              "      <th></th>\n",
              "      <th>연도</th>\n",
              "      <th>동해</th>\n",
              "      <th>남해</th>\n",
              "      <th>서해</th>\n",
              "      <th>전체</th>\n",
              "    </tr>\n",
              "  </thead>\n",
              "  <tbody>\n",
              "    <tr>\n",
              "      <th>0</th>\n",
              "      <td>1996</td>\n",
              "      <td>17.4629</td>\n",
              "      <td>17.2288</td>\n",
              "      <td>14.4360</td>\n",
              "      <td>15.9067</td>\n",
              "    </tr>\n",
              "    <tr>\n",
              "      <th>1</th>\n",
              "      <td>1997</td>\n",
              "      <td>17.4116</td>\n",
              "      <td>17.4092</td>\n",
              "      <td>14.8248</td>\n",
              "      <td>16.1526</td>\n",
              "    </tr>\n",
              "    <tr>\n",
              "      <th>2</th>\n",
              "      <td>1998</td>\n",
              "      <td>17.5944</td>\n",
              "      <td>18.0110</td>\n",
              "      <td>15.2512</td>\n",
              "      <td>16.6044</td>\n",
              "    </tr>\n",
              "    <tr>\n",
              "      <th>3</th>\n",
              "      <td>1999</td>\n",
              "      <td>18.1495</td>\n",
              "      <td>18.3175</td>\n",
              "      <td>14.8979</td>\n",
              "      <td>16.6284</td>\n",
              "    </tr>\n",
              "    <tr>\n",
              "      <th>4</th>\n",
              "      <td>2000</td>\n",
              "      <td>17.9288</td>\n",
              "      <td>18.1766</td>\n",
              "      <td>15.0504</td>\n",
              "      <td>16.6178</td>\n",
              "    </tr>\n",
              "  </tbody>\n",
              "</table>\n",
              "</div>"
            ],
            "text/plain": [
              "     연도       동해       남해       서해       전체\n",
              "0  1996  17.4629  17.2288  14.4360  15.9067\n",
              "1  1997  17.4116  17.4092  14.8248  16.1526\n",
              "2  1998  17.5944  18.0110  15.2512  16.6044\n",
              "3  1999  18.1495  18.3175  14.8979  16.6284\n",
              "4  2000  17.9288  18.1766  15.0504  16.6178"
            ]
          },
          "metadata": {
            "tags": []
          },
          "execution_count": 111
        }
      ]
    },
    {
      "cell_type": "code",
      "metadata": {
        "colab": {
          "base_uri": "https://localhost:8080/",
          "height": 204
        },
        "id": "sEdQlFmoxMzp",
        "outputId": "71a5059a-deb6-45d3-a08f-296d806e9181"
      },
      "source": [
        "import pandas as pd\n",
        "\n",
        "\n",
        "df_WH = pd.DataFrame({'Weight':[62,67,65,74],\n",
        "                     'Height': [165,177,160,180]},\n",
        "                     index = ['ID_1', 'ID_2', 'ID_3', 'ID_4'])\n",
        "df_WH.index.name = 'User'\n",
        "df_WH"
      ],
      "execution_count": 9,
      "outputs": [
        {
          "output_type": "execute_result",
          "data": {
            "text/html": [
              "<div>\n",
              "<style scoped>\n",
              "    .dataframe tbody tr th:only-of-type {\n",
              "        vertical-align: middle;\n",
              "    }\n",
              "\n",
              "    .dataframe tbody tr th {\n",
              "        vertical-align: top;\n",
              "    }\n",
              "\n",
              "    .dataframe thead th {\n",
              "        text-align: right;\n",
              "    }\n",
              "</style>\n",
              "<table border=\"1\" class=\"dataframe\">\n",
              "  <thead>\n",
              "    <tr style=\"text-align: right;\">\n",
              "      <th></th>\n",
              "      <th>Weight</th>\n",
              "      <th>Height</th>\n",
              "    </tr>\n",
              "    <tr>\n",
              "      <th>User</th>\n",
              "      <th></th>\n",
              "      <th></th>\n",
              "    </tr>\n",
              "  </thead>\n",
              "  <tbody>\n",
              "    <tr>\n",
              "      <th>ID_1</th>\n",
              "      <td>62</td>\n",
              "      <td>165</td>\n",
              "    </tr>\n",
              "    <tr>\n",
              "      <th>ID_2</th>\n",
              "      <td>67</td>\n",
              "      <td>177</td>\n",
              "    </tr>\n",
              "    <tr>\n",
              "      <th>ID_3</th>\n",
              "      <td>65</td>\n",
              "      <td>160</td>\n",
              "    </tr>\n",
              "    <tr>\n",
              "      <th>ID_4</th>\n",
              "      <td>74</td>\n",
              "      <td>180</td>\n",
              "    </tr>\n",
              "  </tbody>\n",
              "</table>\n",
              "</div>"
            ],
            "text/plain": [
              "      Weight  Height\n",
              "User                \n",
              "ID_1      62     165\n",
              "ID_2      67     177\n",
              "ID_3      65     160\n",
              "ID_4      74     180"
            ]
          },
          "metadata": {
            "tags": []
          },
          "execution_count": 9
        }
      ]
    },
    {
      "cell_type": "code",
      "metadata": {
        "colab": {
          "base_uri": "https://localhost:8080/"
        },
        "id": "6yLGB59QyqL-",
        "outputId": "f09bf366-a9fd-4942-f5d8-75b1c338ad18"
      },
      "source": [
        "bmi = df_WH['Weight']/(df_WH['Height']/100)**2\n",
        "bmi"
      ],
      "execution_count": 10,
      "outputs": [
        {
          "output_type": "execute_result",
          "data": {
            "text/plain": [
              "User\n",
              "ID_1    22.773186\n",
              "ID_2    21.385936\n",
              "ID_3    25.390625\n",
              "ID_4    22.839506\n",
              "dtype: float64"
            ]
          },
          "metadata": {
            "tags": []
          },
          "execution_count": 10
        }
      ]
    },
    {
      "cell_type": "code",
      "metadata": {
        "colab": {
          "base_uri": "https://localhost:8080/",
          "height": 204
        },
        "id": "W-ORQ4vDzMYE",
        "outputId": "d3cbc612-21f0-4e26-cc26-834a76f8768c"
      },
      "source": [
        "df_WH['BMI'] = bmi\n",
        "df_WH\n"
      ],
      "execution_count": 11,
      "outputs": [
        {
          "output_type": "execute_result",
          "data": {
            "text/html": [
              "<div>\n",
              "<style scoped>\n",
              "    .dataframe tbody tr th:only-of-type {\n",
              "        vertical-align: middle;\n",
              "    }\n",
              "\n",
              "    .dataframe tbody tr th {\n",
              "        vertical-align: top;\n",
              "    }\n",
              "\n",
              "    .dataframe thead th {\n",
              "        text-align: right;\n",
              "    }\n",
              "</style>\n",
              "<table border=\"1\" class=\"dataframe\">\n",
              "  <thead>\n",
              "    <tr style=\"text-align: right;\">\n",
              "      <th></th>\n",
              "      <th>Weight</th>\n",
              "      <th>Height</th>\n",
              "      <th>BMI</th>\n",
              "    </tr>\n",
              "    <tr>\n",
              "      <th>User</th>\n",
              "      <th></th>\n",
              "      <th></th>\n",
              "      <th></th>\n",
              "    </tr>\n",
              "  </thead>\n",
              "  <tbody>\n",
              "    <tr>\n",
              "      <th>ID_1</th>\n",
              "      <td>62</td>\n",
              "      <td>165</td>\n",
              "      <td>22.773186</td>\n",
              "    </tr>\n",
              "    <tr>\n",
              "      <th>ID_2</th>\n",
              "      <td>67</td>\n",
              "      <td>177</td>\n",
              "      <td>21.385936</td>\n",
              "    </tr>\n",
              "    <tr>\n",
              "      <th>ID_3</th>\n",
              "      <td>65</td>\n",
              "      <td>160</td>\n",
              "      <td>25.390625</td>\n",
              "    </tr>\n",
              "    <tr>\n",
              "      <th>ID_4</th>\n",
              "      <td>74</td>\n",
              "      <td>180</td>\n",
              "      <td>22.839506</td>\n",
              "    </tr>\n",
              "  </tbody>\n",
              "</table>\n",
              "</div>"
            ],
            "text/plain": [
              "      Weight  Height        BMI\n",
              "User                           \n",
              "ID_1      62     165  22.773186\n",
              "ID_2      67     177  21.385936\n",
              "ID_3      65     160  25.390625\n",
              "ID_4      74     180  22.839506"
            ]
          },
          "metadata": {
            "tags": []
          },
          "execution_count": 11
        }
      ]
    },
    {
      "cell_type": "code",
      "metadata": {
        "id": "bqhyucLZLA6K"
      },
      "source": [
        "df_WH.to_csv('save_DataFrame.csv')"
      ],
      "execution_count": 12,
      "outputs": []
    },
    {
      "cell_type": "code",
      "metadata": {
        "colab": {
          "base_uri": "https://localhost:8080/"
        },
        "id": "6Qr3G8AMLktY",
        "outputId": "36f2b5b2-8b6e-40d1-c905-ee86542005bb"
      },
      "source": [
        "!cat save_DataFrame.csv"
      ],
      "execution_count": 13,
      "outputs": [
        {
          "output_type": "stream",
          "text": [
            "User,Weight,Height,BMI\n",
            "ID_1,62,165,22.77318640955005\n",
            "ID_2,67,177,21.38593635289987\n",
            "ID_3,65,160,25.390624999999996\n",
            "ID_4,74,180,22.839506172839506\n"
          ],
          "name": "stdout"
        }
      ]
    },
    {
      "cell_type": "code",
      "metadata": {
        "colab": {
          "base_uri": "https://localhost:8080/",
          "height": 173
        },
        "id": "9yoCMVOhMxQM",
        "outputId": "0537b180-39e0-4272-914a-5a75faab05a1"
      },
      "source": [
        "df_pr = pd.DataFrame({'판매가격':[2000,3000,5000,10000],\n",
        "                      '판매량':[32,53,40,25]},\n",
        "                      index=['P1001','P1002','P1003','P1004'])\n",
        "df_pr.index.naver = '제품번호'\n",
        "df_pr"
      ],
      "execution_count": 15,
      "outputs": [
        {
          "output_type": "execute_result",
          "data": {
            "text/html": [
              "<div>\n",
              "<style scoped>\n",
              "    .dataframe tbody tr th:only-of-type {\n",
              "        vertical-align: middle;\n",
              "    }\n",
              "\n",
              "    .dataframe tbody tr th {\n",
              "        vertical-align: top;\n",
              "    }\n",
              "\n",
              "    .dataframe thead th {\n",
              "        text-align: right;\n",
              "    }\n",
              "</style>\n",
              "<table border=\"1\" class=\"dataframe\">\n",
              "  <thead>\n",
              "    <tr style=\"text-align: right;\">\n",
              "      <th></th>\n",
              "      <th>판매가격</th>\n",
              "      <th>판매량</th>\n",
              "    </tr>\n",
              "  </thead>\n",
              "  <tbody>\n",
              "    <tr>\n",
              "      <th>P1001</th>\n",
              "      <td>2000</td>\n",
              "      <td>32</td>\n",
              "    </tr>\n",
              "    <tr>\n",
              "      <th>P1002</th>\n",
              "      <td>3000</td>\n",
              "      <td>53</td>\n",
              "    </tr>\n",
              "    <tr>\n",
              "      <th>P1003</th>\n",
              "      <td>5000</td>\n",
              "      <td>40</td>\n",
              "    </tr>\n",
              "    <tr>\n",
              "      <th>P1004</th>\n",
              "      <td>10000</td>\n",
              "      <td>25</td>\n",
              "    </tr>\n",
              "  </tbody>\n",
              "</table>\n",
              "</div>"
            ],
            "text/plain": [
              "        판매가격  판매량\n",
              "P1001   2000   32\n",
              "P1002   3000   53\n",
              "P1003   5000   40\n",
              "P1004  10000   25"
            ]
          },
          "metadata": {
            "tags": []
          },
          "execution_count": 15
        }
      ]
    },
    {
      "cell_type": "code",
      "metadata": {
        "id": "7mOvPORWNiVj"
      },
      "source": [
        "file_name = 'save_DataFrame_cp949.txt'\n",
        "df_pr.to_csv(file_name, sep=\" \", encoding = \"cp949\")"
      ],
      "execution_count": 16,
      "outputs": []
    },
    {
      "cell_type": "code",
      "metadata": {
        "colab": {
          "base_uri": "https://localhost:8080/"
        },
        "id": "IrIyXtzaN1G0",
        "outputId": "620e248f-4ace-481b-9e69-359cb9d93f15"
      },
      "source": [
        "!cat save_DataFrame_cp949.txt"
      ],
      "execution_count": 17,
      "outputs": [
        {
          "output_type": "stream",
          "text": [
            " �ǸŰ��� �Ǹŷ�\n",
            "P1001 2000 32\n",
            "P1002 3000 53\n",
            "P1003 5000 40\n",
            "P1004 10000 25\n"
          ],
          "name": "stdout"
        }
      ]
    },
    {
      "cell_type": "code",
      "metadata": {
        "id": "CXZynGU-N44Z"
      },
      "source": [
        ""
      ],
      "execution_count": null,
      "outputs": []
    }
  ]
}