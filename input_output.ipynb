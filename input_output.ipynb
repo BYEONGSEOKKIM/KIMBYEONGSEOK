{
  "nbformat": 4,
  "nbformat_minor": 0,
  "metadata": {
    "colab": {
      "name": "input output.ipynb",
      "provenance": [],
      "authorship_tag": "ABX9TyNVcZs/GvQ77hJXYiUvf1+B",
      "include_colab_link": true
    },
    "kernelspec": {
      "name": "python3",
      "display_name": "Python 3"
    },
    "language_info": {
      "name": "python"
    }
  },
  "cells": [
    {
      "cell_type": "markdown",
      "metadata": {
        "id": "view-in-github",
        "colab_type": "text"
      },
      "source": [
        "<a href=\"https://colab.research.google.com/github/BYEONGSEOKKIM/python/blob/main/input_output.ipynb\" target=\"_parent\"><img src=\"https://colab.research.google.com/assets/colab-badge.svg\" alt=\"Open In Colab\"/></a>"
      ]
    },
    {
      "cell_type": "code",
      "metadata": {
        "colab": {
          "base_uri": "https://localhost:8080/"
        },
        "id": "sWGMJfShzqdh",
        "outputId": "e40af1b3-e23b-44ae-bb6b-5e0134a247b4"
      },
      "source": [
        "k=0\n",
        "while True:\n",
        "  k=k+1\n",
        "  if(k>3):\n",
        "    break\n",
        "  print(k)"
      ],
      "execution_count": 1,
      "outputs": [
        {
          "output_type": "stream",
          "text": [
            "1\n",
            "2\n",
            "3\n"
          ],
          "name": "stdout"
        }
      ]
    },
    {
      "cell_type": "code",
      "metadata": {
        "colab": {
          "base_uri": "https://localhost:8080/"
        },
        "id": "aRNKrVMR0RI0",
        "outputId": "624f6811-31ea-4a4b-e0cc-2059fb959edb"
      },
      "source": [
        "for k in range(10):\n",
        "  if(k>2):\n",
        "    break\n",
        "  print(k)"
      ],
      "execution_count": 3,
      "outputs": [
        {
          "output_type": "stream",
          "text": [
            "0\n",
            "1\n",
            "2\n"
          ],
          "name": "stdout"
        }
      ]
    },
    {
      "cell_type": "code",
      "metadata": {
        "colab": {
          "base_uri": "https://localhost:8080/"
        },
        "id": "nsc0622P0gEs",
        "outputId": "c560483f-3382-4e3f-d592-8de798e6f9b7"
      },
      "source": [
        "for k in range(5):\n",
        "  if(k==2):\n",
        "    continue\n",
        "  print(k)"
      ],
      "execution_count": 5,
      "outputs": [
        {
          "output_type": "stream",
          "text": [
            "0\n",
            "1\n",
            "3\n",
            "4\n"
          ],
          "name": "stdout"
        }
      ]
    },
    {
      "cell_type": "code",
      "metadata": {
        "colab": {
          "base_uri": "https://localhost:8080/"
        },
        "id": "SRmXGh-p0rV6",
        "outputId": "ce1f7791-2357-426d-e506-73a0439de547"
      },
      "source": [
        "k=0\n",
        "while True:\n",
        "  k = k+1\n",
        "  if(k==2):\n",
        "    print(\"continue next\")\n",
        "    continue\n",
        "  if(k>4):\n",
        "    break\n",
        "  print(k)"
      ],
      "execution_count": 7,
      "outputs": [
        {
          "output_type": "stream",
          "text": [
            "1\n",
            "continue next\n",
            "3\n",
            "4\n"
          ],
          "name": "stdout"
        }
      ]
    },
    {
      "cell_type": "code",
      "metadata": {
        "colab": {
          "base_uri": "https://localhost:8080/"
        },
        "id": "a2JwsCyO1Co6",
        "outputId": "a9cf52de-64bd-489a-94cc-7ee282247f9f"
      },
      "source": [
        "numbers = [1,2,3,4,5]\n",
        "square = []\n",
        "for i in numbers:\n",
        "  square.append(i**2)\n",
        "\n",
        "print(square)"
      ],
      "execution_count": 10,
      "outputs": [
        {
          "output_type": "stream",
          "text": [
            "[1, 4, 9, 16, 25]\n"
          ],
          "name": "stdout"
        }
      ]
    },
    {
      "cell_type": "code",
      "metadata": {
        "colab": {
          "base_uri": "https://localhost:8080/"
        },
        "id": "dj1f3svFWij-",
        "outputId": "60c37441-6119-439e-c480-7eac25b5dab7"
      },
      "source": [
        "numbers = [1,2,3,4,5]\n",
        "square = [i**2 for i in numbers]\n",
        "print(square)"
      ],
      "execution_count": 12,
      "outputs": [
        {
          "output_type": "stream",
          "text": [
            "[1, 4, 9, 16, 25]\n"
          ],
          "name": "stdout"
        }
      ]
    },
    {
      "cell_type": "code",
      "metadata": {
        "colab": {
          "base_uri": "https://localhost:8080/"
        },
        "id": "2cBZP-LfW5zf",
        "outputId": "8adb6c92-20a9-4164-fc49-23f0a1afc04a"
      },
      "source": [
        "numbers = [1,2,3,4,5]\n",
        "square = []\n",
        "for i in numbers:\n",
        "  if i >= 3 :\n",
        "    square.append(i**2)\n",
        "print(square)\n"
      ],
      "execution_count": 13,
      "outputs": [
        {
          "output_type": "stream",
          "text": [
            "[9, 16, 25]\n"
          ],
          "name": "stdout"
        }
      ]
    },
    {
      "cell_type": "code",
      "metadata": {
        "colab": {
          "base_uri": "https://localhost:8080/"
        },
        "id": "rOJt3R2_XRCo",
        "outputId": "126cfe3a-68e7-464f-f604-70420e511956"
      },
      "source": [
        "numbers = [1,2,3,4,5]\n",
        "square = [i**2 for i in numbers if i>=3]\n",
        "print(square)"
      ],
      "execution_count": 15,
      "outputs": [
        {
          "output_type": "stream",
          "text": [
            "[9, 16, 25]\n"
          ],
          "name": "stdout"
        }
      ]
    },
    {
      "cell_type": "code",
      "metadata": {
        "colab": {
          "base_uri": "https://localhost:8080/"
        },
        "id": "BSAgEk-_XcCs",
        "outputId": "325ecb86-bded-4ec7-f529-4f0be46625ff"
      },
      "source": [
        "print(\"Hello python!!\")"
      ],
      "execution_count": 16,
      "outputs": [
        {
          "output_type": "stream",
          "text": [
            "Hello python!!\n"
          ],
          "name": "stdout"
        }
      ]
    },
    {
      "cell_type": "code",
      "metadata": {
        "colab": {
          "base_uri": "https://localhost:8080/"
        },
        "id": "F5MhVT9KsFxQ",
        "outputId": "7bac558f-d01b-48af-f6e6-1a53b8c1af48"
      },
      "source": [
        "print(\"Best\",\"python\", \"book\")"
      ],
      "execution_count": 17,
      "outputs": [
        {
          "output_type": "stream",
          "text": [
            "Best python book\n"
          ],
          "name": "stdout"
        }
      ]
    },
    {
      "cell_type": "code",
      "metadata": {
        "colab": {
          "base_uri": "https://localhost:8080/"
        },
        "id": "XoEcTRp5sSPK",
        "outputId": "fd824e26-ad00-47dc-c511-852280b50019"
      },
      "source": [
        "print(\"Best\",\"python\",\"book\", sep = \"-:*:-\")"
      ],
      "execution_count": 21,
      "outputs": [
        {
          "output_type": "stream",
          "text": [
            "Best-:*:-python-:*:-book\n"
          ],
          "name": "stdout"
        }
      ]
    },
    {
      "cell_type": "code",
      "metadata": {
        "colab": {
          "base_uri": "https://localhost:8080/"
        },
        "id": "PiYbpMn_scL2",
        "outputId": "a7d4a7c2-9488-4f89-9ce6-43e137d84b1d"
      },
      "source": [
        "print(\"abcd\"+\"efg\")"
      ],
      "execution_count": 22,
      "outputs": [
        {
          "output_type": "stream",
          "text": [
            "abcdefg\n"
          ],
          "name": "stdout"
        }
      ]
    },
    {
      "cell_type": "code",
      "metadata": {
        "colab": {
          "base_uri": "https://localhost:8080/"
        },
        "id": "d45xIfMUsuq_",
        "outputId": "697a77ee-b1f4-49a1-b168-66cdd4c7f3b5"
      },
      "source": [
        "x=10\n",
        "print(x)"
      ],
      "execution_count": 23,
      "outputs": [
        {
          "output_type": "stream",
          "text": [
            "10\n"
          ],
          "name": "stdout"
        }
      ]
    },
    {
      "cell_type": "code",
      "metadata": {
        "colab": {
          "base_uri": "https://localhost:8080/"
        },
        "id": "tISQOyOKsyKt",
        "outputId": "09579b50-e3cc-4dd2-df5a-a5c34c55f092"
      },
      "source": [
        "name = \"James\"\n",
        "ID_num = 789\n",
        "print(\"Name:\", name + \",\", \"ID Number:\", ID_num)"
      ],
      "execution_count": 24,
      "outputs": [
        {
          "output_type": "stream",
          "text": [
            "Name: James, ID Number: 789\n"
          ],
          "name": "stdout"
        }
      ]
    },
    {
      "cell_type": "code",
      "metadata": {
        "colab": {
          "base_uri": "https://localhost:8080/"
        },
        "id": "nB7ODm-rtBiS",
        "outputId": "cf1f6047-ec83-4df6-cf27-f91282bedf5d"
      },
      "source": [
        "print(\"James is my friend.\\nHe is Korean\")"
      ],
      "execution_count": 25,
      "outputs": [
        {
          "output_type": "stream",
          "text": [
            "James is my friend.\n",
            "He is Korean\n"
          ],
          "name": "stdout"
        }
      ]
    },
    {
      "cell_type": "code",
      "metadata": {
        "colab": {
          "base_uri": "https://localhost:8080/"
        },
        "id": "xNFgbx6ZtL-y",
        "outputId": "d0bb744c-9088-4d31-9fc3-984e2775a746"
      },
      "source": [
        "print(\"James is my friend. \\n\\nHe is Korean\")"
      ],
      "execution_count": 26,
      "outputs": [
        {
          "output_type": "stream",
          "text": [
            "James is my friend. \n",
            "\n",
            "He is Korean\n"
          ],
          "name": "stdout"
        }
      ]
    },
    {
      "cell_type": "code",
      "metadata": {
        "colab": {
          "base_uri": "https://localhost:8080/"
        },
        "id": "-TnU6h95tTn4",
        "outputId": "981b2fef-874c-4618-c040-5de81256e4a2"
      },
      "source": [
        "print(\"Welcome to\")\n",
        "print(\"python!\")"
      ],
      "execution_count": 28,
      "outputs": [
        {
          "output_type": "stream",
          "text": [
            "Welcome to\n",
            "python!\n"
          ],
          "name": "stdout"
        }
      ]
    },
    {
      "cell_type": "code",
      "metadata": {
        "colab": {
          "base_uri": "https://localhost:8080/"
        },
        "id": "Xr_-J-eWtXV2",
        "outputId": "54d9bd9d-3259-4b9c-bb49-1ce891b54ca5"
      },
      "source": [
        "print(\"Welcome to \", end = \"\")\n",
        "print(\"python!\")"
      ],
      "execution_count": 29,
      "outputs": [
        {
          "output_type": "stream",
          "text": [
            "Welcome to python!\n"
          ],
          "name": "stdout"
        }
      ]
    },
    {
      "cell_type": "code",
      "metadata": {
        "colab": {
          "base_uri": "https://localhost:8080/"
        },
        "id": "epRMVLBItioP",
        "outputId": "90da41e4-5601-4a4e-c6a7-10dc8979bc5c"
      },
      "source": [
        "name=\"광재\"\n",
        "print(\"%s는 나의 친구입니다.\" %name)\n"
      ],
      "execution_count": 30,
      "outputs": [
        {
          "output_type": "stream",
          "text": [
            "광재는 나의 친구입니다.\n"
          ],
          "name": "stdout"
        }
      ]
    },
    {
      "cell_type": "code",
      "metadata": {
        "colab": {
          "base_uri": "https://localhost:8080/"
        },
        "id": "AkYZBlZk6en2",
        "outputId": "8e4eca6d-ec5d-49b8-b5d5-467e16b7df0c"
      },
      "source": [
        "r=3\n",
        "pl=3.14159265358979\n",
        "print(\"반지름: %d, 원주율: %f\" %(r,pl))"
      ],
      "execution_count": 31,
      "outputs": [
        {
          "output_type": "stream",
          "text": [
            "반지름: 3, 원주율: 3.141593\n"
          ],
          "name": "stdout"
        }
      ]
    },
    {
      "cell_type": "code",
      "metadata": {
        "colab": {
          "base_uri": "https://localhost:8080/"
        },
        "id": "5oRKbATQ6uOq",
        "outputId": "3edaab85-169c-4d7f-89ce-61ffdd8747fe"
      },
      "source": [
        "animal_0=\"cat\"\n",
        "animal_1 = \"dog\"\n",
        "animal_2 = \"fox\"\n",
        "\n",
        "print(\"Animal: {0}\".format(animal_0))\n",
        "print(\"Animal:{0},{1},{2}\".format(animal_0, animal_1, animal_2))"
      ],
      "execution_count": 32,
      "outputs": [
        {
          "output_type": "stream",
          "text": [
            "Animal: cat\n",
            "Animal:cat,dog,fox\n"
          ],
          "name": "stdout"
        }
      ]
    },
    {
      "cell_type": "code",
      "metadata": {
        "colab": {
          "base_uri": "https://localhost:8080/"
        },
        "id": "TQ1GAeri7Vb3",
        "outputId": "c0c9753a-7229-4486-9235-fefeac2d2403"
      },
      "source": [
        "print(\"Animal:{0},{2}\".format(animal_0, animal_1, animal_2))"
      ],
      "execution_count": 33,
      "outputs": [
        {
          "output_type": "stream",
          "text": [
            "Animal:cat,fox\n"
          ],
          "name": "stdout"
        }
      ]
    },
    {
      "cell_type": "code",
      "metadata": {
        "colab": {
          "base_uri": "https://localhost:8080/"
        },
        "id": "rQlieqvU7iR3",
        "outputId": "838789aa-da67-4b91-f69d-e9b2779a1d6f"
      },
      "source": [
        "print(\"Animal: {},{},{}\".format(animal_0,animal_1,animal_2))"
      ],
      "execution_count": 34,
      "outputs": [
        {
          "output_type": "stream",
          "text": [
            "Animal: cat,dog,fox\n"
          ],
          "name": "stdout"
        }
      ]
    },
    {
      "cell_type": "code",
      "metadata": {
        "colab": {
          "base_uri": "https://localhost:8080/"
        },
        "id": "Rq1UjMud7sqN",
        "outputId": "ee163868-f155-4436-877a-1d9a39590692"
      },
      "source": [
        "name = \"Tomas\"\n",
        "age = 10\n",
        "a = 0.1234567890123456789\n",
        "fmt_string = \"String: {0}. Integer Number: {1}. Floating Number:{2}\"\n",
        "print(fmt_string.format(name,age,a))"
      ],
      "execution_count": 35,
      "outputs": [
        {
          "output_type": "stream",
          "text": [
            "String: Tomas. Integer Number: 10. Floating Number:0.12345678901234568\n"
          ],
          "name": "stdout"
        }
      ]
    },
    {
      "cell_type": "code",
      "metadata": {
        "colab": {
          "base_uri": "https://localhost:8080/"
        },
        "id": "3oUBeXBjHWUF",
        "outputId": "df9bb44e-1ff9-4311-fc5a-47d230425544"
      },
      "source": [
        "a= 0.1234567890123456789\n",
        "print(\"{0:.2f}, {0:.5f}\".format(a))"
      ],
      "execution_count": 36,
      "outputs": [
        {
          "output_type": "stream",
          "text": [
            "0.12, 0.12346\n"
          ],
          "name": "stdout"
        }
      ]
    },
    {
      "cell_type": "code",
      "metadata": {
        "colab": {
          "base_uri": "https://localhost:8080/"
        },
        "id": "U5kgt0GdHpJ9",
        "outputId": "8d2b09b4-cced-4205-d95c-b080bfd3842f"
      },
      "source": [
        "yourName = input(\"당신의 이름은?\")\n",
        "print(\"당신은{}이군요\".format(yourName))"
      ],
      "execution_count": 37,
      "outputs": [
        {
          "output_type": "stream",
          "text": [
            "당신의 이름은?병석\n",
            "당신은병석이군요\n"
          ],
          "name": "stdout"
        }
      ]
    },
    {
      "cell_type": "code",
      "metadata": {
        "colab": {
          "base_uri": "https://localhost:8080/"
        },
        "id": "BYFEMtdYH5ND",
        "outputId": "25140173-c016-4a47-fc06-cc8564ac5fa2"
      },
      "source": [
        "num = input(\"숫자를 입력하세요:\")\n",
        "print(\"당신이 입력한 숫자는 {}입니다.\".format(num))"
      ],
      "execution_count": 38,
      "outputs": [
        {
          "output_type": "stream",
          "text": [
            "숫자를 입력하세요:2\n",
            "당신이 입력한 숫자는 2입니다.\n"
          ],
          "name": "stdout"
        }
      ]
    },
    {
      "cell_type": "code",
      "metadata": {
        "colab": {
          "base_uri": "https://localhost:8080/"
        },
        "id": "f_1rNMn0IF1M",
        "outputId": "e04c966c-cd4f-4595-d7fc-8db50b2023d4"
      },
      "source": [
        "a=input(\"정사각형 한 변의 길이는?:\")\n",
        "area = int(a)**2\n",
        "print(\"정사각형의 넓이:{}\".format(area))"
      ],
      "execution_count": 39,
      "outputs": [
        {
          "output_type": "stream",
          "text": [
            "정사각형 한 변의 길이는?:5\n",
            "정사각형의 넓이:25\n"
          ],
          "name": "stdout"
        }
      ]
    },
    {
      "cell_type": "code",
      "metadata": {
        "colab": {
          "base_uri": "https://localhost:8080/"
        },
        "id": "kcuM2kBLIUSx",
        "outputId": "03138217-e14a-45b1-a5ee-fd4333e3b3c5"
      },
      "source": [
        "b=input(\"정사각형의 한변의 길이는?:\")\n",
        "area = float(b)**2\n",
        "print(\"정사각형의 넓이: {}\".format(area))"
      ],
      "execution_count": 40,
      "outputs": [
        {
          "output_type": "stream",
          "text": [
            "정사각형의 한변의 길이는?:4.2\n",
            "정사각형의 넓이: 17.64\n"
          ],
          "name": "stdout"
        }
      ]
    },
    {
      "cell_type": "code",
      "metadata": {
        "colab": {
          "base_uri": "https://localhost:8080/"
        },
        "id": "suee3RtoIiTR",
        "outputId": "0a8011f8-ce8a-4e98-bfd9-e7c7459aea8b"
      },
      "source": [
        "c=input(\"정사각형 한 변의 길이는?\")\n",
        "area = float(c)**2\n",
        "print(\"정사각형의 넓이: {}\".format(area))"
      ],
      "execution_count": 41,
      "outputs": [
        {
          "output_type": "stream",
          "text": [
            "정사각형 한 변의 길이는?3\n",
            "정사각형의 넓이: 9.0\n"
          ],
          "name": "stdout"
        }
      ]
    },
    {
      "cell_type": "code",
      "metadata": {
        "id": "Y3Po2yH-Iwlj"
      },
      "source": [
        ""
      ],
      "execution_count": null,
      "outputs": []
    }
  ]
}