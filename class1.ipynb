{
  "nbformat": 4,
  "nbformat_minor": 0,
  "metadata": {
    "colab": {
      "name": "class1.ipynb",
      "provenance": [],
      "authorship_tag": "ABX9TyPrDt38e3rE6IIBSgOKjRvY",
      "include_colab_link": true
    },
    "kernelspec": {
      "name": "python3",
      "display_name": "Python 3"
    },
    "language_info": {
      "name": "python"
    }
  },
  "cells": [
    {
      "cell_type": "markdown",
      "metadata": {
        "id": "view-in-github",
        "colab_type": "text"
      },
      "source": [
        "<a href=\"https://colab.research.google.com/github/BYEONGSEOKKIM/python/blob/main/class1.ipynb\" target=\"_parent\"><img src=\"https://colab.research.google.com/assets/colab-badge.svg\" alt=\"Open In Colab\"/></a>"
      ]
    },
    {
      "cell_type": "code",
      "metadata": {
        "id": "rkneLjrHRgSL"
      },
      "source": [
        "class Bicycle():\n",
        "  pass"
      ],
      "execution_count": 1,
      "outputs": []
    },
    {
      "cell_type": "code",
      "metadata": {
        "id": "7pnl4lBxTC4p"
      },
      "source": [
        "my_bicycle = Bicycle()"
      ],
      "execution_count": 2,
      "outputs": []
    },
    {
      "cell_type": "code",
      "metadata": {
        "colab": {
          "base_uri": "https://localhost:8080/"
        },
        "id": "yiETmX1XTKX1",
        "outputId": "32cb6348-1753-4239-94b5-34f4b2667942"
      },
      "source": [
        "my_bicycle"
      ],
      "execution_count": 3,
      "outputs": [
        {
          "output_type": "execute_result",
          "data": {
            "text/plain": [
              "<__main__.Bicycle at 0x7f69b54487d0>"
            ]
          },
          "metadata": {
            "tags": []
          },
          "execution_count": 3
        }
      ]
    },
    {
      "cell_type": "code",
      "metadata": {
        "id": "hWJ3roO-TN2E"
      },
      "source": [
        "my_bicycle.wheel_size=26\n",
        "my_bicycle.color = 'black'"
      ],
      "execution_count": 4,
      "outputs": []
    },
    {
      "cell_type": "code",
      "metadata": {
        "colab": {
          "base_uri": "https://localhost:8080/"
        },
        "id": "Iogi96mETcTa",
        "outputId": "4be0a532-0c5e-4e26-d167-087edadf2c44"
      },
      "source": [
        "print(\"바퀴 크기:\", my_bicycle.wheel_size)\n",
        "print(\"색상:\", my_bicycle.color)"
      ],
      "execution_count": 5,
      "outputs": [
        {
          "output_type": "stream",
          "text": [
            "바퀴 크기: 26\n",
            "색상: black\n"
          ],
          "name": "stdout"
        }
      ]
    },
    {
      "cell_type": "code",
      "metadata": {
        "id": "lAHR6e9vUUTp"
      },
      "source": [
        "class bicycle1():\n",
        "  wheel=10\n",
        "  "
      ],
      "execution_count": 10,
      "outputs": []
    },
    {
      "cell_type": "code",
      "metadata": {
        "id": "1Aah3jziVHnD"
      },
      "source": [
        "bicycle_2 = bicycle1"
      ],
      "execution_count": 11,
      "outputs": []
    },
    {
      "cell_type": "code",
      "metadata": {
        "colab": {
          "base_uri": "https://localhost:8080/"
        },
        "id": "7MY02bmQVRCs",
        "outputId": "7bedabf7-095d-44a5-c706-0d20c88eee14"
      },
      "source": [
        "print(\"wheel;\",bicycle_2.wheel)"
      ],
      "execution_count": 14,
      "outputs": [
        {
          "output_type": "stream",
          "text": [
            "wheel; 10\n"
          ],
          "name": "stdout"
        }
      ]
    },
    {
      "cell_type": "code",
      "metadata": {
        "id": "PHBfNHjoVfBZ"
      },
      "source": [
        ""
      ],
      "execution_count": null,
      "outputs": []
    }
  ]
}