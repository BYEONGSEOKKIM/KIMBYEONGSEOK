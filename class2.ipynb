{
  "nbformat": 4,
  "nbformat_minor": 0,
  "metadata": {
    "colab": {
      "name": "class2.ipynb",
      "provenance": [],
      "authorship_tag": "ABX9TyNFsaVO01oUa0zLf/qWJrir",
      "include_colab_link": true
    },
    "kernelspec": {
      "name": "python3",
      "display_name": "Python 3"
    },
    "language_info": {
      "name": "python"
    }
  },
  "cells": [
    {
      "cell_type": "markdown",
      "metadata": {
        "id": "view-in-github",
        "colab_type": "text"
      },
      "source": [
        "<a href=\"https://colab.research.google.com/github/BYEONGSEOKKIM/python/blob/main/class2.ipynb\" target=\"_parent\"><img src=\"https://colab.research.google.com/assets/colab-badge.svg\" alt=\"Open In Colab\"/></a>"
      ]
    },
    {
      "cell_type": "code",
      "metadata": {
        "id": "AdyE9T_BLsNy"
      },
      "source": [
        "class Bicycle():\n",
        "  pass"
      ],
      "execution_count": 1,
      "outputs": []
    },
    {
      "cell_type": "code",
      "metadata": {
        "id": "sCDpDRUtL3Zq"
      },
      "source": [
        "my_bicycle = Bicycle()"
      ],
      "execution_count": 4,
      "outputs": []
    },
    {
      "cell_type": "code",
      "metadata": {
        "colab": {
          "base_uri": "https://localhost:8080/"
        },
        "id": "2uAb3fVcMNDe",
        "outputId": "c87efd29-e04b-4354-bced-50f49f9cc638"
      },
      "source": [
        "my_bicycle"
      ],
      "execution_count": 5,
      "outputs": [
        {
          "output_type": "execute_result",
          "data": {
            "text/plain": [
              "<__main__.Bicycle at 0x7fe11e424650>"
            ]
          },
          "metadata": {
            "tags": []
          },
          "execution_count": 5
        }
      ]
    },
    {
      "cell_type": "code",
      "metadata": {
        "id": "VataeCTQMO2k"
      },
      "source": [
        "my_bicycle.wheel_size =26\n",
        "my_bicycle.color = 'black'"
      ],
      "execution_count": 7,
      "outputs": []
    },
    {
      "cell_type": "code",
      "metadata": {
        "colab": {
          "base_uri": "https://localhost:8080/"
        },
        "id": "nL5Eks1BMY6S",
        "outputId": "84c7babb-1632-45a5-98e1-eb9f5a1810e0"
      },
      "source": [
        "print(\"바퀴 크기:\", my_bicycle.wheel_size)\n",
        "print(\"색상:\", my_bicycle.color)"
      ],
      "execution_count": 8,
      "outputs": [
        {
          "output_type": "stream",
          "text": [
            "바퀴 크기: 26\n",
            "색상: black\n"
          ],
          "name": "stdout"
        }
      ]
    },
    {
      "cell_type": "code",
      "metadata": {
        "id": "Z-l9o7zDMkwZ"
      },
      "source": [
        "class Bicycle():\n",
        "  def move(self, speed):\n",
        "    print(\"자전거:시속 {0}킬로미터로 전진\".format(speed))\n",
        "  def turn(sef, direction):\n",
        "    print(\"자전거: {0}회전\".format(direction))\n",
        "  def stop(self):\n",
        "    print(\"자전거({0}, {1}): 정지\".format(self.wheel_size,self.color))"
      ],
      "execution_count": 11,
      "outputs": []
    },
    {
      "cell_type": "code",
      "metadata": {
        "colab": {
          "base_uri": "https://localhost:8080/"
        },
        "id": "GgI3imeYNSba",
        "outputId": "067a0025-aecf-4de7-d4d2-58ebd5ee6439"
      },
      "source": [
        "my_bicycle = Bicycle()\n",
        "\n",
        "my_bicycle.wheel_size = 26\n",
        "my_bicycle.color = 'black'\n",
        "\n",
        "my_bicycle.move(30)\n",
        "my_bicycle.turn('좌')\n",
        "my_bicycle.stop()"
      ],
      "execution_count": 12,
      "outputs": [
        {
          "output_type": "stream",
          "text": [
            "자전거:시속 30킬로미터로 전진\n",
            "자전거: 좌회전\n",
            "자전거(26, black): 정지\n"
          ],
          "name": "stdout"
        }
      ]
    },
    {
      "cell_type": "code",
      "metadata": {
        "id": "tkEQzx2NNpqp"
      },
      "source": [
        "bicycle1 = Bicycle()"
      ],
      "execution_count": 13,
      "outputs": []
    },
    {
      "cell_type": "code",
      "metadata": {
        "colab": {
          "base_uri": "https://localhost:8080/"
        },
        "id": "G_6n-oAvloFl",
        "outputId": "6e4fe4ec-4e6a-4968-dc8a-6294ea870208"
      },
      "source": [
        "bicycle1.wheel_size = 27\n",
        "bicycle1.color = 'red'\n",
        "\n",
        "bicycle1.move(20)\n",
        "bicycle1.turn('좌')\n",
        "bicycle1.stop()"
      ],
      "execution_count": 14,
      "outputs": [
        {
          "output_type": "stream",
          "text": [
            "자전거:시속 20킬로미터로 전진\n",
            "자전거: 좌회전\n",
            "자전거(27, red): 정지\n"
          ],
          "name": "stdout"
        }
      ]
    },
    {
      "cell_type": "code",
      "metadata": {
        "colab": {
          "base_uri": "https://localhost:8080/"
        },
        "id": "FhvEIauOl9Fj",
        "outputId": "944fcb0b-30c0-47c3-9029-e0c02a4764b4"
      },
      "source": [
        "bicycle2 = Bicycle()\n",
        "\n",
        "bicycle2.wheel_size = 24\n",
        "bicycle2.color='blue'\n",
        "\n",
        "bicycle2.move(15)\n",
        "bicycle2.turn('우')\n",
        "bicycle2.stop()"
      ],
      "execution_count": 15,
      "outputs": [
        {
          "output_type": "stream",
          "text": [
            "자전거:시속 15킬로미터로 전진\n",
            "자전거: 우회전\n",
            "자전거(24, blue): 정지\n"
          ],
          "name": "stdout"
        }
      ]
    },
    {
      "cell_type": "code",
      "metadata": {
        "id": "8GgcSDmpmNbK"
      },
      "source": [
        "class Bicycle():\n",
        "\n",
        "  def __init__(self, wheel_size,color):\n",
        "    self.wheel_size = wheel_size\n",
        "    self.color=color\n",
        "\n",
        "  def move(self, speed):\n",
        "    print(\"자전거: 시속 {0}킬로미터로 전진\".format(speed))\n",
        "\n",
        "  def turn(self, direction):\n",
        "    print(\"자전거: {0}회전\".format(direction))\n",
        "  def stop(self):\n",
        "    print(\"자전거({0}, {1}): 정지\".format(self.wheel_size,self.color))"
      ],
      "execution_count": 19,
      "outputs": []
    },
    {
      "cell_type": "code",
      "metadata": {
        "colab": {
          "base_uri": "https://localhost:8080/"
        },
        "id": "MTIg-NPa3ttz",
        "outputId": "dbebd945-204d-4aea-f23f-0c2e5fe2f89b"
      },
      "source": [
        "my_bicycle = Bicycle(26, 'black')\n",
        "\n",
        "my_bicycle.move(30)\n",
        "my_bicycle.turn('좌')\n",
        "my_bicycle.stop()"
      ],
      "execution_count": 20,
      "outputs": [
        {
          "output_type": "stream",
          "text": [
            "자전거: 시속 30킬로미터로 전진\n",
            "자전거: 좌회전\n",
            "자전거(26, black): 정지\n"
          ],
          "name": "stdout"
        }
      ]
    },
    {
      "cell_type": "code",
      "metadata": {
        "id": "GmLfsXUj4PeB"
      },
      "source": [
        "class Car():\n",
        "  instance_count = 0\n",
        "\n",
        "  def __init__(self, size, color):\n",
        "    self.size = size\n",
        "    self.color = color\n",
        "    Car.instance_count = Car.instance_count +1\n",
        "    print(\"자동차 객체의 수 : {0}\".format(Car.instance_count))\n",
        "\n",
        "  def move(self):\n",
        "    print(\"자동차({0}&{1})가 움직입니다.\".format(self.size, self.color))"
      ],
      "execution_count": 30,
      "outputs": []
    },
    {
      "cell_type": "code",
      "metadata": {
        "colab": {
          "base_uri": "https://localhost:8080/"
        },
        "id": "ugJ0YSS65DLP",
        "outputId": "e4f6a98b-1382-47ca-b8a2-87ab6a2084c3"
      },
      "source": [
        "car1 = Car('small', 'white')\n",
        "car2 = Car('big', 'black')"
      ],
      "execution_count": 22,
      "outputs": [
        {
          "output_type": "stream",
          "text": [
            "자동차 객체의 수 : 1\n",
            "자동차 객체의 수 : 2\n"
          ],
          "name": "stdout"
        }
      ]
    },
    {
      "cell_type": "code",
      "metadata": {
        "colab": {
          "base_uri": "https://localhost:8080/"
        },
        "id": "0wvVhGZl5gTl",
        "outputId": "c4811cae-91d3-4003-80a5-a9b348884d3b"
      },
      "source": [
        "print(\"Car 클래스의 총 인스턴스 개수:{}\".format(Car.instance_count))"
      ],
      "execution_count": 27,
      "outputs": [
        {
          "output_type": "stream",
          "text": [
            "Car 클래스의 총 인스턴스 개수:2\n"
          ],
          "name": "stdout"
        }
      ]
    },
    {
      "cell_type": "code",
      "metadata": {
        "colab": {
          "base_uri": "https://localhost:8080/"
        },
        "id": "m3aHCJZU6HDI",
        "outputId": "52cf4fad-140f-4130-f7ef-e0934d8b1b60"
      },
      "source": [
        "print(\"Car 클래스의 총 인스턴스 개수:{}\".format(car1.instance_count))\n",
        "print(\"Car 클래스의 총 인스턴스 개수:{}\".format(car2.instance_count))"
      ],
      "execution_count": 28,
      "outputs": [
        {
          "output_type": "stream",
          "text": [
            "Car 클래스의 총 인스턴스 개수:2\n",
            "Car 클래스의 총 인스턴스 개수:2\n"
          ],
          "name": "stdout"
        }
      ]
    },
    {
      "cell_type": "code",
      "metadata": {
        "colab": {
          "base_uri": "https://localhost:8080/"
        },
        "id": "ZNm0CDdS6eKB",
        "outputId": "cf57a7b9-1a7f-425c-9432-3fd4138b390c"
      },
      "source": [
        "car1.move()\n",
        "car2.move()"
      ],
      "execution_count": 32,
      "outputs": [
        {
          "output_type": "stream",
          "text": [
            "자동차(small&white가 움직입니다.\n",
            "자동차(big&black가 움직입니다.\n"
          ],
          "name": "stdout"
        }
      ]
    },
    {
      "cell_type": "code",
      "metadata": {
        "id": "yVeUdCMy873o"
      },
      "source": [
        "class Car2():\n",
        "  count = 0\n",
        "\n",
        "  def __init__(self, size, num):\n",
        "    self.size = size\n",
        "    self.count = num\n",
        "    Car2.count = Car2.count + 1\n",
        "    print(\"자동차 객체의 수:Car2.count = {0}\".format(Car2.count))\n",
        "    print(\"인스턴스 변수 초기화:self.count = {0}\".format(self.count))\n",
        "\n",
        "  def move(self):\n",
        "    print(\"자동차 ({0} & {1})가 움직입니다\".format(self.size,self.count))"
      ],
      "execution_count": 36,
      "outputs": []
    },
    {
      "cell_type": "code",
      "metadata": {
        "colab": {
          "base_uri": "https://localhost:8080/"
        },
        "id": "dVM3v3jW9yMZ",
        "outputId": "2d02e7a4-ce83-42d6-a6f7-24d1d2cb4473"
      },
      "source": [
        "car1 = Car2(\"big\",20)\n",
        "car2 = Car2(\"small\",30)"
      ],
      "execution_count": 37,
      "outputs": [
        {
          "output_type": "stream",
          "text": [
            "자동차 객체의 수:Car2.count = 1\n",
            "인스턴스 변수 초기화:self.count = 20\n",
            "자동차 객체의 수:Car2.count = 2\n",
            "인스턴스 변수 초기화:self.count = 30\n"
          ],
          "name": "stdout"
        }
      ]
    },
    {
      "cell_type": "code",
      "metadata": {
        "colab": {
          "base_uri": "https://localhost:8080/"
        },
        "id": "toiZWlnz-iwF",
        "outputId": "5079b1d9-14c3-4268-b9b1-70a41171b03c"
      },
      "source": [
        "car1.move()"
      ],
      "execution_count": 39,
      "outputs": [
        {
          "output_type": "stream",
          "text": [
            "자동차 (big & 20)가 움직입니다\n"
          ],
          "name": "stdout"
        }
      ]
    },
    {
      "cell_type": "code",
      "metadata": {
        "id": "-6KmGRv6-5d_"
      },
      "source": [
        "class Car():\n",
        "  instance_count = 0\n",
        "\n",
        "  def __init__(self, size, color):\n",
        "    self.size = size\n",
        "    self.color=color\n",
        "    Car.instance_count = Car.instance_count +1\n",
        "    print(\"자동차 객체의 수 : {0}\".format(Car.instance_count))\n",
        "\n",
        "  def move(self,speed):\n",
        "    self.speed = speed\n",
        "    print(\"자동차{0}&{1} 가\".format(self.size,self.color), end='')\n",
        "    print(\"시속 {0}킬로미터로 전진\".format(self.speed))\n",
        "\n",
        "  def auto_cruise(self):\n",
        "    print(\"자율 주행 모드\")\n",
        "    self.move(self.speed)"
      ],
      "execution_count": 78,
      "outputs": []
    },
    {
      "cell_type": "code",
      "metadata": {
        "colab": {
          "base_uri": "https://localhost:8080/"
        },
        "id": "WZKUv9hRQJU2",
        "outputId": "4bf2b9af-f123-4b8a-90ad-b9d7a0843323"
      },
      "source": [
        "car1 = Car(\"small\",\"red\")\n",
        "car2 = Car(\"big\", \"green\")\n",
        "\n",
        "car1.move(80)\n",
        "car2.move(100)\n",
        "\n",
        "car1.auto_cruise()\n",
        "car2.auto_cruise()"
      ],
      "execution_count": 64,
      "outputs": [
        {
          "output_type": "stream",
          "text": [
            "자동차 객체의 수 : 1\n",
            "자동차 객체의 수 : 2\n",
            "자동차small&red 가시속 80킬로미터로 전진\n",
            "자동차big&green 가시속 100킬로미터로 전진\n",
            "자율 주행 모드\n",
            "자동차small&red 가시속 80킬로미터로 전진\n",
            "자율 주행 모드\n",
            "자동차big&green 가시속 100킬로미터로 전진\n"
          ],
          "name": "stdout"
        }
      ]
    },
    {
      "cell_type": "code",
      "metadata": {
        "id": "zJgfiYTOQtHS"
      },
      "source": [
        "class Car():\n",
        "  instance_count = 0\n",
        "\n",
        "  def __init__(self, size, color):\n",
        "    self.size = size\n",
        "    self.color=color\n",
        "    Car.instance_count = Car.instance_count +1\n",
        "    print(\"자동차 객체의 수 : {0}\".format(Car.instance_count))\n",
        "\n",
        "  def move(self,speed):\n",
        "    self.speed = speed\n",
        "    print(\"자동차{0}&{1} 가\".format(self.size,self.color), end='')\n",
        "    print(\"시속 {0}킬로미터로 전진\".format(self.speed))\n",
        "\n",
        "  def auto_cruise(self):\n",
        "    print(\"자율 주행 모드\")\n",
        "    self.move(self.speed)\n",
        "  @staticmethod\n",
        "  def check_type(model_code):\n",
        "    if(model_code >= 20):\n",
        "      print(\"이 자동차는 전기차 입니다\")\n",
        "    elif(10 <= model_code < 20):\n",
        "      print(\"이 자동차는 가솔린차입니다\")\n",
        "    else:\n",
        "      print(\"이 자동차는 디젤차입니다\")\n",
        "  "
      ],
      "execution_count": 79,
      "outputs": []
    },
    {
      "cell_type": "code",
      "metadata": {
        "colab": {
          "base_uri": "https://localhost:8080/"
        },
        "id": "XKA_iPOtSXav",
        "outputId": "0e3c15e9-2f7f-41ab-ce43-e1ce982daab2"
      },
      "source": [
        "Car.check_type(25)\n",
        "Car.check_type(2)"
      ],
      "execution_count": 71,
      "outputs": [
        {
          "output_type": "stream",
          "text": [
            "이 자동차는 전기차 입니다\n",
            "이 자동차는 디젤차입니다\n"
          ],
          "name": "stdout"
        }
      ]
    },
    {
      "cell_type": "code",
      "metadata": {
        "id": "_GHUNt_kSeEQ"
      },
      "source": [
        "\n",
        "class Car():\n",
        "  instance_count = 0\n",
        "\n",
        "  def __init__(self, size, color):\n",
        "    self.size = size\n",
        "    self.color=color\n",
        "    Car.instance_count = Car.instance_count +1\n",
        "    print(\"자동차 객체의 수 : {0}\".format(Car.instance_count))\n",
        "\n",
        "  def move(self,speed):\n",
        "    self.speed = speed\n",
        "    print(\"자동차{0}&{1} 가\".format(self.size,self.color), end='')\n",
        "    print(\"시속 {0}킬로미터로 전진\".format(self.speed))\n",
        "\n",
        "  def auto_cruise(self):\n",
        "    print(\"자율 주행 모드\")\n",
        "    self.move(self.speed)\n",
        "\n",
        "  @staticmethod\n",
        "  def check_type(model_code):\n",
        "    if(model_code >= 20):\n",
        "      print(\"이 자동차는 전기차 입니다\")\n",
        "    elif(10 <= model_code < 20):\n",
        "      print(\"이 자동차는 가솔린차입니다\")\n",
        "    else:\n",
        "      print(\"이 자동차는 디젤차입니다\")\n",
        "\n",
        "  @classmethod\n",
        "  def count_instance(cls):\n",
        "    print(\"자동차 객체의 개수:{0}\".format(cls.instance_count))"
      ],
      "execution_count": 81,
      "outputs": []
    },
    {
      "cell_type": "code",
      "metadata": {
        "colab": {
          "base_uri": "https://localhost:8080/"
        },
        "id": "gwUhhKFeTAwB",
        "outputId": "c8169227-1006-4897-feb9-8966defd67a8"
      },
      "source": [
        "Car.count_instance()\n",
        "\n",
        "car1= Car(\"small\", \"red\")\n",
        "Car.count_instance()\n",
        "\n",
        "car2=Car(\"big\", \"green\")\n",
        "Car.count_instance()"
      ],
      "execution_count": 82,
      "outputs": [
        {
          "output_type": "stream",
          "text": [
            "자동차 객체의 개수:0\n",
            "자동차 객체의 수 : 1\n",
            "자동차 객체의 개수:1\n",
            "자동차 객체의 수 : 2\n",
            "자동차 객체의 개수:2\n"
          ],
          "name": "stdout"
        }
      ]
    },
    {
      "cell_type": "code",
      "metadata": {
        "id": "0KGUwqx9T6el"
      },
      "source": [
        "robot_name = 'R1'\n",
        "robot_pos = 0\n",
        "\n",
        "def robot_move():\n",
        "  global robot_pos\n",
        "  robot_pos = robot_pos +1\n",
        "  print(\"{0} position: {1}\".format(robot_name, robot_pos))"
      ],
      "execution_count": 84,
      "outputs": []
    },
    {
      "cell_type": "code",
      "metadata": {
        "colab": {
          "base_uri": "https://localhost:8080/"
        },
        "id": "2Zmpl-8WhYn5",
        "outputId": "57ae8142-e7ea-4440-f039-b6b5cf3661ab"
      },
      "source": [
        "robot_move()"
      ],
      "execution_count": 85,
      "outputs": [
        {
          "output_type": "stream",
          "text": [
            "R1 position: 1\n"
          ],
          "name": "stdout"
        }
      ]
    },
    {
      "cell_type": "code",
      "metadata": {
        "id": "LRt6K58FhifM"
      },
      "source": [
        "robot1_name = 'R1'\n",
        "robot1_pos = 0\n",
        "\n",
        "def robot1_move():\n",
        "  global robot1_pos\n",
        "  robot1_pos = robot1_pos +1\n",
        "  print(\"{0} position: {1}\".format(robot1_name,robot1_pos))\n",
        "\n",
        "robot2_name = 'R2'\n",
        "robot2_pos = 10\n",
        "\n",
        "def robot2_move():\n",
        "  global robot2_pos\n",
        "  robot2_pos = robot2_pos+1\n",
        "  print(\"{0} position: {1}\".format(robot2_name, robot2_pos))\n"
      ],
      "execution_count": 89,
      "outputs": []
    },
    {
      "cell_type": "code",
      "metadata": {
        "colab": {
          "base_uri": "https://localhost:8080/"
        },
        "id": "YUHjCZZ_ih1Q",
        "outputId": "6a1ac43d-3410-4cc4-adab-c187076b6be8"
      },
      "source": [
        "robot1_move()\n",
        "robot2_move()"
      ],
      "execution_count": 91,
      "outputs": [
        {
          "output_type": "stream",
          "text": [
            "R1 position: 1\n",
            "R2 position: 11\n"
          ],
          "name": "stdout"
        }
      ]
    },
    {
      "cell_type": "code",
      "metadata": {
        "id": "zJhie_GdrJxR"
      },
      "source": [
        "class Robot():\n",
        "  def __init__(self,name,pos):\n",
        "    self.name = name\n",
        "    self.pos = pos\n",
        "\n",
        "  def move(self):\n",
        "    self.pos = self.pos+1\n",
        "    print(\"{0} position: {1}\".format(self.name, self.pos))"
      ],
      "execution_count": 2,
      "outputs": []
    },
    {
      "cell_type": "code",
      "metadata": {
        "id": "60iwWS43rxzF"
      },
      "source": [
        "robot1 = Robot('R1', 0)\n",
        "robot2 = Robot('R2',10)"
      ],
      "execution_count": 3,
      "outputs": []
    },
    {
      "cell_type": "code",
      "metadata": {
        "colab": {
          "base_uri": "https://localhost:8080/"
        },
        "id": "DlZbfgr8bzfL",
        "outputId": "53256b57-c998-40ee-ce5f-bb108b12fb25"
      },
      "source": [
        "robot1.move()\n",
        "robot2.move()"
      ],
      "execution_count": 5,
      "outputs": [
        {
          "output_type": "stream",
          "text": [
            "R1 position: 2\n",
            "R2 position: 11\n"
          ],
          "name": "stdout"
        }
      ]
    },
    {
      "cell_type": "code",
      "metadata": {
        "colab": {
          "base_uri": "https://localhost:8080/"
        },
        "id": "xQPdXMQ_cEce",
        "outputId": "ee35f108-da6f-4c82-e78b-107db1ffee8a"
      },
      "source": [
        "myRobot3 = Robot('R3', 30)\n",
        "myRobot4 = Robot('R4', 40)\n",
        "\n",
        "myRobot3.move()\n",
        "myRobot4.move()"
      ],
      "execution_count": 6,
      "outputs": [
        {
          "output_type": "stream",
          "text": [
            "R3 position: 31\n",
            "R4 position: 41\n"
          ],
          "name": "stdout"
        }
      ]
    },
    {
      "cell_type": "code",
      "metadata": {
        "id": "01X0Bnpccad3"
      },
      "source": [
        ""
      ],
      "execution_count": null,
      "outputs": []
    }
  ]
}